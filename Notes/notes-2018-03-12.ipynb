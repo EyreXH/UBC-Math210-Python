{
 "cells": [
  {
   "cell_type": "markdown",
   "metadata": {},
   "source": [
    "# MATH 210 Introduction to Mathematical Computing\n",
    "\n",
    "## March 12, 2018"
   ]
  },
  {
   "cell_type": "markdown",
   "metadata": {},
   "source": [
    "1. Linear slgebra applications\n",
    "    * linear regression\n",
    "    * Graham-Schmict algorithm"
   ]
  },
  {
   "cell_type": "code",
   "execution_count": 1,
   "metadata": {},
   "outputs": [],
   "source": [
    "import numpy as np\n",
    "import matplotlib.pyplot as plt\n",
    "import scipy.integrate as spi\n",
    "import scipy.linalg as la\n",
    "from numpy.linalg import matrix_power as mpow\n",
    "%matplotlib inline"
   ]
  },
  {
   "cell_type": "markdown",
   "metadata": {},
   "source": [
    "## Linear regression\n",
    "\n",
    "Let's make some fake data:"
   ]
  },
  {
   "cell_type": "code",
   "execution_count": 5,
   "metadata": {},
   "outputs": [
    {
     "data": {
      "image/png": "[encoded data removed]",
      "text/plain": [
       "<matplotlib.figure.Figure at 0x7fc860e0fef0>"
      ]
     },
     "metadata": {},
     "output_type": "display_data"
    }
   ],
   "source": [
    "N = 20 ; a = 2 ; b = 3\n",
    "x =np.linspace(0,10,N+1)\n",
    "noise = np.random.randn(N+1)\n",
    "y = a*x + 3 + noise\n",
    "plt.plot(x,y,'r.')\n",
    "plt.show()"
   ]
  },
  {
   "cell_type": "markdown",
   "metadata": {},
   "source": [
    "Let's use linear regression to fit a line to our data...\n",
    "\n",
    "The general idea pf linear regression is, given $N+1$ data points $\\{ (x_0,y_0),(x_1,y_1),\\dot,(x_N,y_N) \\}$, we want find coeffeicients $alpha$ and $beta$ such that the linear model\n",
    "\n",
    "$$\n",
    "t = \\alpha x + \\beta\n",
    "$$\n",
    "\n",
    "best fits the data by minimizing the sum of square errors:\n",
    "\n",
    "$$\n",
    "SSE = \\sum_{k=0}^N (y_k -(\\alpha x_k + \\beta))^2\n",
    "$$"
   ]
  },
  {
   "cell_type": "markdown",
   "metadata": {},
   "source": [
    "\n",
    "If we introduce matrices $X$ and $Y$ where\n",
    "\n",
    "$$\n",
    "X = \\begin{bmatrix} 1 & x_0 \\\\ 1 & x_1 \\\\ \\vdots & \\vdots \\\\\n",
    "1 & x_N \\end{bmatrix}\n",
    " \\ \\\n",
    "Y = \\begin{bmatrix} y_0 \\\\ y_1 \\\\ \\vdots \\\\ y_N \\end{bmatrix}\n",
    " \\ \\\n",
    "A = \\begin{bmatrix} \\beta \\\\ \\alpha \\end{bmatrix}\n",
    "$$\n",
    "\n",
    "$$\n",
    "SSE = \\|XA - Y\\|^2\n",
    "$$"
   ]
  },
  {
   "cell_type": "markdown",
   "metadata": {},
   "source": [
    "We need to find $A$ such that distance from $XA$ to $Y$ is minimal! The answer is the solution the equation: \n",
    "\n",
    "$$\n",
    "(X^T X)A = X^T (XA) = X^TY\n",
    "$$"
   ]
  },
  {
   "cell_type": "code",
   "execution_count": 12,
   "metadata": {},
   "outputs": [],
   "source": [
    "X = np.column_stack([np.ones(N+1),x])\n",
    "Y = y.reshape(N+1,1)"
   ]
  },
  {
   "cell_type": "code",
   "execution_count": 13,
   "metadata": {},
   "outputs": [],
   "source": [
    "A = la.solve(X.T @ X, X.T @ Y)"
   ]
  },
  {
   "cell_type": "code",
   "execution_count": 14,
   "metadata": {},
   "outputs": [
    {
     "name": "stdout",
     "output_type": "stream",
     "text": [
      "[[ 2.3537005 ]\n",
      " [ 2.11053023]]\n"
     ]
    }
   ],
   "source": [
    "print(A)"
   ]
  },
  {
   "cell_type": "code",
   "execution_count": 15,
   "metadata": {},
   "outputs": [],
   "source": [
    "y_model = A[0,0] + A[1,0]*x"
   ]
  },
  {
   "cell_type": "code",
   "execution_count": 17,
   "metadata": {},
   "outputs": [
    {
     "data": {
      "image/png": "[encoded data removed]",
      "text/plain": [
       "<matplotlib.figure.Figure at 0x7fc860e2e9b0>"
      ]
     },
     "metadata": {},
     "output_type": "display_data"
    }
   ],
   "source": [
    "plt.plot(x,y,'r.',x,y_model);"
   ]
  },
  {
   "cell_type": "markdown",
   "metadata": {},
   "source": [
    "We can do the same to fit a higher degree polynomial to data:\n",
    "\n",
    "If we introduce matrices $X$, $Y$ and $A$ where\n",
    "\n",
    "$$\n",
    "X = \\begin{bmatrix} \n",
    "1 & x_0 & x_0^2 & \\dots & x_0^d \\\\ \n",
    "1 & x_1 & x_1^2 & \\dots & x_1^d \\\\ \n",
    "\\vdots & & & & \\vdots \\\\\n",
    "1 & x_N & x_N^2 & \\dots & x_N^d \n",
    "\\end{bmatrix}\n",
    "\\ \\\n",
    "Y = \\begin{bmatrix} y_0 \\\\ y_1 \\\\ \\vdots \\\\ y_N \\end{bmatrix}\n",
    "\\ \\\n",
    "A = \\begin{bmatrix} a_0 \\\\ a_1 \\\\ \\dots \\\\ a_d \\end{bmatrix}\n",
    "$$\n",
    "\n",
    "then\n",
    "\n",
    "$$\n",
    "SSE = \\|XA - Y\\|^2\n",
    "$$\n",
    "\n",
    "Let's make some fake data:"
   ]
  },
  {
   "cell_type": "code",
   "execution_count": 3,
   "metadata": {},
   "outputs": [
    {
     "data": {
      "image/png": "[encoded data removed]",
      "text/plain": [
       "<Figure size 432x288 with 1 Axes>"
      ]
     },
     "metadata": {},
     "output_type": "display_data"
    }
   ],
   "source": [
    "N = 50; a_0 = 1; a_1 = 2; a_2 =5;\n",
    "x = np.linspace(-2,2,N+1)\n",
    "noise = np.random.randn(N+1)\n",
    "y = a_0 + a_1*x + a_2*x**2 + noise\n",
    "\n",
    "X = np.column_stack([np.ones(N+1),x,x**2])\n",
    "Y = y.reshape(N+1,1)\n",
    "\n",
    "A = la.solve(X.T @ X, X.T @ Y)\n",
    "\n",
    "y_model = A[0,0] + A[1,0]*x + A[2,0]*x**2\n",
    "\n",
    "plt.plot(x,y,'r.',x,y_model);"
   ]
  },
  {
   "cell_type": "code",
   "execution_count": null,
   "metadata": {},
   "outputs": [],
   "source": []
  }
 ],
 "metadata": {
  "kernelspec": {
   "display_name": "Python 3",
   "language": "python",
   "name": "python3"
  },
  "language_info": {
   "codemirror_mode": {
    "name": "ipython",
    "version": 3
   },
   "file_extension": ".py",
   "mimetype": "text/x-python",
   "name": "python",
   "nbconvert_exporter": "python",
   "pygments_lexer": "ipython3",
   "version": "3.6.4"
  }
 },
 "nbformat": 4,
 "nbformat_minor": 2
}
