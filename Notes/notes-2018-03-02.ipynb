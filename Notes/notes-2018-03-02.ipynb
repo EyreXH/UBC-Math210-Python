{
 "cells": [
  {
   "cell_type": "markdown",
   "metadata": {},
   "source": [
    "# MATH 210 Introduction to Mathematical Computing\n",
    "\n",
    "## March 02, 2018"
   ]
  },
  {
   "cell_type": "markdown",
   "metadata": {},
   "source": [
    "1. Error formulas for difference formulas\n",
    "2. Taylor polynomials"
   ]
  },
  {
   "cell_type": "code",
   "execution_count": 1,
   "metadata": {},
   "outputs": [],
   "source": [
    "import numpy as np\n",
    "import matplotlib.pyplot as plt\n",
    "import scipy.integrate as spi\n",
    "%matplotlib inline"
   ]
  },
  {
   "cell_type": "markdown",
   "metadata": {},
   "source": [
    "## Errors formulas for difference formulas\n",
    "\n",
    "### Forward\n",
    "The (forward) difference formula is:\n",
    "\n",
    "$$\n",
    "f'(a) \\approx \\frac{f(a+h)-f(a)}{h}\n",
    "$$"
   ]
  },
  {
   "cell_type": "markdown",
   "metadata": {},
   "source": [
    "Natural question: how good of an approximation is this?\n",
    "\n",
    "Let's look at the Taylor polynomial formula:\n",
    "\n",
    "$$\n",
    "f(x) = f(a) + f'(a)(x-a) + \\cdots + \\frac{f^{(n)}(a)}{n!}(x-a)^n + \\frac{f^{(n+1)}(c)}{(n+1)!}(x-a)^{n-1}\n",
    "$$\n",
    "\n",
    "for some $c$ between $x$ and $a$."
   ]
  },
  {
   "cell_type": "markdown",
   "metadata": {},
   "source": [
    "To find the error in the forward difference formula, let's look at the degree 1 Taylor formula:\n",
    "\n",
    "$$\n",
    "f(x) = f(a) + f'(a)(x-a) + \\frac{f''(c)}{2}(x-a)^2\n",
    "$$\n",
    "\n",
    "Let $x=a+h$ and write\n",
    "\n",
    "\\begin{align*}\n",
    "f(a+h) &= f(a) + f'(a)h + \\frac{f''(c)}{2}h^2 \\\\\n",
    "f(a+h) - f(a) &= f'(a)h + f'(a)h + \\frac{f''(c)}{2}h^2 \\\\\n",
    "\\frac{f(a+h) - f(a)}{h} &= f'(a)h + \\frac{f''(c)}{2}h \\\\\n",
    "\\frac{f(a+h) - f(a)}{h} - f'(a)h &= \\frac{f''(c)}{2}h \\\\\n",
    "\\end{align*}"
   ]
  },
  {
   "cell_type": "markdown",
   "metadata": {},
   "source": [
    "**Theorem.** The error in the forward difference formula is:\n",
    "\n",
    "$$\n",
    "\\left | \\frac{f(a+h) - f(a)}{h} - f'(a)h  \\right| \\leq \\frac{Mh}{2}\n",
    "$$\n",
    "\n",
    "where $|f''(x) \\leq M|$ for $x \\in [a,a+h]$.\n"
   ]
  },
  {
   "cell_type": "markdown",
   "metadata": {},
   "source": [
    "### Central difference formula\n",
    "\n",
    "The central difference formula is the average of the forward and backwards difference formulas:\n",
    "\n",
    "$$\n",
    "f'(a) \\approx \\frac{f(a+h)-f(a-h)}{2h}\n",
    "$$"
   ]
  },
  {
   "cell_type": "markdown",
   "metadata": {},
   "source": [
    "To derive a  formula for the error, Let's look at the Taylor polynomial of degree 2:\n",
    "\n",
    "$$\n",
    "f(x) = f(a) + f'(a)(x-a) + \\frac{f''(a)}{2}(x-a)^2 + \\frac{f'''(c)}{6}(x-a)^3\n",
    "$$"
   ]
  },
  {
   "cell_type": "markdown",
   "metadata": {},
   "source": [
    "Let $x = a + h$ and also $x = a - h$ and write\n",
    "\n",
    "\\begin{align*}\n",
    "f(a+h) &= f(a) + f'(a)h + \\frac{f''(a)}{2}h^2 + \\frac{f'''(c_1)}{6}h^3 \\\\\n",
    "f(a-h) &= f(a) - f'(a)h + \\frac{f''(a)}{2}h^2 - \\frac{f'''(c_2)}{6}h^3 \\\\\n",
    "f(a+h) - f(a-h) &= 2f'(a)h + \\frac{f'''(c_1)}{6}h^3 + \\frac{f'''(c_2)}{6}h^3 \\\\\n",
    "\\frac{f(a+h) - f(a-h)}{2h} -f'(a) &= \\frac{f'''(c_1) + f'''(c_2)}{12}h^2 \\\\\n",
    "\\end{align*}"
   ]
  },
  {
   "cell_type": "markdown",
   "metadata": {},
   "source": [
    "Notice that $f'''(x)$ is continuous (by assumption) and $(f'''(c_1) + f'''(c_2))/2$ is between $f'''(c_1)$ and $f'''(c_2)$ and so the exists some $c$ between $c_1$ and $c_2$ such that\n",
    "\n",
    "$$\n",
    "f'''(x) = \\frac{f'''(c_1) + f'''(c_2)}{2}\n",
    "$$\n",
    "\n",
    "by the intermediate Value Theorem."
   ]
  },
  {
   "cell_type": "markdown",
   "metadata": {},
   "source": [
    "**Theorem.**\n",
    "\n",
    "$$\n",
    "\\left| \\frac{f(a+h)-f(a-h)}{2h} - f'(a) \\right| \\leq \\frac{Mh^2}{6}\n",
    "$$\n",
    "\n",
    "where $|f''(x)| \\leq M$ for $x \\in [a-h,a+h]$"
   ]
  },
  {
   "cell_type": "markdown",
   "metadata": {},
   "source": [
    "Note that there error in the central difference formula has order $O(h^2)$ and the error in the forward difference formula is $O(h)$."
   ]
  },
  {
   "cell_type": "markdown",
   "metadata": {},
   "source": [
    "### Aside on big-O notation\n",
    "\n",
    "A function $f(x)$ has order $O(x^N)$ as $x \\to a$ if\n",
    "\n",
    "$$\n",
    "\\lim_{x \\to \\infty} \\frac{f(x)}{x^N} \\leq M\n",
    "$$\n",
    "\n",
    "for some constant M."
   ]
  },
  {
   "cell_type": "markdown",
   "metadata": {},
   "source": [
    "Let's write a function `central_diff` which takes input parameters $f$, $a$, $M$ and $e$ and returns and approximation of $f'(a)$ using the central difference formula such that the error is guranteed to be less than $e$."
   ]
  },
  {
   "cell_type": "code",
   "execution_count": 4,
   "metadata": {},
   "outputs": [],
   "source": [
    "def central_diff(f,a,M,e):\n",
    "    '''Compute the central difference formula for f(x) at x=a\n",
    "    \n",
    "    parameters\n",
    "    -----------\n",
    "    f : function of one variable\n",
    "    a : number where we compute the derivative f'(a)\n",
    "    M : number giving an upper bound on the absolute value of \n",
    "        the third derivative of f(x)\n",
    "    e : number setting the desired accuracy\n",
    "    \n",
    "    Returns\n",
    "    -----------\n",
    "    An approximation f'(a) = (f(a+h) - f(a-h))/2h where\n",
    "    h = (6*e/M)**0.5 guaranteeing the error is less than e.\n",
    "    '''\n",
    "    h = (6*e/M)**0.5\n",
    "    df_a = (f(a+h) - f(a-h))/(2*h)\n",
    "    return df_a"
   ]
  },
  {
   "cell_type": "code",
   "execution_count": 6,
   "metadata": {},
   "outputs": [
    {
     "data": {
      "text/plain": [
       "-0.99002995717855169"
      ]
     },
     "execution_count": 6,
     "metadata": {},
     "output_type": "execute_result"
    }
   ],
   "source": [
    "central_diff(np.cos,np.pi/2,1,0.01)"
   ]
  },
  {
   "cell_type": "markdown",
   "metadata": {},
   "source": [
    "Let's try $f(x) = 1/x$. Then $f'''(x)=\\frac{-6}{x^4}$, and so $|f'''(x)| \\leq 6$ as long as $x > 1$."
   ]
  },
  {
   "cell_type": "code",
   "execution_count": 7,
   "metadata": {},
   "outputs": [
    {
     "data": {
      "text/plain": [
       "-0.25006251562890874"
      ]
     },
     "execution_count": 7,
     "metadata": {},
     "output_type": "execute_result"
    }
   ],
   "source": [
    "central_diff(lambda x : 1/x, 2, 6, 0.001)"
   ]
  },
  {
   "cell_type": "code",
   "execution_count": null,
   "metadata": {},
   "outputs": [],
   "source": []
  }
 ],
 "metadata": {
  "kernelspec": {
   "display_name": "Python 3",
   "language": "python",
   "name": "python3"
  },
  "language_info": {
   "codemirror_mode": {
    "name": "ipython",
    "version": 3
   },
   "file_extension": ".py",
   "mimetype": "text/x-python",
   "name": "python",
   "nbconvert_exporter": "python",
   "pygments_lexer": "ipython3",
   "version": "3.6.4"
  }
 },
 "nbformat": 4,
 "nbformat_minor": 2
}
