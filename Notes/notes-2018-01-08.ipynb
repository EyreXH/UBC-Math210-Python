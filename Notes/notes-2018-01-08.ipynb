{
 "cells": [
  {
   "cell_type": "markdown",
   "metadata": {
    "collapsed": true
   },
   "source": [
    "# MATH 210 Introuduction to Mathematical Computing \n",
    "## January 8, 2018"
   ]
  },
  {
   "cell_type": "markdown",
   "metadata": {},
   "source": [
    "1. GitHub\n",
    "2. LaTeX\n",
    "3. Exercise"
   ]
  },
  {
   "cell_type": "markdown",
   "metadata": {},
   "source": [
    "## 1. GitHub\n",
    "\n",
    "[GitHub](https://github.com) is a social webdite for sharing software projects. I'll post our lecture notes on our [MATH 210 PAGE](https://github.com/ubc~math210).\n",
    "\n",
    "To clone the repo into your [ubc.sygygy.ca](https://ubc.syzygy.ca) account, open a new terminal and enter the command:\n",
    "\n",
    "```\n",
    "git clone https://github.com/ubc-math210/2018.git\n",
    "\n",
    "```"
   ]
  },
  {
   "cell_type": "markdown",
   "metadata": {},
   "source": [
    "## 2. LaTeX"
   ]
  },
  {
   "cell_type": "markdown",
   "metadata": {},
   "source": [
    "[LaTeX](https://www.latex-project.org) is a typesetting language for producing scientific documents. We are only going to use a *very* small part of it. In particular, we are just going to use the mathematical notation syntax."
   ]
  },
  {
   "cell_type": "markdown",
   "metadata": {},
   "source": [
    "Enclose LaTeX syntax in dollar signs `$...$` to display math inline. For example, $\\int_a^b f(x) dx = F(b) -F(a)$."
   ]
  },
  {
   "cell_type": "markdown",
   "metadata": {},
   "source": [
    "Enclose LaTeX syntax in double dollar signs `$$...$$` to display math as a centered paragraph. For example,\n",
    "\n",
    "$$\\int_a^b f(x) dx = F(b) -F(a)$$"
   ]
  },
  {
   "cell_type": "markdown",
   "metadata": {},
   "source": [
    "The derivative of $f(x)$ at $x=a$ is the limit\n",
    "$$\n",
    "f'(a)= \\lim_{x \\to a} \\frac{f(x)-f(a)}{x-a}\n",
    "$$"
   ]
  },
  {
   "cell_type": "markdown",
   "metadata": {},
   "source": [
    "The MacLaurin series of $e^x$ is the infinite series\n",
    "\n",
    "$$\n",
    "e^x=\\sum_{k = 0}^{\\infty} \\frac{x^k}{k!}=\\frac{x^0}{0!}+\\frac{x^1}{1!}+\\frac{x^2}{2!}+\\frac{x^3}{3!}+ \\cdots\n",
    "$$"
   ]
  },
  {
   "cell_type": "markdown",
   "metadata": {},
   "source": [
    "My favourite trigonometric identity is \n",
    "\n",
    "$$\n",
    "\\sin^2 \\theta + \\cos^2 \\theta = 1\n",
    "$$"
   ]
  },
  {
   "cell_type": "markdown",
   "metadata": {},
   "source": [
    "The surface area formula is\n",
    "\n",
    "$$\n",
    "S = \\int \\hspace{-3mm} \\int_D \\sqrt{[f_x]^2 +[f_y]^2 +1} \\,dA\n",
    "$$"
   ]
  },
  {
   "cell_type": "markdown",
   "metadata": {},
   "source": [
    "The inverse of a 2 by 2 matrix is\n",
    "\n",
    "$$\n",
    "\\begin{bmatrix} a & b \\\\ c & d \\end{bmatrix}\n",
    "=\n",
    "\\frac{1}{ad - bc}\n",
    "\\begin{bmatrix} d & -b \\\\ -c & a \\end{bmatrix}\n",
    "$$"
   ]
  },
  {
   "cell_type": "markdown",
   "metadata": {},
   "source": [
    "Check out Detexify to fined any symbol you can think of!"
   ]
  },
  {
   "cell_type": "markdown",
   "metadata": {},
   "source": [
    "$\\lambda$"
   ]
  },
  {
   "cell_type": "markdown",
   "metadata": {},
   "source": [
    "## 3. Exercise"
   ]
  },
  {
   "cell_type": "markdown",
   "metadata": {},
   "source": []
  }
 ],
 "metadata": {
  "kernelspec": {
   "display_name": "Python 3",
   "language": "python",
   "name": "python3"
  },
  "language_info": {
   "codemirror_mode": {
    "name": "ipython",
    "version": 3
   },
   "file_extension": ".py",
   "mimetype": "text/x-python",
   "name": "python",
   "nbconvert_exporter": "python",
   "pygments_lexer": "ipython3",
   "version": "3.6.4"
  }
 },
 "nbformat": 4,
 "nbformat_minor": 2
}
