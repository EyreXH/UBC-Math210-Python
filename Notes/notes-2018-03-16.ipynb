{
 "cells": [
  {
   "cell_type": "markdown",
   "metadata": {},
   "source": [
    "# MATH 210 Introduction to Mathematical Computing\n",
    "\n",
    "## March 16, 2018"
   ]
  },
  {
   "cell_type": "markdown",
   "metadata": {},
   "source": [
    "1. NumPy arrays\n",
    "2. Solving systems of ODEs by eigenvalue method"
   ]
  },
  {
   "cell_type": "code",
   "execution_count": 1,
   "metadata": {},
   "outputs": [],
   "source": [
    "import numpy as np\n",
    "import matplotlib.pyplot as plt\n",
    "import scipy.integrate as spi\n",
    "import scipy.linalg as la\n",
    "from numpy.linalg import matrix_power as mpow\n",
    "%matplotlib inline"
   ]
  },
  {
   "cell_type": "markdown",
   "metadata": {},
   "source": [
    "## 1. NumPy arrays\n",
    "\n",
    "Let's review some properties of NumPy arrays: shapes and dimensions.\n",
    "\n",
    "Think of a 1D NumPy arrays as a list of numbers. Think of a 2D NumPy array as a matrix. When we select a row or a column of a 2D NumPy array, the result is a 1D NumPy array.\n",
    "\n",
    "This is different compared to MATLAB. When you select a column from a matrix, it's returned as a column vector which is a 2D object."
   ]
  },
  {
   "cell_type": "code",
   "execution_count": 2,
   "metadata": {},
   "outputs": [
    {
     "name": "stdout",
     "output_type": "stream",
     "text": [
      "[[1 2 3]\n",
      " [4 5 6]\n",
      " [7 8 9]]\n"
     ]
    }
   ],
   "source": [
    "A = np.array([[1,2,3],[4,5,6],[7,8,9]])\n",
    "print(A)"
   ]
  },
  {
   "cell_type": "code",
   "execution_count": 3,
   "metadata": {},
   "outputs": [
    {
     "name": "stdout",
     "output_type": "stream",
     "text": [
      "[2 5 8]\n"
     ]
    }
   ],
   "source": [
    "v = A[:,1]\n",
    "print(v)"
   ]
  },
  {
   "cell_type": "code",
   "execution_count": 4,
   "metadata": {},
   "outputs": [
    {
     "data": {
      "text/plain": [
       "2"
      ]
     },
     "execution_count": 4,
     "metadata": {},
     "output_type": "execute_result"
    }
   ],
   "source": [
    "A.ndim"
   ]
  },
  {
   "cell_type": "code",
   "execution_count": 5,
   "metadata": {},
   "outputs": [
    {
     "data": {
      "text/plain": [
       "(3, 3)"
      ]
     },
     "execution_count": 5,
     "metadata": {},
     "output_type": "execute_result"
    }
   ],
   "source": [
    "A.shape"
   ]
  },
  {
   "cell_type": "code",
   "execution_count": 6,
   "metadata": {},
   "outputs": [
    {
     "data": {
      "text/plain": [
       "1"
      ]
     },
     "execution_count": 6,
     "metadata": {},
     "output_type": "execute_result"
    }
   ],
   "source": [
    "v.ndim"
   ]
  },
  {
   "cell_type": "code",
   "execution_count": 7,
   "metadata": {},
   "outputs": [
    {
     "data": {
      "text/plain": [
       "(3,)"
      ]
     },
     "execution_count": 7,
     "metadata": {},
     "output_type": "execute_result"
    }
   ],
   "source": [
    "v.shape"
   ]
  },
  {
   "cell_type": "markdown",
   "metadata": {},
   "source": [
    "If we want to make $v$ a column vector, in other words, a 2D matrix with 3 rows and 1 column, we need to reshape it! "
   ]
  },
  {
   "cell_type": "code",
   "execution_count": 8,
   "metadata": {},
   "outputs": [],
   "source": [
    "v = v.reshape(3,1)"
   ]
  },
  {
   "cell_type": "code",
   "execution_count": 9,
   "metadata": {},
   "outputs": [
    {
     "data": {
      "text/plain": [
       "array([[2],\n",
       "       [5],\n",
       "       [8]])"
      ]
     },
     "execution_count": 9,
     "metadata": {},
     "output_type": "execute_result"
    }
   ],
   "source": [
    "v"
   ]
  },
  {
   "cell_type": "code",
   "execution_count": 10,
   "metadata": {},
   "outputs": [
    {
     "data": {
      "text/plain": [
       "2"
      ]
     },
     "execution_count": 10,
     "metadata": {},
     "output_type": "execute_result"
    }
   ],
   "source": [
    "v.ndim"
   ]
  },
  {
   "cell_type": "code",
   "execution_count": 11,
   "metadata": {},
   "outputs": [
    {
     "data": {
      "text/plain": [
       "(3, 1)"
      ]
     },
     "execution_count": 11,
     "metadata": {},
     "output_type": "execute_result"
    }
   ],
   "source": [
    "v.shape"
   ]
  },
  {
   "cell_type": "markdown",
   "metadata": {},
   "source": [
    "## Differential equations\n",
    "\n",
    "A homogeneous first order linear system of differential equations is of the form:\n",
    "\n",
    "$$\n",
    "\\begin{align*}\n",
    "y'_0 & = a_{0,0} y_0 + \\cdots + a_{0,n}y_n \\\\\n",
    "y'_1 & = a_{1,0} y_1 + \\cdots + a_{1,n}y_n \\\\\n",
    "\\vdots & = \\\\\n",
    "y'_n & = a_{n,0} y_n + \\cdots + a_{n,n}y_n \\\\\n",
    "\\end{align*}\n",
    "$$\n",
    "\n",
    "where $y_0(t),y_1(t),\\dots, y_n(t)$ are unknown functions of a single variable $t$."
   ]
  },
  {
   "cell_type": "markdown",
   "metadata": {},
   "source": [
    "In matrix form, the system is $\\mathbf{y'}= A\\mathbf{y}$ where $A$ is the matrix of coefficients and $y = [y_0,y_1,\\dots,y_n]$"
   ]
  },
  {
   "cell_type": "markdown",
   "metadata": {},
   "source": [
    "How do we solve a system? Find the eigenvalues and eigenvectors! In particular, if $\\mathbf{v}$ is an eigenvector of $A$ with real eigenvalue $\\lambda$, then $\\mathbf{y}(t) = \\mathbf{C}\\mathbf{v} e^{\\lambda t}$ is a solution of $\\mathbf{y'}= A\\mathbf{y}$ (for any constant $\\mathbf{C}$)."
   ]
  },
  {
   "cell_type": "markdown",
   "metadata": {},
   "source": [
    "Find a solution of the system $\\mathbf{y}'=A\\mathbf{y}$ where \n",
    "\n",
    "$$\n",
    "A = \\begin{bmatrix} 1 & -3\\\\ -3 & 5 \\\\ \\end{bmatrix}\n",
    "$$"
   ]
  },
  {
   "cell_type": "code",
   "execution_count": 13,
   "metadata": {},
   "outputs": [],
   "source": [
    "A = np.array([[1,-3],[-3,5]])\n",
    "evals,evecs = la.eig(A)"
   ]
  },
  {
   "cell_type": "code",
   "execution_count": 14,
   "metadata": {},
   "outputs": [
    {
     "name": "stdout",
     "output_type": "stream",
     "text": [
      "[-0.60555128+0.j  6.60555128+0.j]\n"
     ]
    }
   ],
   "source": [
    "print(evals)"
   ]
  },
  {
   "cell_type": "code",
   "execution_count": 15,
   "metadata": {},
   "outputs": [
    {
     "data": {
      "text/plain": [
       "dtype('complex128')"
      ]
     },
     "execution_count": 15,
     "metadata": {},
     "output_type": "execute_result"
    }
   ],
   "source": [
    "evals.dtype"
   ]
  },
  {
   "cell_type": "code",
   "execution_count": 16,
   "metadata": {},
   "outputs": [],
   "source": [
    "evals = evals.real"
   ]
  },
  {
   "cell_type": "code",
   "execution_count": 17,
   "metadata": {},
   "outputs": [
    {
     "name": "stdout",
     "output_type": "stream",
     "text": [
      "[-0.60555128  6.60555128]\n"
     ]
    }
   ],
   "source": [
    "print(evals)"
   ]
  },
  {
   "cell_type": "code",
   "execution_count": 18,
   "metadata": {},
   "outputs": [
    {
     "name": "stdout",
     "output_type": "stream",
     "text": [
      "[[-0.8816746   0.47185793]\n",
      " [-0.47185793 -0.8816746 ]]\n"
     ]
    }
   ],
   "source": [
    "print(evecs)"
   ]
  },
  {
   "cell_type": "markdown",
   "metadata": {},
   "source": [
    "Let's take the first eigenvalue and eigenvector and plot the solution:\n",
    "\n",
    "$$\n",
    "\\mathbf{y}(t) = \\begin{bmatrix} y_0(t) \\\\ y_1(t) \\end{bmatrix} =\n",
    "\\begin{bmatrix} -0.8816746 \\\\ -0.47185793 \\end{bmatrix} e^{-0.60555128t} = \n",
    "\\begin{bmatrix} -0.8816746e^{-0.60555128t} \\\\ -0.47185793e^{-0.60555128t} \\end{bmatrix}  \n",
    "$$"
   ]
  },
  {
   "cell_type": "code",
   "execution_count": 20,
   "metadata": {},
   "outputs": [
    {
     "data": {
      "text/plain": [
       "<matplotlib.legend.Legend at 0x7f90391fda58>"
      ]
     },
     "execution_count": 20,
     "metadata": {},
     "output_type": "execute_result"
    },
    {
     "data": {
      "image/png": "[encoded data removed]",
      "text/plain": [
       "<matplotlib.figure.Figure at 0x7f90391fd748>"
      ]
     },
     "metadata": {},
     "output_type": "display_data"
    }
   ],
   "source": [
    "t = np.linspace(0,5,50)\n",
    "y0 = evecs[0,0]*np.exp(evals[0]*t)\n",
    "y1 = evecs[1,0]*np.exp(evals[0]*t)\n",
    "plt.plot(t,y0,t,y1);\n",
    "plt.legend(('$y_0(t)$','$y_1(t)'))"
   ]
  },
  {
   "cell_type": "markdown",
   "metadata": {},
   "source": [
    "If $A$ is an $n$ by $n$ matrix with $n$ distinct real eigenvalues $\\lambda_1$, ..., $\\lambda_n$ with eigenvectors $\\mathbf{v}_1$, ..., $\\mathbf{v}_n$, then the general form of the solution of the system $\\mathbf{y}' = A \\mathbf{y}$ is\n",
    "\n",
    "$$\n",
    "\\mathbf{y}(t) = C_1 \\mathbf{v}_1 e^{\\lambda_1 t} + \\cdots + C_n \\mathbf{v}_n e^{\\lambda_n t} \\ \\ , \\ \\ \\\n",
    "C_1, \\dots, C_n \\in \\mathbb{R}\n",
    "$$"
   ]
  },
  {
   "cell_type": "markdown",
   "metadata": {},
   "source": [
    "Let's find the unique solution of our system abve such that $\\mathbf{y}(0) = [1 \\ 1]^T$. The general solution is\n",
    "\n",
    "$$\n",
    "\\mathbf{y}(t) = C_0 \\mathbf{v}_0 e^{\\lambda_0 t} + C_1 \\mathbf{v}_1 e^{\\lambda_1 t}\n",
    "$$\n",
    "\n",
    "How do we find constant $C_0$ and $C_1$? We need to solve\n",
    "\n",
    "\n",
    "$$\n",
    "\\begin{bmatrix} 1 \\\\ 1 \\end{bmatrix}\n",
    "=\n",
    "C_0 \\mathbf{v}_0 + C_1 \\mathbf{v}_1\n",
    "=\n",
    "\\begin{bmatrix} \\mathbf{v}_0 & \\mathbf{v}_1 \\end{bmatrix}\n",
    "\\begin{bmatrix} C_0 \\\\ C_1 \\end{bmatrix}\n",
    "$$"
   ]
  },
  {
   "cell_type": "code",
   "execution_count": 21,
   "metadata": {},
   "outputs": [],
   "source": [
    "b = np.array([[1],[1]])\n",
    "C = la.solve(evecs,b)"
   ]
  },
  {
   "cell_type": "code",
   "execution_count": 22,
   "metadata": {},
   "outputs": [
    {
     "name": "stdout",
     "output_type": "stream",
     "text": [
      "[[-1.35353252]\n",
      " [-0.40981667]]\n"
     ]
    }
   ],
   "source": [
    "print(C)"
   ]
  },
  {
   "cell_type": "code",
   "execution_count": null,
   "metadata": {},
   "outputs": [],
   "source": []
  }
 ],
 "metadata": {
  "kernelspec": {
   "display_name": "Python 3",
   "language": "python",
   "name": "python3"
  },
  "language_info": {
   "codemirror_mode": {
    "name": "ipython",
    "version": 3
   },
   "file_extension": ".py",
   "mimetype": "text/x-python",
   "name": "python",
   "nbconvert_exporter": "python",
   "pygments_lexer": "ipython3",
   "version": "3.6.4"
  }
 },
 "nbformat": 4,
 "nbformat_minor": 2
}
