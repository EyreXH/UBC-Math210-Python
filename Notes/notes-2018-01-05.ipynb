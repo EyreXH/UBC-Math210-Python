{
 "cells": [
  {
   "cell_type": "markdown",
   "metadata": {
    "collapsed": true
   },
   "source": [
    "# MATH 210 Introuduction to Mathematical Computing \n",
    "## January 5, 2018\n",
    "\n",
    "1. Jupyter Notebooks\n",
    "    * Cells\n",
    "    * Modes\n",
    "    * Keyboard shortcuts\n",
    "2. Markdown\n",
    "    * Text\n",
    "    * Headings\n",
    "    * Lists\n",
    "    * Links\n",
    "    * Images"
   ]
  },
  {
   "cell_type": "markdown",
   "metadata": {},
   "source": [
    "## Jupyter Notebooks"
   ]
  },
  {
   "cell_type": "markdown",
   "metadata": {},
   "source": [
    "### Cells"
   ]
  },
  {
   "cell_type": "markdown",
   "metadata": {},
   "source": [
    "There are 2 types of cells used most often: code cells and markdown cells. Everything we see here is a markdown cell. Markdown cells contain text, markdown, HTML, images, videos, whatever a browser can understand."
   ]
  },
  {
   "cell_type": "markdown",
   "metadata": {},
   "source": [
    "Code cells have Python code, which executes when we hit SHIFT-ENTER and the output is displayed below."
   ]
  },
  {
   "cell_type": "code",
   "execution_count": 1,
   "metadata": {},
   "outputs": [
    {
     "data": {
      "text/plain": [
       "15"
      ]
     },
     "execution_count": 1,
     "metadata": {},
     "output_type": "execute_result"
    }
   ],
   "source": [
    "1+2+3+4+5"
   ]
  },
  {
   "cell_type": "code",
   "execution_count": 2,
   "metadata": {},
   "outputs": [
    {
     "data": {
      "text/plain": [
       "0.30000000000000004"
      ]
     },
     "execution_count": 2,
     "metadata": {},
     "output_type": "execute_result"
    }
   ],
   "source": [
    "0.1+0.2"
   ]
  },
  {
   "cell_type": "markdown",
   "metadata": {},
   "source": [
    "### Modes"
   ]
  },
  {
   "cell_type": "markdown",
   "metadata": {},
   "source": [
    "There are 2 modes: edit mode and command mode. Edit mode is when the cursor appears in the cell and we can edit the code/text in the cell. It is indicated with a green border."
   ]
  },
  {
   "cell_type": "markdown",
   "metadata": {},
   "source": [
    "Command mode is when the cursor is not in the cell and we can edit the cells in the notebook: insert, cut, cpy, change cell type, etc. It is indicated by a blue border."
   ]
  },
  {
   "cell_type": "markdown",
   "metadata": {},
   "source": [
    "We can switch between modes using ESC and ENTER."
   ]
  },
  {
   "cell_type": "markdown",
   "metadata": {},
   "source": [
    "### Keyboard Shortcuts"
   ]
  },
  {
   "cell_type": "markdown",
   "metadata": {},
   "source": [
    "| Shortcut | Command Mode Action |\n",
    "| :---: | :---: |\n",
    "| Y | switch to code cell |\n",
    "| M | switch to markdown cell |\n",
    "| S | save |\n",
    "| X | cut cell|\n",
    "| V | paste cell below|\n",
    "| C | copy cell|"
   ]
  },
  {
   "cell_type": "markdown",
   "metadata": {},
   "source": [
    "## Markdown"
   ]
  },
  {
   "cell_type": "markdown",
   "metadata": {},
   "source": [
    "### Text"
   ]
  },
  {
   "cell_type": "markdown",
   "metadata": {},
   "source": [
    "we write text as normal but we can add style:\n",
    "\n",
    "* Use asterisks for *emphasis*\n",
    "* Use double asterisks for **bold**\n",
    "* Use back ticks for `monospace` (ie. code font)\n",
    "\n",
    "Use hash for headings:\n",
    "\n",
    "# Heading 1\n",
    "\n",
    "## Heading 2\n",
    "\n",
    "### Heading 3\n",
    "\n",
    "###### Heading 6"
   ]
  },
  {
   "cell_type": "markdown",
   "metadata": {},
   "source": [
    "### Links"
   ]
  },
  {
   "cell_type": "markdown",
   "metadata": {},
   "source": [
    "Use the syntax `[descreption](url)`. For example: check out ubc math department [webpage](http://www.math.ubc.ca)."
   ]
  },
  {
   "cell_type": "markdown",
   "metadata": {},
   "source": [
    "### Images"
   ]
  },
  {
   "cell_type": "markdown",
   "metadata": {},
   "source": [
    "Use the syntax `![descreption](url)`. For example:\n",
    "\n",
    "![Python](http://www.unixstickers.com/image/cache/data/stickers/python/python.sh-180x180.png)"
   ]
  },
  {
   "cell_type": "markdown",
   "metadata": {},
   "source": [
    "### Lists"
   ]
  },
  {
   "cell_type": "markdown",
   "metadata": {},
   "source": [
    "Create ordered lists:\n",
    "\n",
    "1. MATH 303 Stochastic process\n",
    "2. BIOL 201 Biochemistry\n",
    "3. STAT 443 Time series"
   ]
  },
  {
   "cell_type": "markdown",
   "metadata": {},
   "source": [
    "Create unorder lists:\n",
    "\n",
    "* Tronto\n",
    "* Los Angeles\n",
    "* Vancouver\n",
    "* Moose Jaw\n",
    "* Medicine Hat\n",
    "* Alert"
   ]
  },
  {
   "cell_type": "markdown",
   "metadata": {},
   "source": [
    "### Tables"
   ]
  },
  {
   "cell_type": "markdown",
   "metadata": {},
   "source": [
    "create a table:\n",
    "\n",
    "| Country | Capital |\n",
    "| :---: | :---: |\n",
    "| Canada | Ottawa|\n",
    "| Brazil | Brazilia |\n",
    "| Keny | Nairobi|"
   ]
  },
  {
   "cell_type": "code",
   "execution_count": null,
   "metadata": {
    "collapsed": true
   },
   "outputs": [],
   "source": []
  }
 ],
 "metadata": {
  "kernelspec": {
   "display_name": "Python 3",
   "language": "python",
   "name": "python3"
  },
  "language_info": {
   "codemirror_mode": {
    "name": "ipython",
    "version": 3
   },
   "file_extension": ".py",
   "mimetype": "text/x-python",
   "name": "python",
   "nbconvert_exporter": "python",
   "pygments_lexer": "ipython3",
   "version": "3.6.4"
  }
 },
 "nbformat": 4,
 "nbformat_minor": 2
}
