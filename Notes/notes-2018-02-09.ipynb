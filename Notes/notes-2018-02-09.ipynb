{
 "cells": [
  {
   "cell_type": "markdown",
   "metadata": {},
   "source": [
    "# MATH 210 Introduction to Mathematical Computing\n",
    "\n",
    "## February 9, 2018"
   ]
  },
  {
   "cell_type": "markdown",
   "metadata": {},
   "source": [
    "1. Docstring styles\n",
    "2. Keyword arguments (and default values)\n",
    "3. Numerical Integration\n",
    "    * Riemann sums\n",
    "    * Trapezoid rule"
   ]
  },
  {
   "cell_type": "code",
   "execution_count": 1,
   "metadata": {},
   "outputs": [],
   "source": [
    "import numpy as np\n",
    "import matplotlib.pyplot as plt\n",
    "%matplotlib inline"
   ]
  },
  {
   "cell_type": "markdown",
   "metadata": {},
   "source": [
    "## 1. Docstring styles\n",
    "\n",
    "I recommend (but it's up to you) a style simiplar to Google's Python style quide for docstrings:\n",
    "```\n",
    "def funtion_name(param1,param2,param3):\n",
    "    '''First line is a one-lin egeneral summary.\n",
    "    \n",
    "    A long paragraph describing the function and relevant\n",
    "    equations or algorithms used in the function.\n",
    "    \n",
    "    Input:\n",
    "          param1 : state the datatype(s) for the parameter\n",
    "          param2 : state the datatype(s) for the parameter\n",
    "          param3 : state the datatype(s) for the parameter \n",
    "          and continue with more details if necessary on a \n",
    "          new set of indented lines. \n",
    "\n",
    "    Output:\n",
    "          A description of the output of the function including \n",
    "          the datatype(s) of the output. Also describe special behaviour.\n",
    "    \n",
    "    Example:\n",
    "        >>> function_name(1,2,3)\n",
    "        1.2345\n",
    "```"
   ]
  },
  {
   "cell_type": "markdown",
   "metadata": {},
   "source": [
    "## 2. Keyword arguments\n",
    "\n",
    "When we define functions, we list the input parameters. These are called positional parameters (or positional arguments) because the position in the def statement determines which parameter is which."
   ]
  },
  {
   "cell_type": "code",
   "execution_count": 6,
   "metadata": {},
   "outputs": [],
   "source": [
    "def poly(x,y):\n",
    "    \"Compute x + y**2\"\n",
    "    return x+y**2"
   ]
  },
  {
   "cell_type": "code",
   "execution_count": 7,
   "metadata": {},
   "outputs": [
    {
     "data": {
      "text/plain": [
       "5"
      ]
     },
     "execution_count": 7,
     "metadata": {},
     "output_type": "execute_result"
    }
   ],
   "source": [
    "poly(1,2)"
   ]
  },
  {
   "cell_type": "code",
   "execution_count": 8,
   "metadata": {},
   "outputs": [
    {
     "data": {
      "text/plain": [
       "3"
      ]
     },
     "execution_count": 8,
     "metadata": {},
     "output_type": "execute_result"
    }
   ],
   "source": [
    "poly(2,1)"
   ]
  },
  {
   "cell_type": "markdown",
   "metadata": {},
   "source": [
    "A keyword parameter allows us to sert default values for some parameters and we call them by name and the order doesn't matter."
   ]
  },
  {
   "cell_type": "code",
   "execution_count": 13,
   "metadata": {},
   "outputs": [],
   "source": [
    "def greeting(first_name,last_name,salutation='Hello, '):\n",
    "    return \"{0}{1} {2}! \".format(salutation,first_name, last_name)"
   ]
  },
  {
   "cell_type": "code",
   "execution_count": 14,
   "metadata": {},
   "outputs": [
    {
     "data": {
      "text/plain": [
       "'Hello, Patrick Walls! '"
      ]
     },
     "execution_count": 14,
     "metadata": {},
     "output_type": "execute_result"
    }
   ],
   "source": [
    "greeting('Patrick','Walls')"
   ]
  },
  {
   "cell_type": "code",
   "execution_count": 15,
   "metadata": {},
   "outputs": [
    {
     "data": {
      "text/plain": [
       "'Hello, Walls Patrick! '"
      ]
     },
     "execution_count": 15,
     "metadata": {},
     "output_type": "execute_result"
    }
   ],
   "source": [
    "greeting('Walls','Patrick')"
   ]
  },
  {
   "cell_type": "code",
   "execution_count": 16,
   "metadata": {},
   "outputs": [
    {
     "data": {
      "text/plain": [
       "'I love you LeBron James! '"
      ]
     },
     "execution_count": 16,
     "metadata": {},
     "output_type": "execute_result"
    }
   ],
   "source": [
    "greeting('LeBron','James',salutation='I love you ')"
   ]
  },
  {
   "cell_type": "markdown",
   "metadata": {},
   "source": [
    "In this function, `first_name` and `last_name` are positional arguments and `salutation` is a keyword argument."
   ]
  },
  {
   "cell_type": "markdown",
   "metadata": {},
   "source": [
    "For example, the function `pandas.read_csv` in the `pandas` package has *many* keyword arguments:"
   ]
  },
  {
   "cell_type": "code",
   "execution_count": 20,
   "metadata": {},
   "outputs": [],
   "source": [
    "import pandas as pd"
   ]
  },
  {
   "cell_type": "markdown",
   "metadata": {},
   "source": [
    "## 3. Numerical integration\n",
    "\n",
    "We've already seen left, right and midpoint Riemann sums. For example, the left Riemann sum of $f(x)$ over the interval $[a,b]$ using a partition of size $N$ is:\n",
    "\n",
    "$$\n",
    "\\int_a^b f(x) \\ , dx \\approx \\sum_{k=1}^{N} f(x_{k-1}) \\Delta x_k\n",
    "$$\n",
    "\n",
    "where $x_0 = a,x_1,...,x_N = b$ and $\\Delta x_k = x_k - x_{k-1}$"
   ]
  },
  {
   "cell_type": "markdown",
   "metadata": {},
   "source": [
    "A better approximation is the trapzoid rule:\n",
    "\n",
    "$$\n",
    "\\int_a^b f(x) \\, dx \\approx  \\frac{1}{2} \\sum_{k=1}^{N} (f(x_k) + f(x_{k-1})) \\Delta k\n",
    "$$\n",
    "\n",
    "where $x_0 = a,x_1,...,x_N = b$ and $\\Delta x_k = x_k - x_{k-1}$"
   ]
  },
  {
   "cell_type": "markdown",
   "metadata": {},
   "source": [
    "Notice that the trapezoid rule is the average of the left and right Riemann sums!"
   ]
  },
  {
   "cell_type": "markdown",
   "metadata": {},
   "source": [
    "Let's write a function called `trapz` which takes input parameters $f$, $a$, $b$ and returns an approximation of $\\int_a^b f(x) dx$ using the trapezoid rule with a partition of length $ N$ (evenly spaced points). Set default values $a=0,b=1$ and $N=50$."
   ]
  },
  {
   "cell_type": "code",
   "execution_count": 2,
   "metadata": {},
   "outputs": [],
   "source": [
    "def trapz(f,a=0,b=1,N=50):\n",
    "    '''\n",
    "    \"Approximate integral f(x) form a to b using trapezoid rule.\"\n",
    "    \n",
    "    Input:\n",
    "        f : vectorized function of a single variable.\n",
    "        a,b : numbers defining the interval of integration.\n",
    "        N : integer setting the length of the partition.\n",
    "    Output:\n",
    "        Approximate value of integral of f(x) from a to b using\n",
    "        the trapezoid rule with partition of length N.\n",
    "        \n",
    "    Example:\n",
    "        >>> trpz(np.exp)\n",
    "    '''\n",
    "    x = np.linspace(a,b,N)\n",
    "    y = f(x)\n",
    "    Delta_x = (b-a)/N\n",
    "    integral = 0.5 * Delta_x * (y[1:] + y[:-1]).sum()\n",
    "    return integral"
   ]
  },
  {
   "cell_type": "code",
   "execution_count": 3,
   "metadata": {},
   "outputs": [
    {
     "data": {
      "text/plain": [
       "0.99899979417741058"
      ]
     },
     "execution_count": 3,
     "metadata": {},
     "output_type": "execute_result"
    }
   ],
   "source": [
    "trapz(np.sin,a=0,b=np.pi/2,N=1000)"
   ]
  },
  {
   "cell_type": "code",
   "execution_count": null,
   "metadata": {},
   "outputs": [],
   "source": []
  }
 ],
 "metadata": {
  "kernelspec": {
   "display_name": "Python 3",
   "language": "python",
   "name": "python3"
  },
  "language_info": {
   "codemirror_mode": {
    "name": "ipython",
    "version": 3
   },
   "file_extension": ".py",
   "mimetype": "text/x-python",
   "name": "python",
   "nbconvert_exporter": "python",
   "pygments_lexer": "ipython3",
   "version": "3.6.4"
  }
 },
 "nbformat": 4,
 "nbformat_minor": 2
}
