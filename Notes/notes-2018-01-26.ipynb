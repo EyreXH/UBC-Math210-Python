{
 "cells": [
  {
   "cell_type": "markdown",
   "metadata": {},
   "source": [
    "# MATH 210 Introduction to Mathematical Computing\n",
    "\n",
    "## January 26, 2018"
   ]
  },
  {
   "cell_type": "markdown",
   "metadata": {},
   "source": [
    "1. Systematic approach to program design\n",
    "2. Examples"
   ]
  },
  {
   "cell_type": "markdown",
   "metadata": {},
   "source": [
    "## 1. Systematic approach to pregram design\n",
    "\n",
    "### Elliptic curves\n",
    "\n",
    "write a function called `elliptic` which takes input parameters `A`,`B`,`C`, `x_range` and `y_range` where:\n",
    "\n",
    "* `A`, `B`, and `C` are integers\n",
    "* `x_range` and `y_range` are lists of length 2 representing closed intervals $[x_0,x_1]$ and $[y_0,y_1]$\n",
    "\n",
    "The function returns the list of integer solutions of the elliptic curve:\n",
    "\n",
    "$$\n",
    "y^2=Ax^3 +Bx+C\n",
    "$$\n",
    "\n",
    "where $x \\in [x_0,x_1]$ and $[y_0,y_1]$."
   ]
  },
  {
   "cell_type": "markdown",
   "metadata": {},
   "source": [
    "Steps towards a solution:\n",
    "\n",
    "1. Identify the input parameters and their types\n",
    "2. Identify the output parameters and their types\n",
    "3. Write a stub (ie. a short function that takes the correct number of input parameters and returns the correct type of output parameters)\n",
    "4. Write some tests\n",
    "5. Write the documentation string\n",
    "6. Write pseudocode to outline the program\n",
    "7. Write it and test OFTEN!"
   ]
  },
  {
   "cell_type": "markdown",
   "metadata": {},
   "source": [
    "* INput parameters are:\n",
    "    * `A`, `B` and `C` are integers (represent an elliptic curve $y^2 = Ax^3 + Bx + C$)\n",
    "    * `x_range` and `y_range` are lists of length 2 representing closed intervals $[x_0,x_1]$ and $[y_0,y_1]$\n",
    "* Output is a list of tuples representing integer solutions of the equation\n",
    "* Write a stub:"
   ]
  },
  {
   "cell_type": "code",
   "execution_count": 8,
   "metadata": {},
   "outputs": [],
   "source": [
    "def elliptic(A,B,C,x_range,y_range):\n",
    "    \"\"\n",
    "    solutions = set([(1,-2),(1,2)])\n",
    "    return solutions"
   ]
  },
  {
   "cell_type": "markdown",
   "metadata": {},
   "source": [
    "Write tests:"
   ]
  },
  {
   "cell_type": "code",
   "execution_count": 9,
   "metadata": {},
   "outputs": [
    {
     "data": {
      "text/plain": [
       "True"
      ]
     },
     "execution_count": 9,
     "metadata": {},
     "output_type": "execute_result"
    }
   ],
   "source": [
    "elliptic(1,1,2,[0,1],[-2,2]) == set([(1,2),(1,-2)])"
   ]
  },
  {
   "cell_type": "code",
   "execution_count": 4,
   "metadata": {},
   "outputs": [
    {
     "data": {
      "text/plain": [
       "True"
      ]
     },
     "execution_count": 4,
     "metadata": {},
     "output_type": "execute_result"
    }
   ],
   "source": [
    "set([1,2]) == set([2,1])"
   ]
  },
  {
   "cell_type": "code",
   "execution_count": 18,
   "metadata": {},
   "outputs": [
    {
     "name": "stdout",
     "output_type": "stream",
     "text": [
      "Test 1 : True\n",
      "Test 2 : True\n"
     ]
    }
   ],
   "source": [
    "def elliptic(A,B,C,x_range,y_range):\n",
    "    '''Find all integer solutions of y^2 = Ax^3+Bx+C.\n",
    "    \n",
    "    Input:\n",
    "            A,B,C : integers, coefficient of the eqautions\n",
    "            x_range: list of length 2 defining a closed interval of x values\n",
    "            y_range: list of length 2 defining a closed interval of y values\n",
    "    Output:\n",
    "            A list of tuples representing all integers solutions of the equation.\n",
    "    Example:\n",
    "        >>> Elliptic(1,1,2,[0,1],[-2,2])\n",
    "        [(1,2),(1,-2)]\n",
    "    '''\n",
    "    solutions = []\n",
    "    for x in range(x_range[0],x_range[1]+1):\n",
    "        for y in range(y_range[0],y_range[1]+1):\n",
    "            if y**2 == A*x**3 + B*x + C:\n",
    "                solutions.append((x,y))\n",
    "    return solutions        \n",
    "\n",
    "# Tests\n",
    "test1 = set(elliptic(0,0,0,[0,1],[0,1])) == set([(0,0),(1,0)])\n",
    "test2 = set(elliptic(1,1,2,[0,1],[-2,2])) == set([(1,2),(1,-2)])\n",
    "print('Test 1 :', test1)\n",
    "print('Test 2 :', test2)"
   ]
  },
  {
   "cell_type": "markdown",
   "metadata": {},
   "source": [
    "* Write some pseudocodes\n",
    "```\n",
    "solutions = []\n",
    "for x in x_range\n",
    "    for y in y_range\n",
    "        if y^2 = Ax^3 + Bx + C:\n",
    "        solutions.append((x,y))\n",
    "return solution        \n",
    "```"
   ]
  },
  {
   "cell_type": "code",
   "execution_count": null,
   "metadata": {},
   "outputs": [],
   "source": [
    "ell"
   ]
  }
 ],
 "metadata": {
  "kernelspec": {
   "display_name": "Python 3",
   "language": "python",
   "name": "python3"
  },
  "language_info": {
   "codemirror_mode": {
    "name": "ipython",
    "version": 3
   },
   "file_extension": ".py",
   "mimetype": "text/x-python",
   "name": "python",
   "nbconvert_exporter": "python",
   "pygments_lexer": "ipython3",
   "version": "3.6.4"
  }
 },
 "nbformat": 4,
 "nbformat_minor": 2
}
