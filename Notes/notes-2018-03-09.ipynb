{
 "cells": [
  {
   "cell_type": "markdown",
   "metadata": {},
   "source": [
    "# MATH 210 Introduction to Mathematical Computing\n",
    "\n",
    "## March 09, 2018"
   ]
  },
  {
   "cell_type": "markdown",
   "metadata": {},
   "source": [
    "1. Linear algebra\n",
    "    * Determinants, transpose, inverse, trace\n",
    "    * Eigenvalues and eigenvectors\n",
    "2. Example: Cayley Hamilton Theorem\n",
    "3. Example: Symmetric matrices"
   ]
  },
  {
   "cell_type": "code",
   "execution_count": 4,
   "metadata": {},
   "outputs": [],
   "source": [
    "import numpy as np\n",
    "import matplotlib.pyplot as plt\n",
    "import scipy.integrate as spi\n",
    "import scipy.linalg as la\n",
    "from numpy.linalg import matrix_power as mpow\n",
    "%matplotlib inline"
   ]
  },
  {
   "cell_type": "markdown",
   "metadata": {},
   "source": [
    "## 1. Linear algebra with Scipy\n",
    "\n",
    "Last time we defined functions for elementary matrix operations. Let's finish with the last one: `scale_row`."
   ]
  },
  {
   "cell_type": "code",
   "execution_count": 6,
   "metadata": {},
   "outputs": [],
   "source": [
    "def add_row(A,k,i,j):\n",
    "    \"Add k times row i to row j in matrix A (using 0 indexing).\"\n",
    "    m = A.shape[0]\n",
    "    E = np.eye(m)\n",
    "    if i != j:\n",
    "        E[j,i] = k\n",
    "    else:\n",
    "        E[i,j] = k+1\n",
    "    return E@A\n",
    "\n",
    "def swap_row(A,i,j):\n",
    "    \"Swap rows i and j matrix A (using 0 indexing).\"\n",
    "    nrows = A.shape[0]\n",
    "    E = np.eye(nrows)\n",
    "    E[i,i] = 0\n",
    "    E[j,j] = 0\n",
    "    E[i,j] = 1\n",
    "    E[j,i] = 1\n",
    "    return E@A\n",
    "\n",
    "def scale_row(A,k,i):\n",
    "    \"Multiply row i by k in matrix (using 0 indexing).\"\n",
    "    nrows = A.shape[0] # The number of rows in A\n",
    "    E = np.eye(nrows)\n",
    "    E[i,i] = k\n",
    "    return E@A"
   ]
  },
  {
   "cell_type": "code",
   "execution_count": 8,
   "metadata": {},
   "outputs": [],
   "source": [
    "A = np.array([[6,15,1],[8,7,12],[2,7,8]])\n",
    "b = np.array([[2],[14],[10]])"
   ]
  },
  {
   "cell_type": "code",
   "execution_count": 9,
   "metadata": {},
   "outputs": [
    {
     "name": "stdout",
     "output_type": "stream",
     "text": [
      "[[ 6 15  1]\n",
      " [ 8  7 12]\n",
      " [ 2  7  8]]\n"
     ]
    }
   ],
   "source": [
    "print(A)"
   ]
  },
  {
   "cell_type": "code",
   "execution_count": 10,
   "metadata": {},
   "outputs": [
    {
     "name": "stdout",
     "output_type": "stream",
     "text": [
      "[[ 6 15  1  2]\n",
      " [ 8  7 12 14]\n",
      " [ 2  7  8 10]]\n"
     ]
    }
   ],
   "source": [
    "M = np.hstack([A,b])\n",
    "print(M)"
   ]
  },
  {
   "cell_type": "code",
   "execution_count": 15,
   "metadata": {},
   "outputs": [
    {
     "name": "stdout",
     "output_type": "stream",
     "text": [
      "[[  1.           2.5          0.16666667   0.33333333]\n",
      " [  8.           7.          12.          14.        ]\n",
      " [  2.           7.           8.          10.        ]]\n"
     ]
    }
   ],
   "source": [
    "M1 = scale_row(M,1/6,0)\n",
    "print(M1)"
   ]
  },
  {
   "cell_type": "code",
   "execution_count": 16,
   "metadata": {},
   "outputs": [
    {
     "name": "stdout",
     "output_type": "stream",
     "text": [
      "[[  1.           2.5          0.16666667   0.33333333]\n",
      " [  0.         -13.          10.66666667  11.33333333]\n",
      " [  2.           7.           8.          10.        ]]\n"
     ]
    }
   ],
   "source": [
    "M2 = add_row(M1,-8,0,1)\n",
    "print(M2)"
   ]
  },
  {
   "cell_type": "code",
   "execution_count": 17,
   "metadata": {},
   "outputs": [
    {
     "name": "stdout",
     "output_type": "stream",
     "text": [
      "[[  1.           2.5          0.16666667   0.33333333]\n",
      " [  0.         -13.          10.66666667  11.33333333]\n",
      " [  0.           2.           7.66666667   9.33333333]]\n"
     ]
    }
   ],
   "source": [
    "M3 = add_row(M2,-2,0,2)\n",
    "print(M3)"
   ]
  },
  {
   "cell_type": "code",
   "execution_count": 19,
   "metadata": {},
   "outputs": [
    {
     "name": "stdout",
     "output_type": "stream",
     "text": [
      "[[ 1.          2.5         0.16666667  0.33333333]\n",
      " [ 0.          1.         -0.82051282 -0.87179487]\n",
      " [ 0.          2.          7.66666667  9.33333333]]\n"
     ]
    }
   ],
   "source": [
    "M4 = scale_row(M3,-1/13,1)\n",
    "print(M4)"
   ]
  },
  {
   "cell_type": "code",
   "execution_count": 20,
   "metadata": {},
   "outputs": [
    {
     "name": "stdout",
     "output_type": "stream",
     "text": [
      "[[  1.           2.5          0.16666667   0.33333333]\n",
      " [  0.           1.          -0.82051282  -0.87179487]\n",
      " [  0.           0.           9.30769231  11.07692308]]\n"
     ]
    }
   ],
   "source": [
    "M5 = add_row(M4,-2,1,2)\n",
    "print(M5)"
   ]
  },
  {
   "cell_type": "code",
   "execution_count": 21,
   "metadata": {},
   "outputs": [
    {
     "name": "stdout",
     "output_type": "stream",
     "text": [
      "[[ 1.          2.5         0.16666667  0.33333333]\n",
      " [ 0.          1.         -0.82051282 -0.87179487]\n",
      " [ 0.          0.          1.          1.19008264]]\n"
     ]
    }
   ],
   "source": [
    "M6 = scale_row(M5,1/M5[2,2],2)\n",
    "print(M6)"
   ]
  },
  {
   "cell_type": "code",
   "execution_count": 22,
   "metadata": {},
   "outputs": [
    {
     "name": "stdout",
     "output_type": "stream",
     "text": [
      "[[ 1.          2.5         0.16666667  0.33333333]\n",
      " [ 0.          1.          0.          0.1046832 ]\n",
      " [ 0.          0.          1.          1.19008264]]\n"
     ]
    }
   ],
   "source": [
    "M7 = add_row(M6,-M6[1,2],2,1)\n",
    "print(M7)"
   ]
  },
  {
   "cell_type": "code",
   "execution_count": 23,
   "metadata": {},
   "outputs": [
    {
     "name": "stdout",
     "output_type": "stream",
     "text": [
      "[[ 1.          2.5         0.          0.13498623]\n",
      " [ 0.          1.          0.          0.1046832 ]\n",
      " [ 0.          0.          1.          1.19008264]]\n"
     ]
    }
   ],
   "source": [
    "M8 = add_row(M7,-M7[0,2],2,0)\n",
    "print(M8)"
   ]
  },
  {
   "cell_type": "code",
   "execution_count": 24,
   "metadata": {},
   "outputs": [
    {
     "name": "stdout",
     "output_type": "stream",
     "text": [
      "[[ 1.          0.          0.         -0.12672176]\n",
      " [ 0.          1.          0.          0.1046832 ]\n",
      " [ 0.          0.          1.          1.19008264]]\n"
     ]
    }
   ],
   "source": [
    "M9 = add_row(M8,-M8[0,1],1,0)\n",
    "print(M9)"
   ]
  },
  {
   "cell_type": "markdown",
   "metadata": {},
   "source": [
    "Or, we can do it the easy way:"
   ]
  },
  {
   "cell_type": "code",
   "execution_count": 25,
   "metadata": {},
   "outputs": [
    {
     "name": "stdout",
     "output_type": "stream",
     "text": [
      "[[-0.12672176]\n",
      " [ 0.1046832 ]\n",
      " [ 1.19008264]]\n"
     ]
    }
   ],
   "source": [
    "x = la.solve(A,b)\n",
    "print(x)"
   ]
  },
  {
   "cell_type": "markdown",
   "metadata": {},
   "source": [
    "### Matrix determinant, inverse, transpose and trace"
   ]
  },
  {
   "cell_type": "code",
   "execution_count": 26,
   "metadata": {},
   "outputs": [
    {
     "name": "stdout",
     "output_type": "stream",
     "text": [
      "[[ 6 15  1]\n",
      " [ 8  7 12]\n",
      " [ 2  7  8]]\n"
     ]
    }
   ],
   "source": [
    "print(A)"
   ]
  },
  {
   "cell_type": "code",
   "execution_count": 27,
   "metadata": {},
   "outputs": [
    {
     "data": {
      "text/plain": [
       "-725.9999999999999"
      ]
     },
     "execution_count": 27,
     "metadata": {},
     "output_type": "execute_result"
    }
   ],
   "source": [
    "la.det(A)"
   ]
  },
  {
   "cell_type": "code",
   "execution_count": 28,
   "metadata": {},
   "outputs": [
    {
     "data": {
      "text/plain": [
       "array([[ 0.03856749,  0.15564738, -0.23829201],\n",
       "       [ 0.05509642, -0.06336088,  0.08815427],\n",
       "       [-0.05785124,  0.01652893,  0.10743802]])"
      ]
     },
     "execution_count": 28,
     "metadata": {},
     "output_type": "execute_result"
    }
   ],
   "source": [
    "la.inv(A)"
   ]
  },
  {
   "cell_type": "markdown",
   "metadata": {},
   "source": [
    "Notice that we can solve the equation $Ax=b$ using the inverse $x = A^{-1}b$. But this is a bad idea in general because computing the inverse of a large matrix is computationally expensive and unecessary!"
   ]
  },
  {
   "cell_type": "code",
   "execution_count": 31,
   "metadata": {},
   "outputs": [
    {
     "data": {
      "text/plain": [
       "array([[  1.00000000e+00,   1.70002901e-16,  -6.93889390e-17],\n",
       "       [ -1.11022302e-16,   1.00000000e+00,   0.00000000e+00],\n",
       "       [ -1.66533454e-16,   8.32667268e-17,   1.00000000e+00]])"
      ]
     },
     "execution_count": 31,
     "metadata": {},
     "output_type": "execute_result"
    }
   ],
   "source": [
    "A @ la.inv(A)"
   ]
  },
  {
   "cell_type": "code",
   "execution_count": 32,
   "metadata": {},
   "outputs": [
    {
     "data": {
      "text/plain": [
       "array([[ 6,  8,  2],\n",
       "       [15,  7,  7],\n",
       "       [ 1, 12,  8]])"
      ]
     },
     "execution_count": 32,
     "metadata": {},
     "output_type": "execute_result"
    }
   ],
   "source": [
    "A.T"
   ]
  },
  {
   "cell_type": "code",
   "execution_count": 30,
   "metadata": {},
   "outputs": [
    {
     "data": {
      "text/plain": [
       "array([[ 6,  8,  2],\n",
       "       [15,  7,  7],\n",
       "       [ 1, 12,  8]])"
      ]
     },
     "execution_count": 30,
     "metadata": {},
     "output_type": "execute_result"
    }
   ],
   "source": [
    "np.transpose(A)"
   ]
  },
  {
   "cell_type": "code",
   "execution_count": 33,
   "metadata": {},
   "outputs": [
    {
     "data": {
      "text/plain": [
       "21"
      ]
     },
     "execution_count": 33,
     "metadata": {},
     "output_type": "execute_result"
    }
   ],
   "source": [
    "np.trace(A)"
   ]
  },
  {
   "cell_type": "code",
   "execution_count": 34,
   "metadata": {},
   "outputs": [
    {
     "data": {
      "text/plain": [
       "21"
      ]
     },
     "execution_count": 34,
     "metadata": {},
     "output_type": "execute_result"
    }
   ],
   "source": [
    "6+7+8"
   ]
  },
  {
   "cell_type": "markdown",
   "metadata": {},
   "source": [
    "### Eigenvalues and eigenvectors\n",
    "\n",
    "Recall, given a square matrix $A$, a vector $\\vec{v}$ is an eigenvector for $A$ with eigenvalue $\\lambda$ is $A \\vec{v} = \\lambda \\vec{v}$\n",
    "\n",
    "Let $A$ be any matrix and consider $S = AA^T$. Then $S$ is a symmetric matrix."
   ]
  },
  {
   "cell_type": "markdown",
   "metadata": {},
   "source": [
    "A beautiful resylt is that the eigenvalues of a symmetric matrix are real and the eigenvectors are orthogonal."
   ]
  },
  {
   "cell_type": "code",
   "execution_count": 35,
   "metadata": {},
   "outputs": [],
   "source": [
    "S = A @ A.T"
   ]
  },
  {
   "cell_type": "code",
   "execution_count": 36,
   "metadata": {},
   "outputs": [
    {
     "name": "stdout",
     "output_type": "stream",
     "text": [
      "[[262 165 125]\n",
      " [165 257 161]\n",
      " [125 161 117]]\n"
     ]
    }
   ],
   "source": [
    "print(S)"
   ]
  },
  {
   "cell_type": "code",
   "execution_count": 38,
   "metadata": {},
   "outputs": [],
   "source": [
    "evals, evecs = la.eig(S)"
   ]
  },
  {
   "cell_type": "code",
   "execution_count": 39,
   "metadata": {},
   "outputs": [
    {
     "name": "stdout",
     "output_type": "stream",
     "text": [
      "[ 524.98305893+0.j  101.08481987+0.j    9.93212121+0.j]\n"
     ]
    }
   ],
   "source": [
    "print(evals)"
   ]
  },
  {
   "cell_type": "code",
   "execution_count": 40,
   "metadata": {},
   "outputs": [
    {
     "data": {
      "text/plain": [
       "dtype('complex128')"
      ]
     },
     "execution_count": 40,
     "metadata": {},
     "output_type": "execute_result"
    }
   ],
   "source": [
    "evals.dtype"
   ]
  },
  {
   "cell_type": "code",
   "execution_count": 41,
   "metadata": {},
   "outputs": [],
   "source": [
    "evals = evals.real"
   ]
  },
  {
   "cell_type": "code",
   "execution_count": 42,
   "metadata": {},
   "outputs": [
    {
     "name": "stdout",
     "output_type": "stream",
     "text": [
      "[ 524.98305893  101.08481987    9.93212121]\n"
     ]
    }
   ],
   "source": [
    "print(evals)"
   ]
  },
  {
   "cell_type": "code",
   "execution_count": 43,
   "metadata": {},
   "outputs": [
    {
     "data": {
      "text/plain": [
       "array([[ 0.61809779,  0.77885992, -0.10645344],\n",
       "       [ 0.64796584, -0.58146371, -0.49197584],\n",
       "       [ 0.44507908, -0.23511099,  0.86407606]])"
      ]
     },
     "execution_count": 43,
     "metadata": {},
     "output_type": "execute_result"
    }
   ],
   "source": [
    "evecs"
   ]
  },
  {
   "cell_type": "code",
   "execution_count": 46,
   "metadata": {},
   "outputs": [
    {
     "data": {
      "text/plain": [
       "array([ 0.61809779,  0.64796584,  0.44507908])"
      ]
     },
     "execution_count": 46,
     "metadata": {},
     "output_type": "execute_result"
    }
   ],
   "source": [
    "(1/evals[0]) * S @ evecs[:,0]"
   ]
  },
  {
   "cell_type": "code",
   "execution_count": null,
   "metadata": {},
   "outputs": [],
   "source": []
  }
 ],
 "metadata": {
  "kernelspec": {
   "display_name": "Python 3",
   "language": "python",
   "name": "python3"
  },
  "language_info": {
   "codemirror_mode": {
    "name": "ipython",
    "version": 3
   },
   "file_extension": ".py",
   "mimetype": "text/x-python",
   "name": "python",
   "nbconvert_exporter": "python",
   "pygments_lexer": "ipython3",
   "version": "3.6.4"
  }
 },
 "nbformat": 4,
 "nbformat_minor": 2
}
