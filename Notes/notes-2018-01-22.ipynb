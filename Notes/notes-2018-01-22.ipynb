{
 "cells": [
  {
   "cell_type": "markdown",
   "metadata": {},
   "source": [
    "# MATH 210 Introduction to Mathematical Computing\n",
    "\n",
    "## January 22, 2018"
   ]
  },
  {
   "cell_type": "markdown",
   "metadata": {},
   "source": [
    "1. for loops\n",
    "2. Constructiong lists\n",
    "3. while loops\n",
    "4. Examples "
   ]
  },
  {
   "cell_type": "markdown",
   "metadata": {},
   "source": [
    "## 1. for loops\n",
    "\n",
    "A for loops allows us to execute a block of code multiple times with some parameters updated each time through the loop. For examples:"
   ]
  },
  {
   "cell_type": "code",
   "execution_count": 1,
   "metadata": {},
   "outputs": [
    {
     "name": "stdout",
     "output_type": "stream",
     "text": [
      "9\n",
      "0\n",
      "2\n",
      "1\n",
      "0\n"
     ]
    }
   ],
   "source": [
    "for number in [9,0,2,1,0]:\n",
    "    print(number)"
   ]
  },
  {
   "cell_type": "markdown",
   "metadata": {},
   "source": [
    "The main points to observe:\n",
    "\n",
    "1. Start a loop with the keyword 'for'\n",
    "2. Pick a variable name, `number` in the example above\n",
    "3. Use the keyword `in`\n",
    "4. An iterable object such as a list, tuple or range for the variable to traverse\n",
    "5. End the first line with a colon `:`\n",
    "6. Indent by 4 spaces the block of code to be executed\n",
    "7. The block of code is executed for each value in the interable object"
   ]
  },
  {
   "cell_type": "code",
   "execution_count": 2,
   "metadata": {},
   "outputs": [
    {
     "name": "stdout",
     "output_type": "stream",
     "text": [
      "1 banana!\n",
      "2 banana!\n",
      "3 banana!\n",
      "4 banana!\n",
      "5 banana!\n",
      "6 banana!\n",
      "7 banana!\n",
      "8 banana!\n",
      "9 banana!\n",
      "10 banana!\n",
      "Ahahahaha!!!\n"
     ]
    }
   ],
   "source": [
    "for count in range(1,11):\n",
    "    print(count, \"banana!\")\n",
    "print(\"Ahahahaha!!!\")"
   ]
  },
  {
   "cell_type": "markdown",
   "metadata": {},
   "source": [
    "## 2. Constructiong lists\n",
    "\n",
    "a list comprehension is a compact for loop for creating a list. The long way of constructing a list using a for loop is :"
   ]
  },
  {
   "cell_type": "code",
   "execution_count": 3,
   "metadata": {},
   "outputs": [
    {
     "name": "stdout",
     "output_type": "stream",
     "text": [
      "[1, 4, 9, 16, 25, 36]\n"
     ]
    }
   ],
   "source": [
    "# Write a for loop to create a list of squares\n",
    "squares =[] # Create a empty list\n",
    "N = 6\n",
    "for number in range(1,N+1):\n",
    "    new_square = number**2\n",
    "    squares.append(new_square)\n",
    "print(squares)"
   ]
  },
  {
   "cell_type": "markdown",
   "metadata": {},
   "source": [
    "This code is *equivalent* to the list comprehension:"
   ]
  },
  {
   "cell_type": "code",
   "execution_count": 4,
   "metadata": {},
   "outputs": [
    {
     "name": "stdout",
     "output_type": "stream",
     "text": [
      "[1, 4, 9, 16, 25, 36]\n"
     ]
    }
   ],
   "source": [
    "N = 6\n",
    "squares = [n**2 for n in range(1,N+1)]\n",
    "print(squares)"
   ]
  },
  {
   "cell_type": "markdown",
   "metadata": {},
   "source": [
    "## 3. while loops\n",
    "\n",
    "A for loop executes a block of code a predetermined number of times. In a situation where we don't know how many iterations we need to do, we'll use a `white` loop. The syntax for a while loop is:"
   ]
  },
  {
   "cell_type": "code",
   "execution_count": 5,
   "metadata": {},
   "outputs": [
    {
     "name": "stdout",
     "output_type": "stream",
     "text": [
      "10\n",
      "9\n",
      "8\n",
      "7\n",
      "6\n",
      "5\n",
      "4\n",
      "3\n",
      "2\n",
      "1\n",
      "Blast off!\n"
     ]
    }
   ],
   "source": [
    "count = 10\n",
    "while count > 0:\n",
    "    print(count)\n",
    "    count = count - 1\n",
    "print(\"Blast off!\")"
   ]
  },
  {
   "cell_type": "markdown",
   "metadata": {},
   "source": [
    "Beware of infinite loops! In this class, we almost never need to use `while` loops. Your first instinct for a repeated conmputation is to use a for loop!"
   ]
  },
  {
   "cell_type": "markdown",
   "metadata": {},
   "source": [
    "## 4. Examples\n",
    "\n",
    "### Fibonacci Numbers\n",
    "\n",
    "The sequence of Fibonacci numbrs is \n",
    "\n",
    "$$\n",
    "1,1,2,3,5,8,13,21,34,55 \\dots\n",
    "$$\n",
    "\n",
    "This is a recursive sequence. This means that the next value in the sequence depends on previous values. The recursive formula for the Fibonacci numbers is:\n",
    "\n",
    "$$\n",
    "X_n = X_{n-1} + X_{n-2} \\ \\text{with} \\ x_0 = x_1 = 1\n",
    "$$"
   ]
  },
  {
   "cell_type": "markdown",
   "metadata": {},
   "source": [
    "Write a function called `fibonacci` which takes an input parameter `N` and returns the first `N` Fibonacci numbers as a list. Note that this is a recursive sequence and therefore cannot be computed with a list comprehension."
   ]
  },
  {
   "cell_type": "code",
   "execution_count": 7,
   "metadata": {},
   "outputs": [],
   "source": [
    "def fibonacci(N):\n",
    "    if N == 1:\n",
    "        return [1]\n",
    "    fibonacci_numbers = [1,1]\n",
    "    for n in range(2,N):\n",
    "        next_fibonacci = fibonacci_numbers[n-1] + fibonacci_numbers[n-2]\n",
    "        fibonacci_numbers.append(next_fibonacci)\n",
    "    return fibonacci_numbers"
   ]
  },
  {
   "cell_type": "code",
   "execution_count": 8,
   "metadata": {},
   "outputs": [
    {
     "data": {
      "text/plain": [
       "[1]"
      ]
     },
     "execution_count": 8,
     "metadata": {},
     "output_type": "execute_result"
    }
   ],
   "source": [
    "fibonacci(1)"
   ]
  },
  {
   "cell_type": "code",
   "execution_count": 9,
   "metadata": {},
   "outputs": [
    {
     "data": {
      "text/plain": [
       "[1, 1]"
      ]
     },
     "execution_count": 9,
     "metadata": {},
     "output_type": "execute_result"
    }
   ],
   "source": [
    "fibonacci(2)"
   ]
  },
  {
   "cell_type": "code",
   "execution_count": 10,
   "metadata": {},
   "outputs": [
    {
     "data": {
      "text/plain": [
       "[1, 1, 2]"
      ]
     },
     "execution_count": 10,
     "metadata": {},
     "output_type": "execute_result"
    }
   ],
   "source": [
    "fibonacci(3)"
   ]
  },
  {
   "cell_type": "code",
   "execution_count": 11,
   "metadata": {},
   "outputs": [
    {
     "data": {
      "text/plain": [
       "[1, 1, 2, 3, 5, 8, 13, 21, 34, 55]"
      ]
     },
     "execution_count": 11,
     "metadata": {},
     "output_type": "execute_result"
    }
   ],
   "source": [
    "fibonacci(10)"
   ]
  },
  {
   "cell_type": "markdown",
   "metadata": {},
   "source": [
    "Let's use our function to approximate the Golden ratio"
   ]
  },
  {
   "cell_type": "code",
   "execution_count": 12,
   "metadata": {},
   "outputs": [
    {
     "data": {
      "text/plain": [
       "1.618033988749895"
      ]
     },
     "execution_count": 12,
     "metadata": {},
     "output_type": "execute_result"
    }
   ],
   "source": [
    "fib_1000 = fibonacci(1000)\n",
    "fib_1000[-1]/fib_1000[-2]"
   ]
  },
  {
   "cell_type": "code",
   "execution_count": 14,
   "metadata": {},
   "outputs": [
    {
     "data": {
      "text/plain": [
       "1.618033988749895"
      ]
     },
     "execution_count": 14,
     "metadata": {},
     "output_type": "execute_result"
    }
   ],
   "source": [
    "(1 + 5**0.5)/2"
   ]
  },
  {
   "cell_type": "markdown",
   "metadata": {},
   "source": [
    "### Prime numbers\n",
    "\n",
    "Write a function called `is_prime` which takes an input parameter `n` and returns `True` and `False` otherwise."
   ]
  },
  {
   "cell_type": "code",
   "execution_count": 16,
   "metadata": {},
   "outputs": [],
   "source": [
    "def is_prime(N):\n",
    "    if N< 2:\n",
    "        return False\n",
    "    # check if n is divisble by d for 1< d < N\n",
    "    for d in range (2,N):\n",
    "        if N % d == 0:\n",
    "            return False\n",
    "    return True"
   ]
  },
  {
   "cell_type": "markdown",
   "metadata": {},
   "source": [
    "Let's write a for loop to test our functions on several values `N`:"
   ]
  },
  {
   "cell_type": "code",
   "execution_count": 17,
   "metadata": {},
   "outputs": [
    {
     "name": "stdout",
     "output_type": "stream",
     "text": [
      "1 is not prime.\n",
      "2 is prime!\n",
      "3 is prime!\n",
      "4 is not prime.\n",
      "5 is prime!\n",
      "6 is not prime.\n",
      "7 is prime!\n",
      "8 is not prime.\n",
      "9 is not prime.\n",
      "10 is not prime.\n",
      "11 is prime!\n",
      "12 is not prime.\n",
      "13 is prime!\n",
      "14 is not prime.\n",
      "15 is not prime.\n",
      "16 is not prime.\n",
      "17 is prime!\n",
      "18 is not prime.\n",
      "19 is prime!\n",
      "20 is not prime.\n",
      "21 is not prime.\n",
      "22 is not prime.\n",
      "23 is prime!\n",
      "24 is not prime.\n",
      "25 is not prime.\n",
      "26 is not prime.\n",
      "27 is not prime.\n",
      "28 is not prime.\n",
      "29 is prime!\n",
      "30 is not prime.\n",
      "31 is prime!\n",
      "32 is not prime.\n",
      "33 is not prime.\n",
      "34 is not prime.\n",
      "35 is not prime.\n",
      "36 is not prime.\n",
      "37 is prime!\n",
      "38 is not prime.\n",
      "39 is not prime.\n",
      "40 is not prime.\n",
      "41 is prime!\n",
      "42 is not prime.\n",
      "43 is prime!\n",
      "44 is not prime.\n",
      "45 is not prime.\n",
      "46 is not prime.\n",
      "47 is prime!\n",
      "48 is not prime.\n",
      "49 is not prime.\n",
      "50 is not prime.\n",
      "51 is not prime.\n",
      "52 is not prime.\n",
      "53 is prime!\n",
      "54 is not prime.\n",
      "55 is not prime.\n",
      "56 is not prime.\n",
      "57 is not prime.\n",
      "58 is not prime.\n",
      "59 is prime!\n",
      "60 is not prime.\n",
      "61 is prime!\n",
      "62 is not prime.\n",
      "63 is not prime.\n",
      "64 is not prime.\n",
      "65 is not prime.\n",
      "66 is not prime.\n",
      "67 is prime!\n",
      "68 is not prime.\n",
      "69 is not prime.\n",
      "70 is not prime.\n",
      "71 is prime!\n",
      "72 is not prime.\n",
      "73 is prime!\n",
      "74 is not prime.\n",
      "75 is not prime.\n",
      "76 is not prime.\n",
      "77 is not prime.\n",
      "78 is not prime.\n",
      "79 is prime!\n",
      "80 is not prime.\n",
      "81 is not prime.\n",
      "82 is not prime.\n",
      "83 is prime!\n",
      "84 is not prime.\n",
      "85 is not prime.\n",
      "86 is not prime.\n",
      "87 is not prime.\n",
      "88 is not prime.\n",
      "89 is prime!\n",
      "90 is not prime.\n",
      "91 is not prime.\n",
      "92 is not prime.\n",
      "93 is not prime.\n",
      "94 is not prime.\n",
      "95 is not prime.\n",
      "96 is not prime.\n",
      "97 is prime!\n",
      "98 is not prime.\n",
      "99 is not prime.\n",
      "100 is not prime.\n"
     ]
    }
   ],
   "source": [
    "for N in range(1,101):\n",
    "    if is_prime(N):\n",
    "        print(N, \"is prime!\")\n",
    "    else:\n",
    "        print(N, \"is not prime.\")"
   ]
  },
  {
   "cell_type": "code",
   "execution_count": 18,
   "metadata": {},
   "outputs": [
    {
     "data": {
      "text/plain": [
       "True"
      ]
     },
     "execution_count": 18,
     "metadata": {},
     "output_type": "execute_result"
    }
   ],
   "source": [
    "is_prime(2017)"
   ]
  },
  {
   "cell_type": "code",
   "execution_count": 19,
   "metadata": {},
   "outputs": [
    {
     "data": {
      "text/plain": [
       "False"
      ]
     },
     "execution_count": 19,
     "metadata": {},
     "output_type": "execute_result"
    }
   ],
   "source": [
    "is_prime(2019)"
   ]
  },
  {
   "cell_type": "code",
   "execution_count": null,
   "metadata": {},
   "outputs": [],
   "source": []
  }
 ],
 "metadata": {
  "kernelspec": {
   "display_name": "Python 3",
   "language": "python",
   "name": "python3"
  },
  "language_info": {
   "codemirror_mode": {
    "name": "ipython",
    "version": 3
   },
   "file_extension": ".py",
   "mimetype": "text/x-python",
   "name": "python",
   "nbconvert_exporter": "python",
   "pygments_lexer": "ipython3",
   "version": "3.6.4"
  }
 },
 "nbformat": 4,
 "nbformat_minor": 2
}
