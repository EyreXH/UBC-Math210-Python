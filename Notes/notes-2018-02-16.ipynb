{
 "cells": [
  {
   "cell_type": "markdown",
   "metadata": {},
   "source": [
    "# MATH 210 Introduction to Mathematical Computing\n",
    "\n",
    "## February 16, 2018\n",
    "\n",
    "1. Trapezoid rule error formula\n",
    "    * Example: Estimating $\\ln(2)$\n",
    "2. Simpson's method\n",
    "3. Examples"
   ]
  },
  {
   "cell_type": "code",
   "execution_count": 1,
   "metadata": {},
   "outputs": [],
   "source": [
    "import numpy as np\n",
    "import matplotlib.pyplot as plt\n",
    "%matplotlib inline"
   ]
  },
  {
   "cell_type": "markdown",
   "metadata": {},
   "source": [
    "## 1. Trapezoid rule error formula\n",
    "\n",
    "Last time, we derived the error formula for the trapezoid rule. Let's recall the formula.\n",
    "\n",
    "Let $f(x)$ be an integrable function on the interval $[a,b]$. The trapezoid rule is an approximation of the integral $\\int_a^b f(x) \\, dx$ and is defined by\n",
    "\n",
    "$$\n",
    "T_N(f) = \\frac{1}{2} \\sum_{k=1}^N (f(x_k) + f(x_{k-1})) \\Delta x\n",
    "$$\n",
    "\n",
    "where $x_k = a + k \\Delta$ is a partition of size $N$ of the interval and $\\Delta x = (b-a)/N$ is the width of the subintervals. The error of the trapezoid method is\n",
    "\n",
    "$$\n",
    "E_N^T(f) = \\left| \\ \\int_a^b f(x) \\, dx - T_N(f) \\ \\right| \\leq \\frac{(b-a)^3}{12N^2}M\n",
    "$$\n",
    "\n",
    "where $M$ is an upper bound $|f''(x)| \\leq M$ for $x \\in [a,b]$."
   ]
  },
  {
   "cell_type": "markdown",
   "metadata": {},
   "source": [
    "One application of the error formula is that we can determine the size $N$ of the partition which guarantees that the approximation is sufficiently close."
   ]
  },
  {
   "cell_type": "markdown",
   "metadata": {},
   "source": [
    "### Example: Estimating $\\ln(2)$\n",
    "\n",
    "What value $N$ guarantees that the trapezoid rule approximates the integral\n",
    "\n",
    "$$\n",
    "\\int_1^2 \\frac{1}{x} \\, dx = \\ln(2)\n",
    "$$\n",
    "\n",
    "to within $10^{-6}$?\n"
   ]
  },
  {
   "cell_type": "markdown",
   "metadata": {},
   "source": [
    "For $f(x) = \\frac{1}{x}$, we compute $f''(x) = \\frac{2}{x^3} \\leq 2$ for all $x \\in [1,2]$ therefore\n",
    "\n",
    "$$\n",
    "\\left| \\int_1^2 \\frac{1}{x} \\, dx - T_N(f) \\right| \\leq \\frac{2}{12N^2}\n",
    "$$\n",
    "\n",
    "Then $E_N^T \\leq 10^{-6}$ is guaranteed if $\\frac{1}{6N^2} \\leq 10^{-6}$ which implies\n",
    "\n",
    "$$\n",
    "N \\geq \\sqrt{\\frac{10^6}{6}}\n",
    "$$"
   ]
  },
  {
   "cell_type": "code",
   "execution_count": 2,
   "metadata": {},
   "outputs": [
    {
     "data": {
      "text/plain": [
       "408.24829046386299"
      ]
     },
     "execution_count": 2,
     "metadata": {},
     "output_type": "execute_result"
    }
   ],
   "source": [
    "np.sqrt(10**6/6)"
   ]
  },
  {
   "cell_type": "markdown",
   "metadata": {},
   "source": [
    "Let's use the NumPy function `np.trapz` to compute the estimate by the trapezoid rule."
   ]
  },
  {
   "cell_type": "code",
   "execution_count": 3,
   "metadata": {},
   "outputs": [
    {
     "name": "stdout",
     "output_type": "stream",
     "text": [
      "0.693147554182\n"
     ]
    }
   ],
   "source": [
    "N = 409\n",
    "x = np.linspace(1,2,N+1) # Partition of size N requires N+1 points\n",
    "y = 1/x\n",
    "I = np.trapz(y,x)\n",
    "print(I)"
   ]
  },
  {
   "cell_type": "code",
   "execution_count": 4,
   "metadata": {},
   "outputs": [
    {
     "data": {
      "text/plain": [
       "0.69314718055994529"
      ]
     },
     "execution_count": 4,
     "metadata": {},
     "output_type": "execute_result"
    }
   ],
   "source": [
    "np.log(2)"
   ]
  },
  {
   "cell_type": "markdown",
   "metadata": {},
   "source": [
    "Let's verify that this is within $10^{-6}$:"
   ]
  },
  {
   "cell_type": "code",
   "execution_count": 5,
   "metadata": {},
   "outputs": [
    {
     "data": {
      "text/plain": [
       "True"
      ]
     },
     "execution_count": 5,
     "metadata": {},
     "output_type": "execute_result"
    }
   ],
   "source": [
    "np.abs(I - np.log(2)) < 10e-6"
   ]
  },
  {
   "cell_type": "markdown",
   "metadata": {},
   "source": [
    "Success! However, the estimate is not perfect. What is the actual smallest $N$ such that the trapezoid rule gives the estimate of $\\ln (2)$ to within $10^{-6}$?"
   ]
  },
  {
   "cell_type": "code",
   "execution_count": 6,
   "metadata": {},
   "outputs": [
    {
     "name": "stdout",
     "output_type": "stream",
     "text": [
      "Accuracy achieved at n = 80\n"
     ]
    }
   ],
   "source": [
    "for n in range(1,N+1):\n",
    "    x = np.linspace(1,2,n+1) # Partition of size N requires N+1 points\n",
    "    y = 1/x\n",
    "    I = np.trapz(y,x)\n",
    "    if np.abs(I - np.log(2)) < 10e-6:\n",
    "        print(\"Accuracy achieved at n =\",n)\n",
    "        break"
   ]
  },
  {
   "cell_type": "markdown",
   "metadata": {},
   "source": [
    "## 2. Simpson's rule\n",
    "\n",
    "[Simpson's rule](https://en.wikipedia.org/wiki/Simpson%27s_rule) is another algorithm for approximating definite integrals:\n",
    "\n",
    "![Simpson's rule](https://upload.wikimedia.org/wikipedia/en/6/67/Simpsonsrule2.gif)\n",
    "\n",
    "(Source: [Wikipedia](https://en.wikipedia.org/wiki/Simpson%27s_rule))\n",
    "\n",
    "We can think of SImpson's rule as a degree 2 polynomial approximation. Compare this to the trapezoid rule which is a degree 1 polynomial approximation:\n",
    "\n",
    "![Trapezoif Rule](https://jeremykun.files.wordpress.com/2011/12/trapezoid-sum.gif)\n",
    "\n",
    "(Source: [jeremykun.com](https://jeremykun.com/tag/trapezoidal-rule/))"
   ]
  },
  {
   "cell_type": "markdown",
   "metadata": {},
   "source": [
    "The formula for Simpson's rule is:\n",
    "\n",
    "$$\n",
    "\\int_a^b f(x) \\, dx \\approx \\frac{h}{3} \\sum_{k=1}^{N/2} \\left( f(x_{2k-2}) + 4 f(x_{2k-1}) + f(x_{2k}) \\right)\n",
    "$$"
   ]
  },
  {
   "cell_type": "markdown",
   "metadata": {},
   "source": [
    "Let's redo the example above with Simpson's rule using the SciPy function `scipy.integrate.simps`. We need to import the function `simps` from the subpackage `scipy.integrate`."
   ]
  },
  {
   "cell_type": "code",
   "execution_count": 7,
   "metadata": {},
   "outputs": [],
   "source": [
    "from scipy.integrate import simps"
   ]
  },
  {
   "cell_type": "markdown",
   "metadata": {},
   "source": [
    "It turns out that we only need a partition of size 8 to achieve what the trapezoid rule did with a partition of size 80!"
   ]
  },
  {
   "cell_type": "code",
   "execution_count": 8,
   "metadata": {},
   "outputs": [],
   "source": [
    "N = 8\n",
    "x = np.linspace(1,2,N+1) # Partition of size N requires N+1 points\n",
    "y = 1/x\n",
    "I = simps(y,x)"
   ]
  },
  {
   "cell_type": "code",
   "execution_count": 9,
   "metadata": {},
   "outputs": [
    {
     "data": {
      "text/plain": [
       "True"
      ]
     },
     "execution_count": 9,
     "metadata": {},
     "output_type": "execute_result"
    }
   ],
   "source": [
    "np.abs(I - np.log(2)) < 10e-6"
   ]
  },
  {
   "cell_type": "markdown",
   "metadata": {},
   "source": [
    "## 3. Examples"
   ]
  },
  {
   "cell_type": "markdown",
   "metadata": {},
   "source": [
    "Let's approximate $\\pi$ by the integral using the identity:\n",
    "\n",
    "$$\n",
    "\\int_0^1 \\frac{4}{1 + x^2} dx = \\pi\n",
    "$$"
   ]
  },
  {
   "cell_type": "markdown",
   "metadata": {},
   "source": [
    "Let's use a Riemann sum (with right endpoints), trapezoid rule and Simpson's rule for $N=10$ and compare."
   ]
  },
  {
   "cell_type": "code",
   "execution_count": 10,
   "metadata": {},
   "outputs": [
    {
     "name": "stdout",
     "output_type": "stream",
     "text": [
      "Riemann Sum:  3.03992598891\n"
     ]
    }
   ],
   "source": [
    "N = 10\n",
    "\n",
    "# Riemann Sum (right endpoints)\n",
    "x = np.linspace(0,1,N+1)\n",
    "y = 4/(1 + x**2)\n",
    "Riemann = y[1:].sum() / N\n",
    "print(\"Riemann Sum: \", Riemann)"
   ]
  },
  {
   "cell_type": "code",
   "execution_count": 11,
   "metadata": {},
   "outputs": [
    {
     "name": "stdout",
     "output_type": "stream",
     "text": [
      "Trapezoid rule: 3.13992598891\n"
     ]
    }
   ],
   "source": [
    "# Trapezoid Method\n",
    "# N, x, y, defined in previous cell\n",
    "Trapz = np.trapz(y,x)\n",
    "print(\"Trapezoid rule:\", Trapz)"
   ]
  },
  {
   "cell_type": "code",
   "execution_count": 12,
   "metadata": {},
   "outputs": [
    {
     "name": "stdout",
     "output_type": "stream",
     "text": [
      "Simpson's rule: 3.14159261394\n"
     ]
    }
   ],
   "source": [
    "# Simpsons Method\n",
    "# N, x, y, defined in previous cell\n",
    "simps_result = simps(y,x)\n",
    "print(\"Simpson's rule:\",simps_result)"
   ]
  },
  {
   "cell_type": "code",
   "execution_count": 13,
   "metadata": {},
   "outputs": [
    {
     "data": {
      "text/plain": [
       "3.141592653589793"
      ]
     },
     "execution_count": 13,
     "metadata": {},
     "output_type": "execute_result"
    }
   ],
   "source": [
    "np.pi"
   ]
  },
  {
   "cell_type": "markdown",
   "metadata": {},
   "source": [
    "Wow! Simpson's rule RULES!"
   ]
  },
  {
   "cell_type": "markdown",
   "metadata": {},
   "source": [
    "Let's approximate $\\pi$ again by another integral:\n",
    "\n",
    "$$\n",
    "2 \\int_{-1}^1 \\sqrt{1 - x^2} dx = \\pi\n",
    "$$"
   ]
  },
  {
   "cell_type": "code",
   "execution_count": 14,
   "metadata": {},
   "outputs": [
    {
     "name": "stdout",
     "output_type": "stream",
     "text": [
      "3.10017396005\n"
     ]
    }
   ],
   "source": [
    "N = 10\n",
    "x = np.linspace(-1,1,N+1)\n",
    "y = np.sqrt(1 - x**2)\n",
    "I = simps(y,x)\n",
    "print(2*I)"
   ]
  },
  {
   "cell_type": "markdown",
   "metadata": {},
   "source": [
    "Wow! Simpson's rule approximates $\\pi$ much better in the first example above as opposed to this example. I wonder why?"
   ]
  }
 ],
 "metadata": {
  "kernelspec": {
   "display_name": "Python 3",
   "language": "python",
   "name": "python3"
  },
  "language_info": {
   "codemirror_mode": {
    "name": "ipython",
    "version": 3
   },
   "file_extension": ".py",
   "mimetype": "text/x-python",
   "name": "python",
   "nbconvert_exporter": "python",
   "pygments_lexer": "ipython3",
   "version": "3.6.4"
  }
 },
 "nbformat": 4,
 "nbformat_minor": 2
}
