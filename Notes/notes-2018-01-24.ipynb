{
 "cells": [
  {
   "cell_type": "markdown",
   "metadata": {},
   "source": [
    "# MATH 210 Introduction to Mathematical Computing\n",
    "\n",
    "## January 24, 2018"
   ]
  },
  {
   "cell_type": "markdown",
   "metadata": {},
   "source": [
    "1. loops\n",
    "2. Examples\n",
    "    * Primes\n",
    "    * Divisors"
   ]
  },
  {
   "cell_type": "markdown",
   "metadata": {},
   "source": [
    "## 1. Loops\n",
    "\n",
    "The syntax for writing a `for` loop is:\n",
    "\n",
    "```\n",
    "\n",
    "for item in iterable:\n",
    "    code code code\n",
    "    code code code\n",
    "    code code code\n",
    "```\n",
    "\n",
    "where:\n",
    "\n",
    "* `item` is a variable name\n",
    "* `iterable` is any sequence object such as list, tuple, range, etc.\n",
    "* variable item is assigned each value in iterable one at a time and the following indented code is executed each time\n",
    "* code block in the `for` loop is indented 4 spaes"
   ]
  },
  {
   "cell_type": "markdown",
   "metadata": {},
   "source": [
    "## 2. Examples\n",
    "\n",
    "### Primes\n",
    "\n",
    "A prime number $p$ is a (positive) integer divisible only by 1 and itself such as 2,3,5,7,11, etc. Let's write a function called `primes_up_to` which takes an input parameter $N$ and returns the list of primes $p \\leq N$.\n",
    "\n",
    "Let's separate this problem into 2 pieces: a function to determine if p is prime and then a function to collect all the primes."
   ]
  },
  {
   "cell_type": "markdown",
   "metadata": {},
   "source": [
    "```\n",
    "def is_prime(n):\n",
    "    \"Determine if n is a prime number.\"\n",
    "    # Test if n is divisible by any umber d\n",
    "    # which is less than n and greater than l\n",
    "    # If n is divisible by some d, return False\n",
    "    # If n is not divisible by any d, return True\n",
    "    \n",
    "```"
   ]
  },
  {
   "cell_type": "code",
   "execution_count": 1,
   "metadata": {},
   "outputs": [],
   "source": [
    "def is_prime(n):\n",
    "    \"Determine if n is a prime number.\"\n",
    "    # Test if n is divisible by any number d less than n and greater than l\n",
    "    for d in range(2,n):\n",
    "        # If n is divisible by some d, return False\n",
    "        if n % d == 0:\n",
    "            return False\n",
    "    # If n is not divisible by any d, return True\n",
    "    return True"
   ]
  },
  {
   "cell_type": "code",
   "execution_count": 2,
   "metadata": {},
   "outputs": [
    {
     "data": {
      "text/plain": [
       "True"
      ]
     },
     "execution_count": 2,
     "metadata": {},
     "output_type": "execute_result"
    }
   ],
   "source": [
    "is_prime(3)"
   ]
  },
  {
   "cell_type": "code",
   "execution_count": 3,
   "metadata": {},
   "outputs": [
    {
     "data": {
      "text/plain": [
       "True"
      ]
     },
     "execution_count": 3,
     "metadata": {},
     "output_type": "execute_result"
    }
   ],
   "source": [
    "is_prime(5)"
   ]
  },
  {
   "cell_type": "code",
   "execution_count": 4,
   "metadata": {},
   "outputs": [
    {
     "data": {
      "text/plain": [
       "False"
      ]
     },
     "execution_count": 4,
     "metadata": {},
     "output_type": "execute_result"
    }
   ],
   "source": [
    "is_prime(20)"
   ]
  },
  {
   "cell_type": "code",
   "execution_count": 5,
   "metadata": {},
   "outputs": [],
   "source": [
    "def primes_up_to(N):\n",
    "    \"Compute list of prime p =< N.\"\n",
    "    # Initialize an empty list\n",
    "    primes = []\n",
    "    # For all n<= N, test if n is prime\n",
    "    for n in range(2,N+1):\n",
    "        # If n is prime, add n to the list\n",
    "        if is_prime(n):\n",
    "            primes.append(n)\n",
    "    # Return the list\n",
    "    return primes"
   ]
  },
  {
   "cell_type": "code",
   "execution_count": 11,
   "metadata": {},
   "outputs": [
    {
     "name": "stdout",
     "output_type": "stream",
     "text": [
      "50 : [2, 3, 5, 7, 11, 13, 17, 19, 23, 29, 31, 37, 41, 43, 47]\n",
      "51 : [2, 3, 5, 7, 11, 13, 17, 19, 23, 29, 31, 37, 41, 43, 47]\n",
      "52 : [2, 3, 5, 7, 11, 13, 17, 19, 23, 29, 31, 37, 41, 43, 47]\n",
      "53 : [2, 3, 5, 7, 11, 13, 17, 19, 23, 29, 31, 37, 41, 43, 47, 53]\n",
      "54 : [2, 3, 5, 7, 11, 13, 17, 19, 23, 29, 31, 37, 41, 43, 47, 53]\n",
      "55 : [2, 3, 5, 7, 11, 13, 17, 19, 23, 29, 31, 37, 41, 43, 47, 53]\n",
      "56 : [2, 3, 5, 7, 11, 13, 17, 19, 23, 29, 31, 37, 41, 43, 47, 53]\n",
      "57 : [2, 3, 5, 7, 11, 13, 17, 19, 23, 29, 31, 37, 41, 43, 47, 53]\n",
      "58 : [2, 3, 5, 7, 11, 13, 17, 19, 23, 29, 31, 37, 41, 43, 47, 53]\n",
      "59 : [2, 3, 5, 7, 11, 13, 17, 19, 23, 29, 31, 37, 41, 43, 47, 53, 59]\n"
     ]
    }
   ],
   "source": [
    "for N in range (50,60):\n",
    "    print(N, \":\", primes_up_to(N))"
   ]
  },
  {
   "cell_type": "markdown",
   "metadata": {},
   "source": [
    "### Divisors\n",
    "\n",
    "Write a function called `divisors` which takes an input parameter $N$, positive integers and returns the list of divisors of $N$"
   ]
  },
  {
   "cell_type": "markdown",
   "metadata": {},
   "source": [
    "```\n",
    "\n",
    "def divisors (N):\n",
    "    \"Compute the list of divisors of N\"\n",
    "    # Initialize empty list of divisors\n",
    "    # for each d less than or equal to N\n",
    "    # test if d divides N\n",
    "    # If d divides N, append d to the list\n",
    "    # Return the list\n",
    "    \n",
    "```"
   ]
  },
  {
   "cell_type": "code",
   "execution_count": 2,
   "metadata": {},
   "outputs": [],
   "source": [
    "def divisors(N):\n",
    "    \"Compute the list of divisors of N\"\n",
    "    # Initialize list of divisors with first entry 1\n",
    "    divisors_list = [1]\n",
    "    for d in range(2,N):\n",
    "        if N % d == 0:\n",
    "        # If d divides N, append d to the list\n",
    "            divisors_list.append(d)\n",
    "    divisors_list.append(N)\n",
    "            # Return the list\n",
    "    return divisors_list"
   ]
  },
  {
   "cell_type": "code",
   "execution_count": 3,
   "metadata": {},
   "outputs": [
    {
     "data": {
      "text/plain": [
       "[1, 2, 3, 4, 6, 12]"
      ]
     },
     "execution_count": 3,
     "metadata": {},
     "output_type": "execute_result"
    }
   ],
   "source": [
    "divisors(12)"
   ]
  },
  {
   "cell_type": "markdown",
   "metadata": {},
   "source": [
    "### Divisor sum function\n",
    "\n",
    "Write a function called `divisor_sum` which takes input parameters `N` and `k` and returns the sum\n",
    "    \n",
    "$$\n",
    "\\sum_{d|N} d^k\n",
    "$$"
   ]
  },
  {
   "cell_type": "code",
   "execution_count": 30,
   "metadata": {},
   "outputs": [],
   "source": [
    "def divisor_sum(N,k):\n",
    "    \"Compute the k power sum of divisors of N\"\n",
    "    divisors_N = divisors(N)\n",
    "    return sum([d**k for d in divisors_N])"
   ]
  },
  {
   "cell_type": "code",
   "execution_count": 31,
   "metadata": {},
   "outputs": [
    {
     "data": {
      "text/plain": [
       "6"
      ]
     },
     "execution_count": 31,
     "metadata": {},
     "output_type": "execute_result"
    }
   ],
   "source": [
    "divisor_sum(5,1)"
   ]
  },
  {
   "cell_type": "markdown",
   "metadata": {},
   "source": [
    "### Elliptic curves\n",
    "\n",
    "write a function called `elliptic` which takes input parameters `A`,`B`,`C`, `x_range` and `y_range` where:\n",
    "\n",
    "* `A`, `B`, and `C` are integers\n",
    "* `x_range` and `y_range` are lists of length 2 representing closed intervals $[x_0,x_1]$ and $[y_0,y_1]$\n",
    "\n",
    "The function returns the list of integer solutions of the elliptic curve:\n",
    "\n",
    "$$\n",
    "y^2=Ax^3 +Bx+C\n",
    "$$\n",
    "\n",
    "where $x \\in [x_0,x_1]$ and $[y_0,y_1]$."
   ]
  },
  {
   "cell_type": "code",
   "execution_count": null,
   "metadata": {},
   "outputs": [],
   "source": []
  }
 ],
 "metadata": {
  "kernelspec": {
   "display_name": "Python 3",
   "language": "python",
   "name": "python3"
  },
  "language_info": {
   "codemirror_mode": {
    "name": "ipython",
    "version": 3
   },
   "file_extension": ".py",
   "mimetype": "text/x-python",
   "name": "python",
   "nbconvert_exporter": "python",
   "pygments_lexer": "ipython3",
   "version": "3.6.4"
  }
 },
 "nbformat": 4,
 "nbformat_minor": 2
}
