{
 "cells": [
  {
   "cell_type": "markdown",
   "metadata": {},
   "source": [
    "# MATH 210 Introduction to Mathematical Computing\n",
    "\n",
    "## March 05, 2018"
   ]
  },
  {
   "cell_type": "markdown",
   "metadata": {},
   "source": [
    "### Midterm\n",
    "1. Read Python code and determine output\n",
    "2. Write a Python function given a description\n",
    "3. Mathematical applications\n",
    "    * Numerical integration and errors formulas\n",
    "    * Numerical differentiation and error formulas\n",
    "    * Recursive sequences\n",
    "    * Newton's method\n",
    "    * Linear algebra: matrix mult, linear systems, eignevalues"
   ]
  },
  {
   "cell_type": "code",
   "execution_count": 11,
   "metadata": {},
   "outputs": [],
   "source": [
    "import numpy as np\n",
    "import matplotlib.pyplot as plt\n",
    "import scipy.integrate as spi\n",
    "%matplotlib inline"
   ]
  },
  {
   "cell_type": "markdown",
   "metadata": {},
   "source": [
    "1. Example: Arc length\n",
    "2. Intro to linear algebra in Python"
   ]
  },
  {
   "cell_type": "markdown",
   "metadata": {},
   "source": [
    "## 1. Example: Arc length\n",
    "\n",
    "Write a function called `arc_length` which takes parameters `f`, `a`, `b`(and perhaps other parameters) and returns an approximation of the acr length of $f(x)$ from $a$ to $b$.\n",
    "\n",
    "$$\n",
    "L \\approx \\int_a^b \\sqrt{1+(f'(x))^2} \\ dx\n",
    "$$\n",
    "\n",
    "The function use the trapezoid rule (`scipy.integrate.trapz`) to estimate the integral and the central difference formula to approximate $f'(x)$.\n",
    "\n",
    "Function should probably have $h$ as an input parameter for approximating $f'(x)$, and $N$ in the trapezoid method."
   ]
  },
  {
   "cell_type": "markdown",
   "metadata": {},
   "source": [
    "Verify your function with these known cases:\n",
    "\n",
    "* $f(x) = x$, $a = 0$, and $b=1$ then $L=\\sqrt{2}$\n",
    "* $f(x) = \\sqrt{1-x^2}$, $a=0$, and $b=\\frac{1}{\\sqrt{2}}$ then $L = \\frac{\\pi}{4}$\n",
    "* $f(x) = \\frac{2x^{3/2}}{3}$, $a=0$, and $b=1$ then $L=\\frac{2}{3}(2^{3/2}-1)$"
   ]
  },
  {
   "cell_type": "code",
   "execution_count": 12,
   "metadata": {},
   "outputs": [],
   "source": [
    "def arc_length(f,a,b,h=0.001,N=1000):\n",
    "    '''Approximate the ac length of y=f(x) from x=a to x=b.\n",
    "    \n",
    "    Parameters\n",
    "    ----------\n",
    "    f : (vectorized) function of one variable\n",
    "    a,b : numbers defining the interval [a,b]\n",
    "    h : step size to use in difference formulas\n",
    "    N : number of subintervals in trapezoid method\n",
    "    \n",
    "    Returns\n",
    "    -------\n",
    "    Approximation of the integral \\int_a^b \\sqrt{1 + (f'(x))^2} dx\n",
    "    representing the arc length of y=f(x) from x=a to x=b.\n",
    "    '''\n",
    "    x = np.linspace(a,b,N+1)\n",
    "    y = f(x)\n",
    "    \n",
    "    # Compute central difference formula for x_k for 1 <= k <= N-1\n",
    "    h = np.min([h,(b-a)/N]) # Make sure that h is smaller than the size of the subintervals\n",
    "    x_interior = x[1:-1]\n",
    "    df_interior = (f(x_interior + h) - f(x_interior - h))/(2*h)\n",
    "    \n",
    "    # Use forward/backward difference formula at the endpoints\n",
    "    df_a = (f(a + h) - f(a))/h\n",
    "    df_b = (f(b) - f(b - h))/h\n",
    "    df = np.hstack([[df_a],df_interior,[df_b]])\n",
    "    \n",
    "    # Compute values of the integrand in arc length formula\n",
    "    y = np.sqrt(1 + df**2)\n",
    "    \n",
    "    # Compute the integral\n",
    "    L = spi.trapz(y,x)\n",
    "    \n",
    "    return L"
   ]
  },
  {
   "cell_type": "code",
   "execution_count": 13,
   "metadata": {},
   "outputs": [
    {
     "data": {
      "text/plain": [
       "1.4142135623730958"
      ]
     },
     "execution_count": 13,
     "metadata": {},
     "output_type": "execute_result"
    }
   ],
   "source": [
    "arc_length(lambda x: x,0,1)"
   ]
  },
  {
   "cell_type": "code",
   "execution_count": 14,
   "metadata": {},
   "outputs": [
    {
     "data": {
      "text/plain": [
       "1.2189514473615233"
      ]
     },
     "execution_count": 14,
     "metadata": {},
     "output_type": "execute_result"
    }
   ],
   "source": [
    "arc_length(lambda x: 2*(x**(3/2))/3,0,1,h=10**(-10),N=10**5)"
   ]
  },
  {
   "cell_type": "code",
   "execution_count": 15,
   "metadata": {},
   "outputs": [
    {
     "data": {
      "text/plain": [
       "1.2189514164974602"
      ]
     },
     "execution_count": 15,
     "metadata": {},
     "output_type": "execute_result"
    }
   ],
   "source": [
    "(2/3)*(2**(3/2) - 1)"
   ]
  },
  {
   "cell_type": "code",
   "execution_count": null,
   "metadata": {},
   "outputs": [],
   "source": []
  }
 ],
 "metadata": {
  "kernelspec": {
   "display_name": "Python 3",
   "language": "python",
   "name": "python3"
  },
  "language_info": {
   "codemirror_mode": {
    "name": "ipython",
    "version": 3
   },
   "file_extension": ".py",
   "mimetype": "text/x-python",
   "name": "python",
   "nbconvert_exporter": "python",
   "pygments_lexer": "ipython3",
   "version": "3.6.4"
  }
 },
 "nbformat": 4,
 "nbformat_minor": 2
}
