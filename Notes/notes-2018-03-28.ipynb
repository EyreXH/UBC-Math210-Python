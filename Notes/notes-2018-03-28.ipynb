{
 "cells": [
  {
   "cell_type": "markdown",
   "metadata": {},
   "source": [
    "# MATH 210 Introduction to Mathematical Computing\n",
    "\n",
    "## March 28, 2018\n",
    "\n",
    "* import with pandas.read_csv"
   ]
  },
  {
   "cell_type": "code",
   "execution_count": 1,
   "metadata": {},
   "outputs": [],
   "source": [
    "import numpy as np\n",
    "import matplotlib.pyplot as plt\n",
    "import scipy.integrate as spi\n",
    "import pandas as pd\n",
    "%matplotlib inline"
   ]
  },
  {
   "cell_type": "markdown",
   "metadata": {},
   "source": [
    "### Importing data with pandas.read_csv"
   ]
  },
  {
   "cell_type": "code",
   "execution_count": 2,
   "metadata": {},
   "outputs": [
    {
     "ename": "UnicodeDecodeError",
     "evalue": "'utf-8' codec can't decode byte 0xe9 in position 9: invalid continuation byte",
     "output_type": "error",
     "traceback": [
      "\u001b[0;31m---------------------------------------------------------------------------\u001b[0m",
      "\u001b[0;31mUnicodeDecodeError\u001b[0m                        Traceback (most recent call last)",
      "\u001b[0;32m<ipython-input-2-475a8c687b09>\u001b[0m in \u001b[0;36m<module>\u001b[0;34m()\u001b[0m\n\u001b[0;32m----> 1\u001b[0;31m \u001b[0mdata\u001b[0m \u001b[0;34m=\u001b[0m \u001b[0mpd\u001b[0m\u001b[0;34m.\u001b[0m\u001b[0mread_csv\u001b[0m\u001b[0;34m(\u001b[0m\u001b[0;34m'04770123-eng.csv'\u001b[0m\u001b[0;34m)\u001b[0m\u001b[0;34m\u001b[0m\u001b[0m\n\u001b[0m",
      "\u001b[0;32m/opt/conda/lib/python3.6/site-packages/pandas/io/parsers.py\u001b[0m in \u001b[0;36mparser_f\u001b[0;34m(filepath_or_buffer, sep, delimiter, header, names, index_col, usecols, squeeze, prefix, mangle_dupe_cols, dtype, engine, converters, true_values, false_values, skipinitialspace, skiprows, nrows, na_values, keep_default_na, na_filter, verbose, skip_blank_lines, parse_dates, infer_datetime_format, keep_date_col, date_parser, dayfirst, iterator, chunksize, compression, thousands, decimal, lineterminator, quotechar, quoting, escapechar, comment, encoding, dialect, tupleize_cols, error_bad_lines, warn_bad_lines, skipfooter, skip_footer, doublequote, delim_whitespace, as_recarray, compact_ints, use_unsigned, low_memory, buffer_lines, memory_map, float_precision)\u001b[0m\n\u001b[1;32m    644\u001b[0m                     skip_blank_lines=skip_blank_lines)\n\u001b[1;32m    645\u001b[0m \u001b[0;34m\u001b[0m\u001b[0m\n\u001b[0;32m--> 646\u001b[0;31m         \u001b[0;32mreturn\u001b[0m \u001b[0m_read\u001b[0m\u001b[0;34m(\u001b[0m\u001b[0mfilepath_or_buffer\u001b[0m\u001b[0;34m,\u001b[0m \u001b[0mkwds\u001b[0m\u001b[0;34m)\u001b[0m\u001b[0;34m\u001b[0m\u001b[0m\n\u001b[0m\u001b[1;32m    647\u001b[0m \u001b[0;34m\u001b[0m\u001b[0m\n\u001b[1;32m    648\u001b[0m     \u001b[0mparser_f\u001b[0m\u001b[0;34m.\u001b[0m\u001b[0m__name__\u001b[0m \u001b[0;34m=\u001b[0m \u001b[0mname\u001b[0m\u001b[0;34m\u001b[0m\u001b[0m\n",
      "\u001b[0;32m/opt/conda/lib/python3.6/site-packages/pandas/io/parsers.py\u001b[0m in \u001b[0;36m_read\u001b[0;34m(filepath_or_buffer, kwds)\u001b[0m\n\u001b[1;32m    399\u001b[0m         \u001b[0;32mreturn\u001b[0m \u001b[0mparser\u001b[0m\u001b[0;34m\u001b[0m\u001b[0m\n\u001b[1;32m    400\u001b[0m \u001b[0;34m\u001b[0m\u001b[0m\n\u001b[0;32m--> 401\u001b[0;31m     \u001b[0mdata\u001b[0m \u001b[0;34m=\u001b[0m \u001b[0mparser\u001b[0m\u001b[0;34m.\u001b[0m\u001b[0mread\u001b[0m\u001b[0;34m(\u001b[0m\u001b[0;34m)\u001b[0m\u001b[0;34m\u001b[0m\u001b[0m\n\u001b[0m\u001b[1;32m    402\u001b[0m     \u001b[0mparser\u001b[0m\u001b[0;34m.\u001b[0m\u001b[0mclose\u001b[0m\u001b[0;34m(\u001b[0m\u001b[0;34m)\u001b[0m\u001b[0;34m\u001b[0m\u001b[0m\n\u001b[1;32m    403\u001b[0m     \u001b[0;32mreturn\u001b[0m \u001b[0mdata\u001b[0m\u001b[0;34m\u001b[0m\u001b[0m\n",
      "\u001b[0;32m/opt/conda/lib/python3.6/site-packages/pandas/io/parsers.py\u001b[0m in \u001b[0;36mread\u001b[0;34m(self, nrows)\u001b[0m\n\u001b[1;32m    937\u001b[0m                 \u001b[0;32mraise\u001b[0m \u001b[0mValueError\u001b[0m\u001b[0;34m(\u001b[0m\u001b[0;34m'skipfooter not supported for iteration'\u001b[0m\u001b[0;34m)\u001b[0m\u001b[0;34m\u001b[0m\u001b[0m\n\u001b[1;32m    938\u001b[0m \u001b[0;34m\u001b[0m\u001b[0m\n\u001b[0;32m--> 939\u001b[0;31m         \u001b[0mret\u001b[0m \u001b[0;34m=\u001b[0m \u001b[0mself\u001b[0m\u001b[0;34m.\u001b[0m\u001b[0m_engine\u001b[0m\u001b[0;34m.\u001b[0m\u001b[0mread\u001b[0m\u001b[0;34m(\u001b[0m\u001b[0mnrows\u001b[0m\u001b[0;34m)\u001b[0m\u001b[0;34m\u001b[0m\u001b[0m\n\u001b[0m\u001b[1;32m    940\u001b[0m \u001b[0;34m\u001b[0m\u001b[0m\n\u001b[1;32m    941\u001b[0m         \u001b[0;32mif\u001b[0m \u001b[0mself\u001b[0m\u001b[0;34m.\u001b[0m\u001b[0moptions\u001b[0m\u001b[0;34m.\u001b[0m\u001b[0mget\u001b[0m\u001b[0;34m(\u001b[0m\u001b[0;34m'as_recarray'\u001b[0m\u001b[0;34m)\u001b[0m\u001b[0;34m:\u001b[0m\u001b[0;34m\u001b[0m\u001b[0m\n",
      "\u001b[0;32m/opt/conda/lib/python3.6/site-packages/pandas/io/parsers.py\u001b[0m in \u001b[0;36mread\u001b[0;34m(self, nrows)\u001b[0m\n\u001b[1;32m   1506\u001b[0m     \u001b[0;32mdef\u001b[0m \u001b[0mread\u001b[0m\u001b[0;34m(\u001b[0m\u001b[0mself\u001b[0m\u001b[0;34m,\u001b[0m \u001b[0mnrows\u001b[0m\u001b[0;34m=\u001b[0m\u001b[0;32mNone\u001b[0m\u001b[0;34m)\u001b[0m\u001b[0;34m:\u001b[0m\u001b[0;34m\u001b[0m\u001b[0m\n\u001b[1;32m   1507\u001b[0m         \u001b[0;32mtry\u001b[0m\u001b[0;34m:\u001b[0m\u001b[0;34m\u001b[0m\u001b[0m\n\u001b[0;32m-> 1508\u001b[0;31m             \u001b[0mdata\u001b[0m \u001b[0;34m=\u001b[0m \u001b[0mself\u001b[0m\u001b[0;34m.\u001b[0m\u001b[0m_reader\u001b[0m\u001b[0;34m.\u001b[0m\u001b[0mread\u001b[0m\u001b[0;34m(\u001b[0m\u001b[0mnrows\u001b[0m\u001b[0;34m)\u001b[0m\u001b[0;34m\u001b[0m\u001b[0m\n\u001b[0m\u001b[1;32m   1509\u001b[0m         \u001b[0;32mexcept\u001b[0m \u001b[0mStopIteration\u001b[0m\u001b[0;34m:\u001b[0m\u001b[0;34m\u001b[0m\u001b[0m\n\u001b[1;32m   1510\u001b[0m             \u001b[0;32mif\u001b[0m \u001b[0mself\u001b[0m\u001b[0;34m.\u001b[0m\u001b[0m_first_chunk\u001b[0m\u001b[0;34m:\u001b[0m\u001b[0;34m\u001b[0m\u001b[0m\n",
      "\u001b[0;32mpandas/parser.pyx\u001b[0m in \u001b[0;36mpandas.parser.TextReader.read (pandas/parser.c:10415)\u001b[0;34m()\u001b[0m\n",
      "\u001b[0;32mpandas/parser.pyx\u001b[0m in \u001b[0;36mpandas.parser.TextReader._read_low_memory (pandas/parser.c:10691)\u001b[0;34m()\u001b[0m\n",
      "\u001b[0;32mpandas/parser.pyx\u001b[0m in \u001b[0;36mpandas.parser.TextReader._read_rows (pandas/parser.c:11728)\u001b[0;34m()\u001b[0m\n",
      "\u001b[0;32mpandas/parser.pyx\u001b[0m in \u001b[0;36mpandas.parser.TextReader._convert_column_data (pandas/parser.c:13162)\u001b[0;34m()\u001b[0m\n",
      "\u001b[0;32mpandas/parser.pyx\u001b[0m in \u001b[0;36mpandas.parser.TextReader._convert_tokens (pandas/parser.c:14116)\u001b[0;34m()\u001b[0m\n",
      "\u001b[0;32mpandas/parser.pyx\u001b[0m in \u001b[0;36mpandas.parser.TextReader._convert_with_dtype (pandas/parser.c:16172)\u001b[0;34m()\u001b[0m\n",
      "\u001b[0;32mpandas/parser.pyx\u001b[0m in \u001b[0;36mpandas.parser.TextReader._string_convert (pandas/parser.c:16400)\u001b[0;34m()\u001b[0m\n",
      "\u001b[0;32mpandas/parser.pyx\u001b[0m in \u001b[0;36mpandas.parser._string_box_utf8 (pandas/parser.c:22072)\u001b[0;34m()\u001b[0m\n",
      "\u001b[0;31mUnicodeDecodeError\u001b[0m: 'utf-8' codec can't decode byte 0xe9 in position 9: invalid continuation byte"
     ]
    }
   ],
   "source": [
    "data = pd.read_csv('04770123-eng.csv')"
   ]
  },
  {
   "cell_type": "markdown",
   "metadata": {},
   "source": [
    "There is an encording error. This dataset comes from the Goverment of Canada and there are probably some French accent characters that pandas doesn't recognize. Let's try again and specify `encoding='Latin'` to pandas that there are accent characters in the data."
   ]
  },
  {
   "cell_type": "code",
   "execution_count": 4,
   "metadata": {},
   "outputs": [],
   "source": [
    "data = pd.read_csv('04770123-eng.csv',encoding='latin')"
   ]
  },
  {
   "cell_type": "markdown",
   "metadata": {},
   "source": [
    "The data is imported as a panda DataFrame. This is like a spreadsheet with column names and row index. To get a summary of the data, let's get a summary of the data, let's use the function `.info()`."
   ]
  },
  {
   "cell_type": "code",
   "execution_count": 5,
   "metadata": {},
   "outputs": [
    {
     "name": "stdout",
     "output_type": "stream",
     "text": [
      "<class 'pandas.core.frame.DataFrame'>\n",
      "RangeIndex: 5159 entries, 0 to 5158\n",
      "Data columns (total 8 columns):\n",
      "Ref_Date      5159 non-null object\n",
      "GEO           5159 non-null object\n",
      "INS           5159 non-null object\n",
      "RAN           5159 non-null object\n",
      "STA           5159 non-null object\n",
      "Vector        5159 non-null object\n",
      "Coordinate    5159 non-null object\n",
      "Value         5159 non-null object\n",
      "dtypes: object(8)\n",
      "memory usage: 322.5+ KB\n"
     ]
    }
   ],
   "source": [
    "data.info()"
   ]
  },
  {
   "cell_type": "markdown",
   "metadata": {},
   "source": [
    "We have 5159 rows of data and 8 columns. The word `object` menas text. That's fine for most of the columns since `INS` is the name of the university but `value` should be a number. Let's use the function `.head()` to see the first 5 rows of the data."
   ]
  },
  {
   "cell_type": "code",
   "execution_count": 6,
   "metadata": {},
   "outputs": [
    {
     "data": {
      "text/html": [
       "<div>\n",
       "<table border=\"1\" class=\"dataframe\">\n",
       "  <thead>\n",
       "    <tr style=\"text-align: right;\">\n",
       "      <th></th>\n",
       "      <th>Ref_Date</th>\n",
       "      <th>GEO</th>\n",
       "      <th>INS</th>\n",
       "      <th>RAN</th>\n",
       "      <th>STA</th>\n",
       "      <th>Vector</th>\n",
       "      <th>Coordinate</th>\n",
       "      <th>Value</th>\n",
       "    </tr>\n",
       "  </thead>\n",
       "  <tbody>\n",
       "    <tr>\n",
       "      <th>0</th>\n",
       "      <td>2016/2017</td>\n",
       "      <td>Canada</td>\n",
       "      <td>Memorial University of Newfoundland - Includin...</td>\n",
       "      <td>Full professor</td>\n",
       "      <td>Total teaching staff</td>\n",
       "      <td>v113286602</td>\n",
       "      <td>1.1.2.1</td>\n",
       "      <td>294.0</td>\n",
       "    </tr>\n",
       "    <tr>\n",
       "      <th>1</th>\n",
       "      <td>2016/2017</td>\n",
       "      <td>Canada</td>\n",
       "      <td>Memorial University of Newfoundland - Includin...</td>\n",
       "      <td>Full professor</td>\n",
       "      <td>Teaching staff excluded</td>\n",
       "      <td>v113286603</td>\n",
       "      <td>1.1.2.2</td>\n",
       "      <td>12.0</td>\n",
       "    </tr>\n",
       "    <tr>\n",
       "      <th>2</th>\n",
       "      <td>2016/2017</td>\n",
       "      <td>Canada</td>\n",
       "      <td>Memorial University of Newfoundland - Includin...</td>\n",
       "      <td>Full professor</td>\n",
       "      <td>Average (dollars)</td>\n",
       "      <td>v113286604</td>\n",
       "      <td>1.1.2.3</td>\n",
       "      <td>153550.0</td>\n",
       "    </tr>\n",
       "    <tr>\n",
       "      <th>3</th>\n",
       "      <td>2016/2017</td>\n",
       "      <td>Canada</td>\n",
       "      <td>Memorial University of Newfoundland - Includin...</td>\n",
       "      <td>Full professor</td>\n",
       "      <td>Median (dollars)</td>\n",
       "      <td>v113286605</td>\n",
       "      <td>1.1.2.4</td>\n",
       "      <td>151325.0</td>\n",
       "    </tr>\n",
       "    <tr>\n",
       "      <th>4</th>\n",
       "      <td>2016/2017</td>\n",
       "      <td>Canada</td>\n",
       "      <td>Memorial University of Newfoundland - Includin...</td>\n",
       "      <td>Full professor</td>\n",
       "      <td>10th Percentile (dollars)</td>\n",
       "      <td>v113286606</td>\n",
       "      <td>1.1.2.5</td>\n",
       "      <td>129900.0</td>\n",
       "    </tr>\n",
       "  </tbody>\n",
       "</table>\n",
       "</div>"
      ],
      "text/plain": [
       "    Ref_Date     GEO                                                INS  \\\n",
       "0  2016/2017  Canada  Memorial University of Newfoundland - Includin...   \n",
       "1  2016/2017  Canada  Memorial University of Newfoundland - Includin...   \n",
       "2  2016/2017  Canada  Memorial University of Newfoundland - Includin...   \n",
       "3  2016/2017  Canada  Memorial University of Newfoundland - Includin...   \n",
       "4  2016/2017  Canada  Memorial University of Newfoundland - Includin...   \n",
       "\n",
       "              RAN                        STA      Vector Coordinate     Value  \n",
       "0  Full professor       Total teaching staff  v113286602    1.1.2.1     294.0  \n",
       "1  Full professor    Teaching staff excluded  v113286603    1.1.2.2      12.0  \n",
       "2  Full professor          Average (dollars)  v113286604    1.1.2.3  153550.0  \n",
       "3  Full professor           Median (dollars)  v113286605    1.1.2.4  151325.0  \n",
       "4  Full professor  10th Percentile (dollars)  v113286606    1.1.2.5  129900.0  "
      ]
     },
     "execution_count": 6,
     "metadata": {},
     "output_type": "execute_result"
    }
   ],
   "source": [
    "data.head()"
   ]
  },
  {
   "cell_type": "markdown",
   "metadata": {},
   "source": [
    "Why is the column `Value` imported as text and not a float? Let's take a look. We can select a column using a brackets and clumn name."
   ]
  },
  {
   "cell_type": "code",
   "execution_count": 7,
   "metadata": {},
   "outputs": [
    {
     "data": {
      "text/plain": [
       "0          294.0\n",
       "1           12.0\n",
       "2       153550.0\n",
       "3       151325.0\n",
       "4       129900.0\n",
       "5       174875.0\n",
       "6           42.0\n",
       "7           12.0\n",
       "8       159675.0\n",
       "9       156425.0\n",
       "10      132825.0\n",
       "11      188475.0\n",
       "12         252.0\n",
       "13      152525.0\n",
       "14      151325.0\n",
       "15      129900.0\n",
       "16      174875.0\n",
       "17         420.0\n",
       "18           6.0\n",
       "19      123500.0\n",
       "20      120125.0\n",
       "21      108475.0\n",
       "22      142750.0\n",
       "23          60.0\n",
       "24             x\n",
       "25      130300.0\n",
       "26      128750.0\n",
       "27      114625.0\n",
       "28      146775.0\n",
       "29         363.0\n",
       "          ...   \n",
       "5129     88300.0\n",
       "5130        54.0\n",
       "5131           x\n",
       "5132     82275.0\n",
       "5133     85525.0\n",
       "5134     68500.0\n",
       "5135     88300.0\n",
       "5136        12.0\n",
       "5137     77700.0\n",
       "5138     77700.0\n",
       "5139     77700.0\n",
       "5140     77700.0\n",
       "5141       255.0\n",
       "5142         6.0\n",
       "5143     88050.0\n",
       "5144     88300.0\n",
       "5145     77700.0\n",
       "5146     90325.0\n",
       "5147       117.0\n",
       "5148           x\n",
       "5149     87125.0\n",
       "5150     88300.0\n",
       "5151     81725.0\n",
       "5152     88300.0\n",
       "5153       138.0\n",
       "5154           x\n",
       "5155     88825.0\n",
       "5156     88300.0\n",
       "5157     77700.0\n",
       "5158     91425.0\n",
       "Name: Value, dtype: object"
      ]
     },
     "execution_count": 7,
     "metadata": {},
     "output_type": "execute_result"
    }
   ],
   "source": [
    "data['Value']"
   ]
  },
  {
   "cell_type": "markdown",
   "metadata": {},
   "source": [
    "Missing data in the `Value` column is represented by an `x`. We need to import the data and tell pandas that missing data is called `x`."
   ]
  },
  {
   "cell_type": "code",
   "execution_count": 8,
   "metadata": {},
   "outputs": [],
   "source": [
    "data = pd.read_csv('04770123-eng.csv',encoding='latin', na_values = 'x')"
   ]
  },
  {
   "cell_type": "code",
   "execution_count": 9,
   "metadata": {},
   "outputs": [
    {
     "data": {
      "text/plain": [
       "<bound method DataFrame.info of        Ref_Date     GEO                                                INS  \\\n",
       "0     2016/2017  Canada  Memorial University of Newfoundland - Includin...   \n",
       "1     2016/2017  Canada  Memorial University of Newfoundland - Includin...   \n",
       "2     2016/2017  Canada  Memorial University of Newfoundland - Includin...   \n",
       "3     2016/2017  Canada  Memorial University of Newfoundland - Includin...   \n",
       "4     2016/2017  Canada  Memorial University of Newfoundland - Includin...   \n",
       "5     2016/2017  Canada  Memorial University of Newfoundland - Includin...   \n",
       "6     2016/2017  Canada  Memorial University of Newfoundland - Includin...   \n",
       "7     2016/2017  Canada  Memorial University of Newfoundland - Includin...   \n",
       "8     2016/2017  Canada  Memorial University of Newfoundland - Includin...   \n",
       "9     2016/2017  Canada  Memorial University of Newfoundland - Includin...   \n",
       "10    2016/2017  Canada  Memorial University of Newfoundland - Includin...   \n",
       "11    2016/2017  Canada  Memorial University of Newfoundland - Includin...   \n",
       "12    2016/2017  Canada  Memorial University of Newfoundland - Includin...   \n",
       "13    2016/2017  Canada  Memorial University of Newfoundland - Includin...   \n",
       "14    2016/2017  Canada  Memorial University of Newfoundland - Includin...   \n",
       "15    2016/2017  Canada  Memorial University of Newfoundland - Includin...   \n",
       "16    2016/2017  Canada  Memorial University of Newfoundland - Includin...   \n",
       "17    2016/2017  Canada  Memorial University of Newfoundland - Includin...   \n",
       "18    2016/2017  Canada  Memorial University of Newfoundland - Includin...   \n",
       "19    2016/2017  Canada  Memorial University of Newfoundland - Includin...   \n",
       "20    2016/2017  Canada  Memorial University of Newfoundland - Includin...   \n",
       "21    2016/2017  Canada  Memorial University of Newfoundland - Includin...   \n",
       "22    2016/2017  Canada  Memorial University of Newfoundland - Includin...   \n",
       "23    2016/2017  Canada  Memorial University of Newfoundland - Includin...   \n",
       "24    2016/2017  Canada  Memorial University of Newfoundland - Includin...   \n",
       "25    2016/2017  Canada  Memorial University of Newfoundland - Includin...   \n",
       "26    2016/2017  Canada  Memorial University of Newfoundland - Includin...   \n",
       "27    2016/2017  Canada  Memorial University of Newfoundland - Includin...   \n",
       "28    2016/2017  Canada  Memorial University of Newfoundland - Includin...   \n",
       "29    2016/2017  Canada  Memorial University of Newfoundland - Includin...   \n",
       "...         ...     ...                                                ...   \n",
       "5129  2016/2017  Canada                    University of the Fraser Valley   \n",
       "5130  2016/2017  Canada                    University of the Fraser Valley   \n",
       "5131  2016/2017  Canada                    University of the Fraser Valley   \n",
       "5132  2016/2017  Canada                    University of the Fraser Valley   \n",
       "5133  2016/2017  Canada                    University of the Fraser Valley   \n",
       "5134  2016/2017  Canada                    University of the Fraser Valley   \n",
       "5135  2016/2017  Canada                    University of the Fraser Valley   \n",
       "5136  2016/2017  Canada                    University of the Fraser Valley   \n",
       "5137  2016/2017  Canada                    University of the Fraser Valley   \n",
       "5138  2016/2017  Canada                    University of the Fraser Valley   \n",
       "5139  2016/2017  Canada                    University of the Fraser Valley   \n",
       "5140  2016/2017  Canada                    University of the Fraser Valley   \n",
       "5141  2016/2017  Canada                    University of the Fraser Valley   \n",
       "5142  2016/2017  Canada                    University of the Fraser Valley   \n",
       "5143  2016/2017  Canada                    University of the Fraser Valley   \n",
       "5144  2016/2017  Canada                    University of the Fraser Valley   \n",
       "5145  2016/2017  Canada                    University of the Fraser Valley   \n",
       "5146  2016/2017  Canada                    University of the Fraser Valley   \n",
       "5147  2016/2017  Canada                    University of the Fraser Valley   \n",
       "5148  2016/2017  Canada                    University of the Fraser Valley   \n",
       "5149  2016/2017  Canada                    University of the Fraser Valley   \n",
       "5150  2016/2017  Canada                    University of the Fraser Valley   \n",
       "5151  2016/2017  Canada                    University of the Fraser Valley   \n",
       "5152  2016/2017  Canada                    University of the Fraser Valley   \n",
       "5153  2016/2017  Canada                    University of the Fraser Valley   \n",
       "5154  2016/2017  Canada                    University of the Fraser Valley   \n",
       "5155  2016/2017  Canada                    University of the Fraser Valley   \n",
       "5156  2016/2017  Canada                    University of the Fraser Valley   \n",
       "5157  2016/2017  Canada                    University of the Fraser Valley   \n",
       "5158  2016/2017  Canada                    University of the Fraser Valley   \n",
       "\n",
       "                                       RAN                        STA  \\\n",
       "0                           Full professor       Total teaching staff   \n",
       "1                           Full professor    Teaching staff excluded   \n",
       "2                           Full professor          Average (dollars)   \n",
       "3                           Full professor           Median (dollars)   \n",
       "4                           Full professor  10th Percentile (dollars)   \n",
       "5                           Full professor  90th Percentile (dollars)   \n",
       "6        With senior administrative duties       Total teaching staff   \n",
       "7        With senior administrative duties    Teaching staff excluded   \n",
       "8        With senior administrative duties          Average (dollars)   \n",
       "9        With senior administrative duties           Median (dollars)   \n",
       "10       With senior administrative duties  10th Percentile (dollars)   \n",
       "11       With senior administrative duties  90th Percentile (dollars)   \n",
       "12    Without senior administrative duties       Total teaching staff   \n",
       "13    Without senior administrative duties          Average (dollars)   \n",
       "14    Without senior administrative duties           Median (dollars)   \n",
       "15    Without senior administrative duties  10th Percentile (dollars)   \n",
       "16    Without senior administrative duties  90th Percentile (dollars)   \n",
       "17                     Associate professor       Total teaching staff   \n",
       "18                     Associate professor    Teaching staff excluded   \n",
       "19                     Associate professor          Average (dollars)   \n",
       "20                     Associate professor           Median (dollars)   \n",
       "21                     Associate professor  10th Percentile (dollars)   \n",
       "22                     Associate professor  90th Percentile (dollars)   \n",
       "23       With senior administrative duties       Total teaching staff   \n",
       "24       With senior administrative duties    Teaching staff excluded   \n",
       "25       With senior administrative duties          Average (dollars)   \n",
       "26       With senior administrative duties           Median (dollars)   \n",
       "27       With senior administrative duties  10th Percentile (dollars)   \n",
       "28       With senior administrative duties  90th Percentile (dollars)   \n",
       "29    Without senior administrative duties       Total teaching staff   \n",
       "...                                    ...                        ...   \n",
       "5129  Without senior administrative duties  10th Percentile (dollars)   \n",
       "5130                   Assistant professor       Total teaching staff   \n",
       "5131                   Assistant professor    Teaching staff excluded   \n",
       "5132                   Assistant professor          Average (dollars)   \n",
       "5133                   Assistant professor           Median (dollars)   \n",
       "5134                   Assistant professor  10th Percentile (dollars)   \n",
       "5135                   Assistant professor  90th Percentile (dollars)   \n",
       "5136        Rank below assistant professor       Total teaching staff   \n",
       "5137        Rank below assistant professor          Average (dollars)   \n",
       "5138        Rank below assistant professor           Median (dollars)   \n",
       "5139        Rank below assistant professor  10th Percentile (dollars)   \n",
       "5140        Rank below assistant professor  90th Percentile (dollars)   \n",
       "5141  All ranks combined (including deans)       Total teaching staff   \n",
       "5142  All ranks combined (including deans)    Teaching staff excluded   \n",
       "5143  All ranks combined (including deans)          Average (dollars)   \n",
       "5144  All ranks combined (including deans)           Median (dollars)   \n",
       "5145  All ranks combined (including deans)  10th Percentile (dollars)   \n",
       "5146  All ranks combined (including deans)  90th Percentile (dollars)   \n",
       "5147                                  Male       Total teaching staff   \n",
       "5148                                  Male    Teaching staff excluded   \n",
       "5149                                  Male          Average (dollars)   \n",
       "5150                                  Male           Median (dollars)   \n",
       "5151                                  Male  10th Percentile (dollars)   \n",
       "5152                                  Male  90th Percentile (dollars)   \n",
       "5153                                Female       Total teaching staff   \n",
       "5154                                Female    Teaching staff excluded   \n",
       "5155                                Female          Average (dollars)   \n",
       "5156                                Female           Median (dollars)   \n",
       "5157                                Female  10th Percentile (dollars)   \n",
       "5158                                Female  90th Percentile (dollars)   \n",
       "\n",
       "          Vector Coordinate     Value  \n",
       "0     v113286602    1.1.2.1     294.0  \n",
       "1     v113286603    1.1.2.2      12.0  \n",
       "2     v113286604    1.1.2.3  153550.0  \n",
       "3     v113286605    1.1.2.4  151325.0  \n",
       "4     v113286606    1.1.2.5  129900.0  \n",
       "5     v113286607    1.1.2.6  174875.0  \n",
       "6     v113286608    1.1.3.1      42.0  \n",
       "7     v113286609    1.1.3.2      12.0  \n",
       "8     v113286610    1.1.3.3  159675.0  \n",
       "9     v113286611    1.1.3.4  156425.0  \n",
       "10    v113286612    1.1.3.5  132825.0  \n",
       "11    v113286613    1.1.3.6  188475.0  \n",
       "12    v113286614    1.1.4.1     252.0  \n",
       "13    v113286616    1.1.4.3  152525.0  \n",
       "14    v113286617    1.1.4.4  151325.0  \n",
       "15    v113286618    1.1.4.5  129900.0  \n",
       "16    v113286619    1.1.4.6  174875.0  \n",
       "17    v113286620    1.1.5.1     420.0  \n",
       "18    v113286621    1.1.5.2       6.0  \n",
       "19    v113286622    1.1.5.3  123500.0  \n",
       "20    v113286623    1.1.5.4  120125.0  \n",
       "21    v113286624    1.1.5.5  108475.0  \n",
       "22    v113286625    1.1.5.6  142750.0  \n",
       "23    v113286626    1.1.6.1      60.0  \n",
       "24    v113286627    1.1.6.2       NaN  \n",
       "25    v113286628    1.1.6.3  130300.0  \n",
       "26    v113286629    1.1.6.4  128750.0  \n",
       "27    v113286630    1.1.6.5  114625.0  \n",
       "28    v113286631    1.1.6.6  146775.0  \n",
       "29    v113286632    1.1.7.1     363.0  \n",
       "...          ...        ...       ...  \n",
       "5129  v113291316   1.84.7.5   88300.0  \n",
       "5130  v113291318   1.84.8.1      54.0  \n",
       "5131  v113291319   1.84.8.2       NaN  \n",
       "5132  v113291320   1.84.8.3   82275.0  \n",
       "5133  v113291321   1.84.8.4   85525.0  \n",
       "5134  v113291322   1.84.8.5   68500.0  \n",
       "5135  v113291323   1.84.8.6   88300.0  \n",
       "5136  v113291324   1.84.9.1      12.0  \n",
       "5137  v113291326   1.84.9.3   77700.0  \n",
       "5138  v113291327   1.84.9.4   77700.0  \n",
       "5139  v113291328   1.84.9.5   77700.0  \n",
       "5140  v113291329   1.84.9.6   77700.0  \n",
       "5141  v113291336  1.84.11.1     255.0  \n",
       "5142  v113291337  1.84.11.2       6.0  \n",
       "5143  v113291338  1.84.11.3   88050.0  \n",
       "5144  v113291339  1.84.11.4   88300.0  \n",
       "5145  v113291340  1.84.11.5   77700.0  \n",
       "5146  v113291341  1.84.11.6   90325.0  \n",
       "5147  v113291342  1.84.12.1     117.0  \n",
       "5148  v113291343  1.84.12.2       NaN  \n",
       "5149  v113291344  1.84.12.3   87125.0  \n",
       "5150  v113291345  1.84.12.4   88300.0  \n",
       "5151  v113291346  1.84.12.5   81725.0  \n",
       "5152  v113291347  1.84.12.6   88300.0  \n",
       "5153  v113291348  1.84.13.1     138.0  \n",
       "5154  v113291349  1.84.13.2       NaN  \n",
       "5155  v113291350  1.84.13.3   88825.0  \n",
       "5156  v113291351  1.84.13.4   88300.0  \n",
       "5157  v113291352  1.84.13.5   77700.0  \n",
       "5158  v113291353  1.84.13.6   91425.0  \n",
       "\n",
       "[5159 rows x 8 columns]>"
      ]
     },
     "execution_count": 9,
     "metadata": {},
     "output_type": "execute_result"
    }
   ],
   "source": [
    "data.info"
   ]
  },
  {
   "cell_type": "code",
   "execution_count": 10,
   "metadata": {},
   "outputs": [
    {
     "data": {
      "text/html": [
       "<div>\n",
       "<table border=\"1\" class=\"dataframe\">\n",
       "  <thead>\n",
       "    <tr style=\"text-align: right;\">\n",
       "      <th></th>\n",
       "      <th>Ref_Date</th>\n",
       "      <th>GEO</th>\n",
       "      <th>INS</th>\n",
       "      <th>RAN</th>\n",
       "      <th>STA</th>\n",
       "      <th>Vector</th>\n",
       "      <th>Coordinate</th>\n",
       "      <th>Value</th>\n",
       "    </tr>\n",
       "  </thead>\n",
       "  <tbody>\n",
       "    <tr>\n",
       "      <th>0</th>\n",
       "      <td>2016/2017</td>\n",
       "      <td>Canada</td>\n",
       "      <td>Memorial University of Newfoundland - Includin...</td>\n",
       "      <td>Full professor</td>\n",
       "      <td>Total teaching staff</td>\n",
       "      <td>v113286602</td>\n",
       "      <td>1.1.2.1</td>\n",
       "      <td>294.0</td>\n",
       "    </tr>\n",
       "    <tr>\n",
       "      <th>1</th>\n",
       "      <td>2016/2017</td>\n",
       "      <td>Canada</td>\n",
       "      <td>Memorial University of Newfoundland - Includin...</td>\n",
       "      <td>Full professor</td>\n",
       "      <td>Teaching staff excluded</td>\n",
       "      <td>v113286603</td>\n",
       "      <td>1.1.2.2</td>\n",
       "      <td>12.0</td>\n",
       "    </tr>\n",
       "    <tr>\n",
       "      <th>2</th>\n",
       "      <td>2016/2017</td>\n",
       "      <td>Canada</td>\n",
       "      <td>Memorial University of Newfoundland - Includin...</td>\n",
       "      <td>Full professor</td>\n",
       "      <td>Average (dollars)</td>\n",
       "      <td>v113286604</td>\n",
       "      <td>1.1.2.3</td>\n",
       "      <td>153550.0</td>\n",
       "    </tr>\n",
       "    <tr>\n",
       "      <th>3</th>\n",
       "      <td>2016/2017</td>\n",
       "      <td>Canada</td>\n",
       "      <td>Memorial University of Newfoundland - Includin...</td>\n",
       "      <td>Full professor</td>\n",
       "      <td>Median (dollars)</td>\n",
       "      <td>v113286605</td>\n",
       "      <td>1.1.2.4</td>\n",
       "      <td>151325.0</td>\n",
       "    </tr>\n",
       "    <tr>\n",
       "      <th>4</th>\n",
       "      <td>2016/2017</td>\n",
       "      <td>Canada</td>\n",
       "      <td>Memorial University of Newfoundland - Includin...</td>\n",
       "      <td>Full professor</td>\n",
       "      <td>10th Percentile (dollars)</td>\n",
       "      <td>v113286606</td>\n",
       "      <td>1.1.2.5</td>\n",
       "      <td>129900.0</td>\n",
       "    </tr>\n",
       "  </tbody>\n",
       "</table>\n",
       "</div>"
      ],
      "text/plain": [
       "    Ref_Date     GEO                                                INS  \\\n",
       "0  2016/2017  Canada  Memorial University of Newfoundland - Includin...   \n",
       "1  2016/2017  Canada  Memorial University of Newfoundland - Includin...   \n",
       "2  2016/2017  Canada  Memorial University of Newfoundland - Includin...   \n",
       "3  2016/2017  Canada  Memorial University of Newfoundland - Includin...   \n",
       "4  2016/2017  Canada  Memorial University of Newfoundland - Includin...   \n",
       "\n",
       "              RAN                        STA      Vector Coordinate     Value  \n",
       "0  Full professor       Total teaching staff  v113286602    1.1.2.1     294.0  \n",
       "1  Full professor    Teaching staff excluded  v113286603    1.1.2.2      12.0  \n",
       "2  Full professor          Average (dollars)  v113286604    1.1.2.3  153550.0  \n",
       "3  Full professor           Median (dollars)  v113286605    1.1.2.4  151325.0  \n",
       "4  Full professor  10th Percentile (dollars)  v113286606    1.1.2.5  129900.0  "
      ]
     },
     "execution_count": 10,
     "metadata": {},
     "output_type": "execute_result"
    }
   ],
   "source": [
    "data.head()"
   ]
  },
  {
   "cell_type": "markdown",
   "metadata": {},
   "source": [
    "Let's see the different entries in the column `Ref_Date`."
   ]
  },
  {
   "cell_type": "code",
   "execution_count": 11,
   "metadata": {},
   "outputs": [
    {
     "data": {
      "text/plain": [
       "array(['2016/2017'], dtype=object)"
      ]
     },
     "execution_count": 11,
     "metadata": {},
     "output_type": "execute_result"
    }
   ],
   "source": [
    "data['Ref_Date'].unique()"
   ]
  },
  {
   "cell_type": "code",
   "execution_count": 12,
   "metadata": {},
   "outputs": [
    {
     "data": {
      "text/plain": [
       "array(['Canada'], dtype=object)"
      ]
     },
     "execution_count": 12,
     "metadata": {},
     "output_type": "execute_result"
    }
   ],
   "source": [
    "data['GEO'].unique()"
   ]
  },
  {
   "cell_type": "markdown",
   "metadata": {},
   "source": [
    "The column `Ref_date` and `GEO` have only one value so let's drop it."
   ]
  },
  {
   "cell_type": "code",
   "execution_count": 13,
   "metadata": {},
   "outputs": [],
   "source": [
    "data.drop(['Ref_Date','GEO'], axis = 1, inplace = True)"
   ]
  },
  {
   "cell_type": "markdown",
   "metadata": {},
   "source": [
    "The columns `Vector` and `Coordinate` "
   ]
  },
  {
   "cell_type": "code",
   "execution_count": 14,
   "metadata": {},
   "outputs": [
    {
     "data": {
      "text/plain": [
       "5159"
      ]
     },
     "execution_count": 14,
     "metadata": {},
     "output_type": "execute_result"
    }
   ],
   "source": [
    "data['Coordinate'].nunique()"
   ]
  },
  {
   "cell_type": "markdown",
   "metadata": {},
   "source": [
    "These solumns seem to be IDs. We can drop them too."
   ]
  },
  {
   "cell_type": "code",
   "execution_count": 15,
   "metadata": {},
   "outputs": [],
   "source": [
    "data.drop(['Coordinate','Vector'], axis = 1, inplace = True)"
   ]
  },
  {
   "cell_type": "markdown",
   "metadata": {},
   "source": [
    "Let's take a look."
   ]
  },
  {
   "cell_type": "code",
   "execution_count": 16,
   "metadata": {},
   "outputs": [
    {
     "data": {
      "text/html": [
       "<div>\n",
       "<table border=\"1\" class=\"dataframe\">\n",
       "  <thead>\n",
       "    <tr style=\"text-align: right;\">\n",
       "      <th></th>\n",
       "      <th>INS</th>\n",
       "      <th>RAN</th>\n",
       "      <th>STA</th>\n",
       "      <th>Value</th>\n",
       "    </tr>\n",
       "  </thead>\n",
       "  <tbody>\n",
       "    <tr>\n",
       "      <th>0</th>\n",
       "      <td>Memorial University of Newfoundland - Includin...</td>\n",
       "      <td>Full professor</td>\n",
       "      <td>Total teaching staff</td>\n",
       "      <td>294.0</td>\n",
       "    </tr>\n",
       "    <tr>\n",
       "      <th>1</th>\n",
       "      <td>Memorial University of Newfoundland - Includin...</td>\n",
       "      <td>Full professor</td>\n",
       "      <td>Teaching staff excluded</td>\n",
       "      <td>12.0</td>\n",
       "    </tr>\n",
       "    <tr>\n",
       "      <th>2</th>\n",
       "      <td>Memorial University of Newfoundland - Includin...</td>\n",
       "      <td>Full professor</td>\n",
       "      <td>Average (dollars)</td>\n",
       "      <td>153550.0</td>\n",
       "    </tr>\n",
       "    <tr>\n",
       "      <th>3</th>\n",
       "      <td>Memorial University of Newfoundland - Includin...</td>\n",
       "      <td>Full professor</td>\n",
       "      <td>Median (dollars)</td>\n",
       "      <td>151325.0</td>\n",
       "    </tr>\n",
       "    <tr>\n",
       "      <th>4</th>\n",
       "      <td>Memorial University of Newfoundland - Includin...</td>\n",
       "      <td>Full professor</td>\n",
       "      <td>10th Percentile (dollars)</td>\n",
       "      <td>129900.0</td>\n",
       "    </tr>\n",
       "  </tbody>\n",
       "</table>\n",
       "</div>"
      ],
      "text/plain": [
       "                                                 INS             RAN  \\\n",
       "0  Memorial University of Newfoundland - Includin...  Full professor   \n",
       "1  Memorial University of Newfoundland - Includin...  Full professor   \n",
       "2  Memorial University of Newfoundland - Includin...  Full professor   \n",
       "3  Memorial University of Newfoundland - Includin...  Full professor   \n",
       "4  Memorial University of Newfoundland - Includin...  Full professor   \n",
       "\n",
       "                         STA     Value  \n",
       "0       Total teaching staff     294.0  \n",
       "1    Teaching staff excluded      12.0  \n",
       "2          Average (dollars)  153550.0  \n",
       "3           Median (dollars)  151325.0  \n",
       "4  10th Percentile (dollars)  129900.0  "
      ]
     },
     "execution_count": 16,
     "metadata": {},
     "output_type": "execute_result"
    }
   ],
   "source": [
    "data.head()"
   ]
  },
  {
   "cell_type": "markdown",
   "metadata": {},
   "source": [
    "How many different institutions are in the dataset?"
   ]
  },
  {
   "cell_type": "code",
   "execution_count": 17,
   "metadata": {},
   "outputs": [
    {
     "data": {
      "text/plain": [
       "<bound method Series.unique of 0       Memorial University of Newfoundland - Includin...\n",
       "1       Memorial University of Newfoundland - Includin...\n",
       "2       Memorial University of Newfoundland - Includin...\n",
       "3       Memorial University of Newfoundland - Includin...\n",
       "4       Memorial University of Newfoundland - Includin...\n",
       "5       Memorial University of Newfoundland - Includin...\n",
       "6       Memorial University of Newfoundland - Includin...\n",
       "7       Memorial University of Newfoundland - Includin...\n",
       "8       Memorial University of Newfoundland - Includin...\n",
       "9       Memorial University of Newfoundland - Includin...\n",
       "10      Memorial University of Newfoundland - Includin...\n",
       "11      Memorial University of Newfoundland - Includin...\n",
       "12      Memorial University of Newfoundland - Includin...\n",
       "13      Memorial University of Newfoundland - Includin...\n",
       "14      Memorial University of Newfoundland - Includin...\n",
       "15      Memorial University of Newfoundland - Includin...\n",
       "16      Memorial University of Newfoundland - Includin...\n",
       "17      Memorial University of Newfoundland - Includin...\n",
       "18      Memorial University of Newfoundland - Includin...\n",
       "19      Memorial University of Newfoundland - Includin...\n",
       "20      Memorial University of Newfoundland - Includin...\n",
       "21      Memorial University of Newfoundland - Includin...\n",
       "22      Memorial University of Newfoundland - Includin...\n",
       "23      Memorial University of Newfoundland - Includin...\n",
       "24      Memorial University of Newfoundland - Includin...\n",
       "25      Memorial University of Newfoundland - Includin...\n",
       "26      Memorial University of Newfoundland - Includin...\n",
       "27      Memorial University of Newfoundland - Includin...\n",
       "28      Memorial University of Newfoundland - Includin...\n",
       "29      Memorial University of Newfoundland - Includin...\n",
       "                              ...                        \n",
       "5129                      University of the Fraser Valley\n",
       "5130                      University of the Fraser Valley\n",
       "5131                      University of the Fraser Valley\n",
       "5132                      University of the Fraser Valley\n",
       "5133                      University of the Fraser Valley\n",
       "5134                      University of the Fraser Valley\n",
       "5135                      University of the Fraser Valley\n",
       "5136                      University of the Fraser Valley\n",
       "5137                      University of the Fraser Valley\n",
       "5138                      University of the Fraser Valley\n",
       "5139                      University of the Fraser Valley\n",
       "5140                      University of the Fraser Valley\n",
       "5141                      University of the Fraser Valley\n",
       "5142                      University of the Fraser Valley\n",
       "5143                      University of the Fraser Valley\n",
       "5144                      University of the Fraser Valley\n",
       "5145                      University of the Fraser Valley\n",
       "5146                      University of the Fraser Valley\n",
       "5147                      University of the Fraser Valley\n",
       "5148                      University of the Fraser Valley\n",
       "5149                      University of the Fraser Valley\n",
       "5150                      University of the Fraser Valley\n",
       "5151                      University of the Fraser Valley\n",
       "5152                      University of the Fraser Valley\n",
       "5153                      University of the Fraser Valley\n",
       "5154                      University of the Fraser Valley\n",
       "5155                      University of the Fraser Valley\n",
       "5156                      University of the Fraser Valley\n",
       "5157                      University of the Fraser Valley\n",
       "5158                      University of the Fraser Valley\n",
       "Name: INS, dtype: object>"
      ]
     },
     "execution_count": 17,
     "metadata": {},
     "output_type": "execute_result"
    }
   ],
   "source": [
    "data['INS'].unique"
   ]
  },
  {
   "cell_type": "code",
   "execution_count": 18,
   "metadata": {},
   "outputs": [
    {
     "data": {
      "text/plain": [
       "<bound method IndexOpsMixin.nunique of 0       Memorial University of Newfoundland - Includin...\n",
       "1       Memorial University of Newfoundland - Includin...\n",
       "2       Memorial University of Newfoundland - Includin...\n",
       "3       Memorial University of Newfoundland - Includin...\n",
       "4       Memorial University of Newfoundland - Includin...\n",
       "5       Memorial University of Newfoundland - Includin...\n",
       "6       Memorial University of Newfoundland - Includin...\n",
       "7       Memorial University of Newfoundland - Includin...\n",
       "8       Memorial University of Newfoundland - Includin...\n",
       "9       Memorial University of Newfoundland - Includin...\n",
       "10      Memorial University of Newfoundland - Includin...\n",
       "11      Memorial University of Newfoundland - Includin...\n",
       "12      Memorial University of Newfoundland - Includin...\n",
       "13      Memorial University of Newfoundland - Includin...\n",
       "14      Memorial University of Newfoundland - Includin...\n",
       "15      Memorial University of Newfoundland - Includin...\n",
       "16      Memorial University of Newfoundland - Includin...\n",
       "17      Memorial University of Newfoundland - Includin...\n",
       "18      Memorial University of Newfoundland - Includin...\n",
       "19      Memorial University of Newfoundland - Includin...\n",
       "20      Memorial University of Newfoundland - Includin...\n",
       "21      Memorial University of Newfoundland - Includin...\n",
       "22      Memorial University of Newfoundland - Includin...\n",
       "23      Memorial University of Newfoundland - Includin...\n",
       "24      Memorial University of Newfoundland - Includin...\n",
       "25      Memorial University of Newfoundland - Includin...\n",
       "26      Memorial University of Newfoundland - Includin...\n",
       "27      Memorial University of Newfoundland - Includin...\n",
       "28      Memorial University of Newfoundland - Includin...\n",
       "29      Memorial University of Newfoundland - Includin...\n",
       "                              ...                        \n",
       "5129                      University of the Fraser Valley\n",
       "5130                      University of the Fraser Valley\n",
       "5131                      University of the Fraser Valley\n",
       "5132                      University of the Fraser Valley\n",
       "5133                      University of the Fraser Valley\n",
       "5134                      University of the Fraser Valley\n",
       "5135                      University of the Fraser Valley\n",
       "5136                      University of the Fraser Valley\n",
       "5137                      University of the Fraser Valley\n",
       "5138                      University of the Fraser Valley\n",
       "5139                      University of the Fraser Valley\n",
       "5140                      University of the Fraser Valley\n",
       "5141                      University of the Fraser Valley\n",
       "5142                      University of the Fraser Valley\n",
       "5143                      University of the Fraser Valley\n",
       "5144                      University of the Fraser Valley\n",
       "5145                      University of the Fraser Valley\n",
       "5146                      University of the Fraser Valley\n",
       "5147                      University of the Fraser Valley\n",
       "5148                      University of the Fraser Valley\n",
       "5149                      University of the Fraser Valley\n",
       "5150                      University of the Fraser Valley\n",
       "5151                      University of the Fraser Valley\n",
       "5152                      University of the Fraser Valley\n",
       "5153                      University of the Fraser Valley\n",
       "5154                      University of the Fraser Valley\n",
       "5155                      University of the Fraser Valley\n",
       "5156                      University of the Fraser Valley\n",
       "5157                      University of the Fraser Valley\n",
       "5158                      University of the Fraser Valley\n",
       "Name: INS, dtype: object>"
      ]
     },
     "execution_count": 18,
     "metadata": {},
     "output_type": "execute_result"
    }
   ],
   "source": [
    "data['INS'].nunique"
   ]
  },
  {
   "cell_type": "code",
   "execution_count": 19,
   "metadata": {},
   "outputs": [
    {
     "data": {
      "text/plain": [
       "array(['Full professor', 'With senior administrative duties',\n",
       "       'Without senior administrative duties', 'Associate professor',\n",
       "       'Assistant professor', 'Rank below assistant professor',\n",
       "       'All ranks combined (including deans)', 'Male', 'Female',\n",
       "       'Other teaching staff', 'Visiting Staff', 'Sex unknown/other'], dtype=object)"
      ]
     },
     "execution_count": 19,
     "metadata": {},
     "output_type": "execute_result"
    }
   ],
   "source": [
    "data['RAN'].unique()"
   ]
  },
  {
   "cell_type": "code",
   "execution_count": 20,
   "metadata": {},
   "outputs": [
    {
     "data": {
      "text/plain": [
       "array(['Total teaching staff', 'Teaching staff excluded',\n",
       "       'Average (dollars)', 'Median (dollars)',\n",
       "       '10th Percentile (dollars)', '90th Percentile (dollars)'], dtype=object)"
      ]
     },
     "execution_count": 20,
     "metadata": {},
     "output_type": "execute_result"
    }
   ],
   "source": [
    "data['STA'].unique()"
   ]
  },
  {
   "cell_type": "code",
   "execution_count": 27,
   "metadata": {},
   "outputs": [],
   "source": [
    "data_men_women = data[(data['RAN'] == 'Male') | (data['RAN'] == 'Female')]"
   ]
  },
  {
   "cell_type": "code",
   "execution_count": 29,
   "metadata": {},
   "outputs": [],
   "source": [
    "data_men_women_median = data_men_women[data_men_women['STA'] == 'Median (dollars)']"
   ]
  },
  {
   "cell_type": "code",
   "execution_count": 31,
   "metadata": {},
   "outputs": [
    {
     "data": {
      "text/plain": [
       "<pandas.core.groupby.SeriesGroupBy object at 0x7fb7dcd8ada0>"
      ]
     },
     "execution_count": 31,
     "metadata": {},
     "output_type": "execute_result"
    }
   ],
   "source": [
    "data_men_women_median.groupby(['INS','RAN'])['Value']"
   ]
  },
  {
   "cell_type": "code",
   "execution_count": null,
   "metadata": {},
   "outputs": [],
   "source": []
  }
 ],
 "metadata": {
  "kernelspec": {
   "display_name": "Python 3",
   "language": "python",
   "name": "python3"
  },
  "language_info": {
   "codemirror_mode": {
    "name": "ipython",
    "version": 3
   },
   "file_extension": ".py",
   "mimetype": "text/x-python",
   "name": "python",
   "nbconvert_exporter": "python",
   "pygments_lexer": "ipython3",
   "version": "3.6.4"
  }
 },
 "nbformat": 4,
 "nbformat_minor": 2
}
