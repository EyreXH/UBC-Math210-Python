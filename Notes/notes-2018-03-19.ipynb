{
 "cells": [
  {
   "cell_type": "markdown",
   "metadata": {},
   "source": [
    "# MATH 210 Introduction to Mathematical Computing\n",
    "\n",
    "## March 19, 2018"
   ]
  },
  {
   "cell_type": "markdown",
   "metadata": {},
   "source": [
    "* Differential equations"
   ]
  },
  {
   "cell_type": "code",
   "execution_count": 2,
   "metadata": {},
   "outputs": [],
   "source": [
    "import numpy as np\n",
    "import matplotlib.pyplot as plt\n",
    "%matplotlib inline"
   ]
  },
  {
   "cell_type": "markdown",
   "metadata": {},
   "source": [
    "## Differential equations\n",
    "\n",
    "A `differential equation` is an equation involving a unknown function $y(t)$ and its derivatives $y',y'',y'''$,... \n",
    "\n",
    "The `order` of a differenctial equation is the order of the highest order derivative appearing is the equation.\n",
    "\n",
    "A differential equation is `linear` if $y',y'',y'''$,... appear on their own and `not` inside another function."
   ]
  },
  {
   "cell_type": "markdown",
   "metadata": {},
   "source": [
    "`Example`: $y' = y$, first order linear, and we can solve it.\n",
    "\n",
    "$y(t) = Ce^t$, for any constant $C$."
   ]
  },
  {
   "cell_type": "markdown",
   "metadata": {},
   "source": [
    "`Example`: $y'=y^2$, first order `nonlinear`, and we can solve it.\n",
    "\n",
    "It is separable! \n",
    "\n",
    "$$\n",
    "\\begin{align*}\n",
    "y' & = y^2 \\\\\n",
    "\\frac{1}{y^2}y' &= 1  \\\\\n",
    "\\int \\frac{1}{y^2} \\ dy & = \\int \\ dt \\\\\n",
    "\\frac{-1}{y} & = t + C \\\\\n",
    "y & = \\frac{-1}{t + C} \\\\\n",
    "\\end{align*}\n",
    "$$"
   ]
  },
  {
   "cell_type": "markdown",
   "metadata": {},
   "source": [
    "`Example`: $y'' + (y')^2 + ty = cos(t)$, second order `nonlinear`. Can you solve it exactly? Impossible!"
   ]
  },
  {
   "cell_type": "markdown",
   "metadata": {},
   "source": [
    "There are many kinds of DEs. Most of them are impossible to solve explicity, exactly. But we can `always` find `numerical approximations` of solutions."
   ]
  },
  {
   "cell_type": "markdown",
   "metadata": {},
   "source": [
    "### Euler's method for first order equation\n",
    "\n",
    "Consider a first order equation $y' = f(t,y)$, some function of $t$ and $y$, with initial condition when $t=0, y(0) = y_0$."
   ]
  },
  {
   "cell_type": "markdown",
   "metadata": {},
   "source": [
    "Note that the equation $y' = f(t,y)$ tells us everything about the `slope` of $y(t)$.\n",
    "\n",
    "So $y'(0) = f(0,y_0) = y_0'$"
   ]
  },
  {
   "cell_type": "markdown",
   "metadata": {},
   "source": [
    "Note that this `graph` is the tangent line to $y(t)$ at (0,y_0).\n",
    "\n",
    "We approximate $y(t_1)$ by the tangent line,\n",
    "\n",
    "$$y(t_1) \\approx y(0)+t_1y'(0,y_0)$$\n",
    "\n",
    "where $y_1 = y(0)+t_1y'(0,y_0)$\n",
    "\n",
    "So the same for $t = t_1, y=y_1$,\n",
    "\n",
    "$$y(t_2) \\approx y_1+(t_2 - t_1)y'(t_1,y_1)$$\n",
    "\n",
    "where $y_2 = y_1+(t_2 - t_1)y'(t_1,y_1)$"
   ]
  },
  {
   "cell_type": "markdown",
   "metadata": {},
   "source": [
    "`Euler's method`:\n",
    "\n",
    "$$\n",
    "\\begin{align*}\n",
    "y' & = f(t,y) \\\\\n",
    "y(t_0) & = y_0 \\\\\n",
    "y_{n+1} & = y_n + hf(t_n,y_n) \\\\\n",
    "\\end{align*}\n",
    "$$\n",
    "\n",
    "with step size h."
   ]
  },
  {
   "cell_type": "code",
   "execution_count": 3,
   "metadata": {},
   "outputs": [],
   "source": [
    "def euler(f,t0,y0,tf,h):\n",
    "    y = [y0]\n",
    "    steps = int((tf-t0)/h)\n",
    "    for n in range(1,steps):\n",
    "        yn = y[n-1] + h* f(t0+ n*h, y[n-1])\n",
    "        y.append(yn)\n",
    "    return y"
   ]
  },
  {
   "cell_type": "code",
   "execution_count": 4,
   "metadata": {},
   "outputs": [],
   "source": [
    "def f(t,y):\n",
    "    return y"
   ]
  },
  {
   "cell_type": "code",
   "execution_count": 5,
   "metadata": {},
   "outputs": [],
   "source": [
    "y = euler(f,0,1,1,0.1)"
   ]
  },
  {
   "cell_type": "code",
   "execution_count": 6,
   "metadata": {},
   "outputs": [
    {
     "data": {
      "text/plain": [
       "[<matplotlib.lines.Line2D at 0x7faab6353f28>]"
      ]
     },
     "execution_count": 6,
     "metadata": {},
     "output_type": "execute_result"
    },
    {
     "data": {
      "image/png": "[encoded data removed]",
      "text/plain": [
       "<matplotlib.figure.Figure at 0x7faab8806eb8>"
      ]
     },
     "metadata": {},
     "output_type": "display_data"
    }
   ],
   "source": [
    "plt.plot(y)"
   ]
  },
  {
   "cell_type": "code",
   "execution_count": null,
   "metadata": {},
   "outputs": [],
   "source": []
  }
 ],
 "metadata": {
  "kernelspec": {
   "display_name": "Python 3",
   "language": "python",
   "name": "python3"
  },
  "language_info": {
   "codemirror_mode": {
    "name": "ipython",
    "version": 3
   },
   "file_extension": ".py",
   "mimetype": "text/x-python",
   "name": "python",
   "nbconvert_exporter": "python",
   "pygments_lexer": "ipython3",
   "version": "3.6.4"
  }
 },
 "nbformat": 4,
 "nbformat_minor": 2
}
