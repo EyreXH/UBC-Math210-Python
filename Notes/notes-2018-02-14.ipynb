{
 "cells": [
  {
   "cell_type": "markdown",
   "metadata": {},
   "source": [
    "# MATH 210 Introduction to Mathematical Computing\n",
    "\n",
    "## February 14, 2018\n",
    "\n",
    "1. Trapezoid rule\n",
    "2. Error formula"
   ]
  },
  {
   "cell_type": "code",
   "execution_count": 1,
   "metadata": {},
   "outputs": [],
   "source": [
    "import numpy as np\n",
    "import matplotlib.pyplot as plt\n",
    "%matplotlib inline"
   ]
  },
  {
   "cell_type": "markdown",
   "metadata": {},
   "source": [
    "## 1. Trapezoid rule\n",
    "\n",
    "The [trapezoid rule](https://en.wikipedia.org/wiki/Trapezoidal_rule) is a method for approximating a definite integral\n",
    "\n",
    "$$\n",
    "\\int_a^b f(x) \\, dx\n",
    "$$\n",
    "\n",
    "In particular, given an integer $N$, the trapezoid rule for $N$ subintervals of $[a,b]$ of equal length is\n",
    "\n",
    "$$\n",
    "T_N(f) = \\frac{h}{2} \\sum_{k=1}^N (f(x_k) + f(x_{k-1}))\n",
    "$$\n",
    "\n",
    "where $h = (b - a)/N$ is the length of the subintervals and $x_k = a + k h$.\n",
    "\n",
    "Let's write a function called `trapz` which takes input parameters $f$, $a$, $b$ and $N$ and returns the approximation $T_N(f)$. Furthermore, let's assign default values $a=0$, $b=1$ and $N=50$."
   ]
  },
  {
   "cell_type": "code",
   "execution_count": 2,
   "metadata": {},
   "outputs": [],
   "source": [
    "def trapz(f,a=0,b=1,N=50):\n",
    "    '''Approximate the definite integral of f(x) from a to b using the trapezoid rule.\n",
    "    \n",
    "    The trapezoid rule approximates the integral \\int_a^b f(x) dx by the sum:\n",
    "    (h/2) \\sum_{k=1}^N (f(x_k) + f(x_{k-1}))\n",
    "    where x_k = a + k*h and h = (b - a)/N.\n",
    "    \n",
    "    Parameters\n",
    "    ----------\n",
    "    f : vectorized function of a single variable\n",
    "    a,b : numbers defining the interval of integration [a,b]\n",
    "    N : integer defining the number of subintervals\n",
    "        \n",
    "    Returns\n",
    "    -------\n",
    "    Approximation the integral of f(x) from a to b using the trapezoid rule\n",
    "    with N subintervals of equal length.\n",
    "        \n",
    "    Example\n",
    "    --------\n",
    "    >>> trapz(np.sin,a=0,b=np.pi/2,N=1000)\n",
    "    0.99999979438323316\n",
    "    '''\n",
    "    x = np.linspace(a,b,N+1)\n",
    "    y = f(x)\n",
    "    h = (b - a)/N\n",
    "    integral = 0.5 * h * (y[1:] + y[:-1]).sum()\n",
    "    return integral"
   ]
  },
  {
   "cell_type": "markdown",
   "metadata": {},
   "source": [
    "Let's test our function on an integral where we know the answer:\n",
    "\n",
    "$$\n",
    "\\int_0^{\\pi/2} \\sin x \\ dx = 1\n",
    "$$"
   ]
  },
  {
   "cell_type": "code",
   "execution_count": 3,
   "metadata": {},
   "outputs": [
    {
     "data": {
      "text/plain": [
       "0.99999979438323316"
      ]
     },
     "execution_count": 3,
     "metadata": {},
     "output_type": "execute_result"
    }
   ],
   "source": [
    "trapz(np.sin,a=0,b=np.pi/2,N=1000)"
   ]
  },
  {
   "cell_type": "markdown",
   "metadata": {},
   "source": [
    "Let's test our function again:\n",
    "\n",
    "$$\n",
    "\\int_0^1 3 x^2 \\ dx = 1\n",
    "$$"
   ]
  },
  {
   "cell_type": "code",
   "execution_count": 4,
   "metadata": {},
   "outputs": [
    {
     "data": {
      "text/plain": [
       "1.0000000050000002"
      ]
     },
     "execution_count": 4,
     "metadata": {},
     "output_type": "execute_result"
    }
   ],
   "source": [
    "def f(x):\n",
    "    return 3*x**2\n",
    "\n",
    "trapz(f,N=10000)"
   ]
  },
  {
   "cell_type": "markdown",
   "metadata": {},
   "source": [
    "## Error formula\n",
    "\n",
    "How good of an approximation is $T_N(f)$?\n",
    "\n",
    "**Theorem.** Let $M$ such that $\\left| \\ f''(x) \\, \\right| \\leq M$ for all $x \\in [a,b]$. Then\n",
    "\n",
    "$$\n",
    "E_N^T(f) = \\left| \\ \\int_a^b f(x) \\ dx - T_N(f) \\ \\right| \\leq \\frac{(b-a)^3}{12 N^2} M\n",
    "$$"
   ]
  },
  {
   "cell_type": "markdown",
   "metadata": {},
   "source": [
    "Before we prove the error formula, let's verify it for a simple integral. How many subintervals $N$ gurantees the trapezoid rule approximates $\\int_0^{\\pi/2} \\sin x \\ dx$ within 0.01?\n",
    "\n",
    "Since $f(x) = \\sin x$ and $|f''(x)| \\leq 1$, the error formula in this case is\n",
    "\n",
    "$$\n",
    "\\left| \\ \\int_a^b f(x) \\ dx - T_N(f) \\ \\right| \\leq \\frac{(\\pi/2)^3}{12 N^2} = \\frac{\\pi^3}{96 N^2}\n",
    "$$\n",
    "\n",
    "To guarantee that the error is less than $0.01$ we need\n",
    "\n",
    "$$\n",
    "\\frac{\\pi^3}{96 N^2} \\leq 0.01 \\ \\Rightarrow \\ \\sqrt{\\frac{50\\pi^3}{48}} \\leq N\n",
    "$$"
   ]
  },
  {
   "cell_type": "code",
   "execution_count": 5,
   "metadata": {},
   "outputs": [
    {
     "data": {
      "text/plain": [
       "5.683150963621529"
      ]
     },
     "execution_count": 5,
     "metadata": {},
     "output_type": "execute_result"
    }
   ],
   "source": [
    "(50*np.pi**3/48)**0.5"
   ]
  },
  {
   "cell_type": "markdown",
   "metadata": {},
   "source": [
    "The trapezoid rule with $N=6$ subintervals guarantees the approximation is within 0.01 of the true value:"
   ]
  },
  {
   "cell_type": "code",
   "execution_count": 6,
   "metadata": {},
   "outputs": [
    {
     "data": {
      "text/plain": [
       "True"
      ]
     },
     "execution_count": 6,
     "metadata": {},
     "output_type": "execute_result"
    }
   ],
   "source": [
    "np.abs(1 - trapz(np.sin,a=0,b=np.pi/2,N=6)) < 0.01"
   ]
  },
  {
   "cell_type": "markdown",
   "metadata": {},
   "source": [
    "### Proof of the error formula\n",
    "\n"
   ]
  },
  {
   "cell_type": "markdown",
   "metadata": {},
   "source": [
    "We can write the integral $\\int_a^b f(x) \\, dx$ as a sum of integrals of the subintervals\n",
    "\n",
    "$$\n",
    "\\int_a^b f(x) \\ dx = \\int_{x_0}^{x_1} f(x) \\, dx + \\int_{x_1}^{x_2} f(x) \\, dx + \\cdots + \\int_{x_{N-1}}^{x_N} f(x) \\, dx = \\sum_{k=1}^N \\int_{x_{k-1}}^{x_k} f(x) \\ dx\n",
    "$$\n",
    " \n",
    "therefore the error is\n",
    "\n",
    "$$\n",
    "\\int_a^b f(x) \\ dx - T_N(f) = \\sum_{k=1}^N \\left( \\int_{x_{k-1}}^{x_k} f(x) \\ dx -  \\frac{h}{2}(f(x_k) + f(x_{k-1})) \\right)\n",
    "$$\n",
    "\n",
    "Let's look at $\\int_{x_{k-1}}^{x_k} f(x) \\ dx -  \\frac{h}{2}(f(x_k) + f(x_{k-1}))$. It turns out\n",
    "\n",
    "$$\n",
    "\\frac{h}{2}(f(x_k) + f(x_{k-1})) - \\int_{x_{k-1}}^{x_k} f(x) \\ dx = \\int_{x_{k-1}}^{x_k} \\left( x - \\frac{x_k + x_{k-1}}{2} \\right) f'(x) \\, dx \\ \\ (*)\n",
    "$$\n",
    "\n",
    "To see this, let's use integration by parts on the right side with $U = x - (x_k+x_{k-1})/2$ and $dV = f'(x) \\, dx$. Then $dU = dx$ and $V = f(x)$ therefore\n",
    "\n",
    "\\begin{align*}\n",
    "\\int_{x_{k-1}}^{x_k} \\left( x - \\frac{x_k+x_{k-1}}{2} \\right) f'(x) \\, dx\n",
    "&=\n",
    "\\left. \\left( x - \\frac{x_k+x_{k-1}}{2} \\right) f(x) \\right|_{x_{k-1}}^{x_k} - \\int_{x_{k-1}}^{x_k} f(x) \\, dx \\\\\n",
    "&=\n",
    "\\left( x_k - \\frac{x_k+x_{k-1}}{2} \\right) f(x_k) - \\left( x_{k-1} - \\frac{x_k+x_{k-1}}{2} \\right) f(x_{k-1}) - \\int_{x_{k-1}}^{x_k} f(x) \\, dx \\\\\n",
    "&=\n",
    "\\left(\\frac{x_k-x_{k-1}}{2} \\right) f(x_k) + \\left(\\frac{x_k - x_{k-1}}{2} \\right) f(x_{k-1}) - \\int_{x_{k-1}}^{x_k} f(x) \\, dx \\\\\n",
    "&=\n",
    "\\frac{h}{2} ( f(x_k) + f(x_{k-1}) - \\int_{x_{k-1}}^{x_k} f(x) \\, dx \\\\\n",
    "\\end{align*}"
   ]
  },
  {
   "cell_type": "markdown",
   "metadata": {},
   "source": [
    "Let's apply integation by parts on the right side of equation $(*)$ with $U = f'(x)$ and $dV = (x - (x_k+x_{k-1})/2) dx$. Then $dU = f''(x) \\, dx$ and $V = x^2/2 - (x_k+x_{k-1}) x/2$ and so\n",
    "\n",
    "\\begin{align*}\n",
    "\\int_{x_{k-1}}^{x_k} \\left( x - \\frac{x_k+x_{k-1}}{2} \\right) f'(x) \\, dx\n",
    "&=\n",
    "f'(x) \\left. \\left( \\frac{x^2}{2} - \\frac{(x_k+x_{k-1})x}{2} \\right) \\right|_{x_{k-1}}^{x_k} - \\int_{x_{k-1}}^{x_k} \\left( \\frac{x^2}{2} - \\frac{(x_k+x_{k-1})x}{2} \\right) f''(x) dx \\\\\n",
    "&=\n",
    "f'(x_k) \\left( - \\frac{x_{k-1}x_k}{2} \\right)\n",
    "- f'(x_{k-1}) \\left( - \\frac{x_kx_{k-1}}{2} \\right)\n",
    "- \\int_{x_{k-1}}^{x_k} \\left( \\frac{x^2}{2} - \\frac{(x_k+x_{k-1})x}{2} \\right) f''(x) dx \\\\\n",
    "&=\n",
    "-( f'(x_k) -f'(x_{k-1})) \\left( \\frac{x_{k-1}x_k}{2} \\right)\n",
    "- \\int_{x_{k-1}}^{x_k} \\left( \\frac{x^2}{2} - \\frac{(x_k+x_{k-1})x}{2} \\right) f''(x) dx \\\\\n",
    "&=\n",
    "- \\int_{x_{k-1}}^{x_k} \\left( \\frac{x_{k-1}x_k}{2} \\right) f''(x) \\, dx\n",
    "- \\int_{x_{k-1}}^{x_k} \\left( \\frac{x^2}{2} - \\frac{(x_k+x_{k-1})x}{2} \\right) f''(x) dx \\\\\n",
    "&=\n",
    "- \\int_{x_{k-1}}^{x_k} \\left( \\frac{x_{k-1}x_k}{2} + \\frac{x^2}{2} - \\frac{(x_k+x_{k-1})x}{2} \\right) f''(x) dx \\\\\n",
    "&=\n",
    "-\\frac{1}{2}  \\int_{x_{k-1}}^{x_k} \\left( x_{k-1}x_k + \\left( x - \\frac{x_k+x_{k-1}}{2} \\right)^2 - \\left( \\frac{x_k+x_{k-1}}{2} \\right)^2 \\right) f''(x) dx \\\\\n",
    "&=\n",
    "-\\frac{1}{2}  \\int_{x_{k-1}}^{x_k} \\left( \\left( x - \\frac{x_k+x_{k-1}}{2} \\right)^2 - \\left( \\frac{x_k-x_{k-1}}{2} \\right)^2 \\right) f''(x) dx \\\\\n",
    "&=\n",
    "\\frac{1}{2}  \\int_{x_{k-1}}^{x_k} \\left( \\left( \\frac{h}{2} \\right)^2 - \\left( x - \\frac{x_k+x_{k-1}}{2} \\right)^2 \\right) f''(x) dx\n",
    "\\end{align*}"
   ]
  },
  {
   "cell_type": "markdown",
   "metadata": {},
   "source": [
    "If $| f''(x) | \\leq M$, then we can approximate this last integral:\n",
    "\n",
    "\\begin{align*}\n",
    "\\left| \\frac{1}{2} \\int_{x_{k-1}}^{x_k} \\left( \\left( \\frac{h}{2} \\right)^2 - \\left( x - \\frac{x_k+x_{k-1}}{2} \\right)^2 \\right) f''(x) dx \\right|\n",
    "&\\leq\n",
    "\\frac{M}{2} \\left. \\left| \\left( \\frac{h}{2} \\right)^2 x - \\frac{1}{3}\\left( x - \\frac{x_k+x_{k-1}}{2} \\right)^3 \\right| \\right|_{x_{k-1}}^{x_k} \\\\\n",
    "&=\n",
    "\\frac{M}{2} \\left|\n",
    "\\frac{h^2}{4} x_k - \\frac{1}{3}\\left( x_k - \\frac{x_k+x_{k-1}}{2} \\right)^3\n",
    "-\n",
    "\\left( \\frac{h^2}{4} x_{k-1} - \\frac{1}{3}\\left( x_{k-1} - \\frac{x_k+x_{k-1}}{2} \\right)^3 \\right)\n",
    "\\right|\n",
    "\\\\\n",
    "&=\n",
    "\\frac{M}{2} \\left|\n",
    "\\frac{h^3}{4} - \\frac{1}{3}\\left(\\frac{h}{2} \\right)^3 + \\frac{1}{3}\\left( \\frac{-h}{2} \\right)^3\n",
    "\\right|\n",
    "\\\\\n",
    "&=\n",
    "\\frac{M}{2} \\left|\n",
    "\\frac{h^3}{4} - \\frac{h^3}{12}\n",
    "\\right|\n",
    "\\\\\n",
    "&=\n",
    "M \\frac{h^3}{12}\n",
    "\\end{align*}"
   ]
  },
  {
   "cell_type": "markdown",
   "metadata": {},
   "source": [
    "Altogether, we bound the error\n",
    "\n",
    "\\begin{align*}\n",
    "\\left| \\int_a^b f(x) \\ dx - T_N(f) \\right|\n",
    "&= \\left| \\sum_{k=1}^N \\left( \\int_{x_{k-1}}^{x_k} f(x) \\ dx -  \\frac{h}{2}(f(x_k) + f(x_{k-1})) \\right) \\right| \\\\\n",
    "&\\leq \\sum_{k=1}^N \\left| \\int_{x_{k-1}}^{x_k} f(x) \\ dx -  \\frac{h}{2}(f(x_k) + f(x_{k-1})) \\right| \\\\\n",
    "&= \\sum_{k=1}^N \\left| \\int_{x_{k-1}}^{x_k} \\left( x - \\frac{x_k + x_{k-1}}{2} \\right) f'(x) \\, dx \\right| \\\\\n",
    "&= \\sum_{k=1}^N \\left| \\frac{1}{2}  \\int_{x_{k-1}}^{x_k} \\left( \\left( \\frac{h}{2} \\right)^2 - \\left( x - \\frac{x_k+x_{k-1}}{2} \\right)^2 \\right) f''(x) dx \\right| \\\\\n",
    "&\\leq \\sum_{k=1}^N \\frac{h^3}{12} M \\\\\n",
    "&=   N \\frac{h^3}{12} M = N \\frac{(b-a)^3}{12N^3} M = \\frac{(b-a)^3}{12N^2} M\n",
    "\\end{align*}"
   ]
  }
 ],
 "metadata": {
  "kernelspec": {
   "display_name": "Python 3",
   "language": "python",
   "name": "python3"
  },
  "language_info": {
   "codemirror_mode": {
    "name": "ipython",
    "version": 3
   },
   "file_extension": ".py",
   "mimetype": "text/x-python",
   "name": "python",
   "nbconvert_exporter": "python",
   "pygments_lexer": "ipython3",
   "version": "3.6.4"
  }
 },
 "nbformat": 4,
 "nbformat_minor": 2
}
