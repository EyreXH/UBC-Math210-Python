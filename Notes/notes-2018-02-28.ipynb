{
 "cells": [
  {
   "cell_type": "markdown",
   "metadata": {},
   "source": [
    "# MATH 210 Introduction to Mathematical Computing\n",
    "\n",
    "## February 28, 2018"
   ]
  },
  {
   "cell_type": "markdown",
   "metadata": {},
   "source": [
    "1. Error formula for Simpson's rule\n",
    "2. Numberical differenctiation"
   ]
  },
  {
   "cell_type": "code",
   "execution_count": 1,
   "metadata": {},
   "outputs": [],
   "source": [
    "import numpy as np\n",
    "import matplotlib.pyplot as plt\n",
    "import scipy.integrate as spi\n",
    "%matplotlib inline"
   ]
  },
  {
   "cell_type": "markdown",
   "metadata": {},
   "source": [
    "## 1. Error formula for Simpson's rule\n",
    "\n",
    "Simpson's rule is an approximation of the definite integral \n",
    "\n",
    "$$\n",
    "\\int_a^b f(x) \\, dx \\approx \\frac{h}{3} \\sum_{k=1}^{N/2} \\left( f(x_{2k-2}+ 4f(x_{2k-1}) + f(x_{2k}) \\right)\n",
    "$$\n",
    "\n",
    "Where $N$ is an even number giving the number of subintervals of $[a,b], h = (b-a)/N$ amd $x_k = a+kh$.\n",
    "\n",
    "The natural question to ask is : how good of an approximation is $S_N(f)$?\n"
   ]
  },
  {
   "cell_type": "markdown",
   "metadata": {},
   "source": [
    "**Theorem** The error in Simpson's rule is \n",
    "\n",
    "$$\n",
    "E_N^S(f) = \\left| \\int_a^b f(x) \\, dx - S_N(f) \\right| \\leq \\frac{(b-a)^5}{180N^4} M\n",
    "$$\n",
    "\n",
    "where $|f''''(x)| \\leq M$ for all $x \\in [a,b]$."
   ]
  },
  {
   "cell_type": "markdown",
   "metadata": {},
   "source": [
    "**Example.** What value $N$ guarantees that $E_N^S(f) \\leq 0.0001$ for \n",
    "\n",
    "$$\n",
    "\\int_1^2 \\frac{1}{x}dx\n",
    "$$"
   ]
  },
  {
   "cell_type": "markdown",
   "metadata": {},
   "source": [
    "Let's compute $f''''(x)$:\n",
    "\n",
    "\\begin{align*}\n",
    "f(x) &= \\frac{1}{x} \\\\\n",
    "f'(x) &= - \\frac{1}{x^2} \\\\\n",
    "f''(x) &= \\frac{2}{x^3} \\\\\n",
    "f'''(x) &= - \\frac{6}{x^4} \\\\\n",
    "f''''(x) &= \\frac{24}{x^5} \\\\\n",
    "\\end{align*}"
   ]
  },
  {
   "cell_type": "markdown",
   "metadata": {},
   "source": [
    "Therefore $\\left|f''''(x) \\right| \\leq 24$ for all $a \\in [1,2]$ and so\n",
    "\n",
    "\\begin{align*}\n",
    "E_N^S (f) = \\frac{1}{180N^4} 24 & \\leq 0.0001 \\\\\n",
    "\\frac{20000}{15N^4} 24 & \\leq 1 \\\\\n",
    "\\left ( \\frac{20000}{15} \\right )^{1/4} & \\leq 1 \\\\\n",
    "\\end{align*}"
   ]
  },
  {
   "cell_type": "code",
   "execution_count": 3,
   "metadata": {},
   "outputs": [
    {
     "data": {
      "text/plain": [
       "6.042750794713537"
      ]
     },
     "execution_count": 3,
     "metadata": {},
     "output_type": "execute_result"
    }
   ],
   "source": [
    "(20000/15)**0.25"
   ]
  },
  {
   "cell_type": "markdown",
   "metadata": {},
   "source": [
    "Therefore $N = 8$ guarantees that $E_N^S (f) \\leq 0.0001$."
   ]
  },
  {
   "cell_type": "code",
   "execution_count": 6,
   "metadata": {},
   "outputs": [
    {
     "data": {
      "text/plain": [
       "True"
      ]
     },
     "execution_count": 6,
     "metadata": {},
     "output_type": "execute_result"
    }
   ],
   "source": [
    "N = 8\n",
    "x = np.linspace(1,2,N+1)\n",
    "y = 1/x\n",
    "np.abs(np.log(2) - spi.simps(y,x)) <= 0.001"
   ]
  },
  {
   "cell_type": "markdown",
   "metadata": {},
   "source": [
    "## 2. Numerical differentiation\n",
    "\n",
    "The forward difference formula with step size $h$ is an approximation of $f'(a)$ given by\n",
    "\n",
    "$$\n",
    "f'(a) \\approx \\frac{f(a+h)-f(a)}{h}\n",
    "$$\n",
    "\n",
    "The backwards difference forumla with step size $h$ is an approximation of $f'(a)$ given by\n",
    "\n",
    "$$\n",
    "f'(a) \\approx \\frac{f(a)-f(a-h)}{h}\n",
    "$$"
   ]
  },
  {
   "cell_type": "markdown",
   "metadata": {},
   "source": [
    "The central difference formula with step size $h$ is an approximation of $f'(a)$ given by the averafe of the forward and backwards difference formulas \n",
    "\n",
    "$$\n",
    "f'(a) \\approx \\frac{1}{2} \\left( \\frac{f(a+h)-f(a)}{h} +  \\frac{f(a)-f(a-h)}{h} \\right) = \\frac{f(a+h)-f(a-h)}{2h}\n",
    "$$"
   ]
  },
  {
   "cell_type": "markdown",
   "metadata": {},
   "source": [
    "Let's write a function called `central_diff` which takes input parameters `f`, `a`, and `h` (with default value $h=0.01$) and returns the central difference formula for $f'(a)$ with step size $h$."
   ]
  },
  {
   "cell_type": "code",
   "execution_count": 9,
   "metadata": {},
   "outputs": [],
   "source": [
    "def central_diff(f,a,h=0.01):\n",
    "    '''\n",
    "    Compute the central difference formula f'(a) \\approx (f(a+h) -f(a-h))/2h\n",
    "    \n",
    "    Parameters\n",
    "    -----------\n",
    "    f : function of one variable\n",
    "    a : number\n",
    "    h : number\n",
    "    \n",
    "    Returns\n",
    "    ---------\n",
    "    Central difference formula (f(a+h) - f(a-h))/2h\n",
    "    \n",
    "    '''\n",
    "    return (f(a+h) - f(a-h))/(2*h)"
   ]
  },
  {
   "cell_type": "code",
   "execution_count": 10,
   "metadata": {},
   "outputs": [
    {
     "data": {
      "text/plain": [
       "0.0"
      ]
     },
     "execution_count": 10,
     "metadata": {},
     "output_type": "execute_result"
    }
   ],
   "source": [
    "central_diff(np.cos,0)"
   ]
  },
  {
   "cell_type": "code",
   "execution_count": 11,
   "metadata": {},
   "outputs": [
    {
     "data": {
      "text/plain": [
       "1.0000000016668897"
      ]
     },
     "execution_count": 11,
     "metadata": {},
     "output_type": "execute_result"
    }
   ],
   "source": [
    "central_diff(np.exp,0,h=0.0001)"
   ]
  },
  {
   "cell_type": "code",
   "execution_count": 13,
   "metadata": {},
   "outputs": [
    {
     "data": {
      "text/plain": [
       "-1.000000082740371"
      ]
     },
     "execution_count": 13,
     "metadata": {},
     "output_type": "execute_result"
    }
   ],
   "source": [
    "central_diff(lambda x : 1/x,1,h=10e-10)"
   ]
  },
  {
   "cell_type": "code",
   "execution_count": 14,
   "metadata": {},
   "outputs": [
    {
     "data": {
      "text/plain": [
       "0.0"
      ]
     },
     "execution_count": 14,
     "metadata": {},
     "output_type": "execute_result"
    }
   ],
   "source": [
    "central_diff(lambda x : 1/np.sin(x),np.pi/2,h=10e-5)"
   ]
  },
  {
   "cell_type": "markdown",
   "metadata": {},
   "source": [
    "Natural questions: how good of an approximation are forward/backwards and central difference formula? The errors formulas come from the Taylor error formula:"
   ]
  },
  {
   "cell_type": "markdown",
   "metadata": {},
   "source": [
    "**Theorem**\n",
    "\n",
    "$$\n",
    "f(x) = f(a) + f'(a)(x-a) + \\frac{f''(a)}{2} (x-a)^2 + \\cdots +  \\frac{f^{(n)}(a)}{n!} (x-a)^n + \\frac{f^{(n+1)}(c)}{(n+1)!} (x-a)^{n+1}\n",
    "$$\n",
    "\n",
    "for some $c$ between $x$ and $a$."
   ]
  },
  {
   "cell_type": "code",
   "execution_count": null,
   "metadata": {},
   "outputs": [],
   "source": []
  }
 ],
 "metadata": {
  "kernelspec": {
   "display_name": "Python 3",
   "language": "python",
   "name": "python3"
  },
  "language_info": {
   "codemirror_mode": {
    "name": "ipython",
    "version": 3
   },
   "file_extension": ".py",
   "mimetype": "text/x-python",
   "name": "python",
   "nbconvert_exporter": "python",
   "pygments_lexer": "ipython3",
   "version": "3.6.4"
  }
 },
 "nbformat": 4,
 "nbformat_minor": 2
}
