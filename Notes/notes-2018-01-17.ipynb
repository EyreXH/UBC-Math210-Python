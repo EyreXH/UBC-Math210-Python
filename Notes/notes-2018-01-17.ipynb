{
 "cells": [
  {
   "cell_type": "markdown",
   "metadata": {},
   "source": [
    "# MATH 210 Introduction to Mathematical Computing\n",
    "\n",
    "## January 17, 2018"
   ]
  },
  {
   "cell_type": "markdown",
   "metadata": {},
   "source": [
    "1. Definition Functions\n",
    "    * Syntax\n",
    "    * Docstrings\n",
    "    * Comments\n",
    "2. Examples"
   ]
  },
  {
   "cell_type": "markdown",
   "metadata": {},
   "source": [
    "## 1.Defining Functions\n",
    "\n",
    "Let's start with a simple example. Let's define a function called `box_surface` which input parameters `w`, `d` and `h`, positive real numbers defining the dimensions width, depth and height of a rectangular box, and returns the total surface area of the box."
   ]
  },
  {
   "cell_type": "code",
   "execution_count": 3,
   "metadata": {},
   "outputs": [
    {
     "data": {
      "text/plain": [
       "6"
      ]
     },
     "execution_count": 3,
     "metadata": {},
     "output_type": "execute_result"
    }
   ],
   "source": [
    "def box_surface(w,d,h):\n",
    "    \"Compute surface area of rectangular box with dimensions w, d, and h.\"\n",
    "    # Opposte sides have equal area\n",
    "    area = 2*w*d + 2*w*h + 2*d*h\n",
    "    return area\n",
    "\n",
    "# Outside the function definition\n",
    "# Test our function for values where we know the result:\n",
    "# box_surface(1,1,1) returns 6\n",
    "box_surface(1,1,1)"
   ]
  },
  {
   "cell_type": "code",
   "execution_count": 4,
   "metadata": {},
   "outputs": [
    {
     "name": "stdout",
     "output_type": "stream",
     "text": [
      "Variable      Type        Data/Info\n",
      "-----------------------------------\n",
      "box_surface   function    <function box_surface at 0x7f8d68036a60>\n"
     ]
    }
   ],
   "source": [
    "whos"
   ]
  },
  {
   "cell_type": "code",
   "execution_count": 5,
   "metadata": {},
   "outputs": [],
   "source": [
    "box_surface?"
   ]
  },
  {
   "cell_type": "markdown",
   "metadata": {},
   "source": [
    "## 2.Example"
   ]
  },
  {
   "cell_type": "markdown",
   "metadata": {},
   "source": [
    "Write a function called `mn_integral` which takes input parameters `m`, `n`, `a` `b` and `N` and returns the () Riemann\n",
    "\n",
    "$$\n",
    "\\int_a^b\\frac{x^m+1}{x^{n}+1}dx \\approx \\sum_{k=1}^N f(x_k) \\Delta x \\ \\ \\text where \\ \\ \\ f(x)= \\frac{x^m+1}{x^{n}+1}\n",
    "$$\n",
    "\n",
    "where $\\Delta x = (b-a)/N$ and $x_k = a + k \\Delta x$"
   ]
  },
  {
   "cell_type": "code",
   "execution_count": 1,
   "metadata": {},
   "outputs": [],
   "source": [
    "def mn_integral(m,n,a,b,N):\n",
    "    '''Compute right Riemann for f(x) = (x^m +1)/(x^n + 1) on interval [a,b]. \n",
    "    Input: \n",
    "        m, n:numbers \n",
    "        a,b: numbers, limits of integration\n",
    "        N: size of partition of interval [a,b]\n",
    "        Output:\n",
    "            Compute the right Riemann sum of f(x) from a to b using partition of size N.\n",
    "        '''\n",
    "    delta_x = (b-a)/N\n",
    "    xs = [a + k * delta_x for k in range (0,N+1)]\n",
    "    terms = [(xs[k] ** m + 1)/(xs[k] ** n + 1)*delta_x for k in range (1,N+1)]\n",
    "    integral = sum(terms)\n",
    "    return integral"
   ]
  },
  {
   "cell_type": "code",
   "execution_count": 2,
   "metadata": {},
   "outputs": [
    {
     "data": {
      "text/plain": [
       "1.1666666666666665"
      ]
     },
     "execution_count": 2,
     "metadata": {},
     "output_type": "execute_result"
    }
   ],
   "source": [
    "mn_integral (0,1,0,1,2)"
   ]
  },
  {
   "cell_type": "code",
   "execution_count": 15,
   "metadata": {},
   "outputs": [
    {
     "data": {
      "text/plain": [
       "0.5833333333333334"
      ]
     },
     "execution_count": 15,
     "metadata": {},
     "output_type": "execute_result"
    }
   ],
   "source": [
    "7/12"
   ]
  },
  {
   "cell_type": "code",
   "execution_count": null,
   "metadata": {},
   "outputs": [],
   "source": []
  }
 ],
 "metadata": {
  "kernelspec": {
   "display_name": "Python 3",
   "language": "python",
   "name": "python3"
  },
  "language_info": {
   "codemirror_mode": {
    "name": "ipython",
    "version": 3
   },
   "file_extension": ".py",
   "mimetype": "text/x-python",
   "name": "python",
   "nbconvert_exporter": "python",
   "pygments_lexer": "ipython3",
   "version": "3.6.4"
  }
 },
 "nbformat": 4,
 "nbformat_minor": 2
}
