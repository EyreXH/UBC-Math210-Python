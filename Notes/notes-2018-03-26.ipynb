{
 "cells": [
  {
   "cell_type": "markdown",
   "metadata": {},
   "source": [
    "# MATH 210 Introduction to Mathematical Computing\n",
    "\n",
    "## March 26, 2018"
   ]
  },
  {
   "cell_type": "markdown",
   "metadata": {},
   "source": [
    "1. Example: Van der pol oscillator\n",
    "2. Intro to pandas"
   ]
  },
  {
   "cell_type": "code",
   "execution_count": 1,
   "metadata": {},
   "outputs": [],
   "source": [
    "import numpy as np\n",
    "import matplotlib.pyplot as plt\n",
    "import scipy.integrate as spi\n",
    "import pandas as pd\n",
    "%matplotlib inline"
   ]
  },
  {
   "cell_type": "markdown",
   "metadata": {},
   "source": [
    "## 1. Example: Van der pol oscillator"
   ]
  },
  {
   "cell_type": "markdown",
   "metadata": {},
   "source": [
    "The Van der pol oscillator is a solution of the second order nonlinear differential equation\n",
    "\n",
    "$$\n",
    "y'' - \\mu (1 - y^2) y' + y = 0\n",
    "$$"
   ]
  },
  {
   "cell_type": "markdown",
   "metadata": {},
   "source": [
    "Let's write a function called `van_der_pol` which takes input parameters `mu`, `y0`, `t_interval`. The function `van_der_pol` solves the eqution using `scipy.integrate.odeint` on the interval $[t_0,t_f]$ given by the list `t_interval` of length 2 and initial condition $y(t_0),y'(t_0)$ given by the list `y0` of length 2. The function plots the solution $y(t)$ over the interval and return a 2D Numpy array which $t$ values in the column at index 0 and y values in column at index 1."
   ]
  },
  {
   "cell_type": "code",
   "execution_count": 2,
   "metadata": {},
   "outputs": [],
   "source": [
    "def van_der_pol(mu,y0,t_interval):\n",
    "    '''Solve and plot solution of the van der pol equation:\n",
    "    \n",
    "    y'' - \\mu (1 - y^2) y' + y = 0\n",
    "    \n",
    "    Parameters\n",
    "    ----------\n",
    "    mu : parameter in the equation\n",
    "    y0 : initial conditions [y(t_0),y'(t_0)]\n",
    "    t_interval : interval of integration [t_0,t_f]\n",
    "    \n",
    "    Returns\n",
    "    -------\n",
    "    Plot the corresponding solution given by scipy.integrate.odeint \n",
    "    and return rn a 2D Numpy array with t values in the column at \n",
    "    index 0 and y values in column at index 1.\n",
    "    '''\n",
    "    def f(u,t):\n",
    "        dudt = np.zeros(2)\n",
    "        dudt[0] = u[1]\n",
    "        dudt[1] = mu*(1 - u[0]**2) * u[1] - u[0]\n",
    "        return dudt\n",
    "    \n",
    "    t0 = t_interval[0]\n",
    "    tf = t_interval[1]\n",
    "    t = np.linspace(t0,tf,int((tf - t0)*25))\n",
    "    U = spi.odeint(f,y0,t)\n",
    "    result = np.column_stack([t,U[:,0]])\n",
    "    return result"
   ]
  },
  {
   "cell_type": "code",
   "execution_count": 3,
   "metadata": {},
   "outputs": [],
   "source": [
    "solution = van_der_pol(2,[0,1],[0,20])"
   ]
  },
  {
   "cell_type": "code",
   "execution_count": 4,
   "metadata": {},
   "outputs": [
    {
     "data": {
      "text/plain": [
       "[<matplotlib.lines.Line2D at 0x7f7d02f8bcf8>]"
      ]
     },
     "execution_count": 4,
     "metadata": {},
     "output_type": "execute_result"
    },
    {
     "data": {
      "image/png": "[encoded data removed]",
      "text/plain": [
       "<Figure size 432x288 with 1 Axes>"
      ]
     },
     "metadata": {},
     "output_type": "display_data"
    }
   ],
   "source": [
    "plt.plot(solution[:,0],solution[:,1])"
   ]
  },
  {
   "cell_type": "markdown",
   "metadata": {},
   "source": [
    "## 2. Intro to pandas\n",
    "\n",
    "[pandas](http://pandas.pydata) is the main Python package for data analysis. The main object in pandas is the DataFrame which is like a spreadsheet with column headers, row index and values."
   ]
  },
  {
   "cell_type": "markdown",
   "metadata": {},
   "source": [
    "Let's find some data and try to import it as a panda DataFrame using `pandas.read_csv`."
   ]
  },
  {
   "cell_type": "code",
   "execution_count": 15,
   "metadata": {},
   "outputs": [],
   "source": [
    "data = pd.read_csv('govt31a-eng.csv',skiprows = (0,1,2,4,25,26),index_col=0)"
   ]
  },
  {
   "cell_type": "code",
   "execution_count": 16,
   "metadata": {},
   "outputs": [
    {
     "data": {
      "text/html": [
       "<div>\n",
       "<table border=\"1\" class=\"dataframe\">\n",
       "  <thead>\n",
       "    <tr style=\"text-align: right;\">\n",
       "      <th></th>\n",
       "      <th>2005</th>\n",
       "      <th>2006</th>\n",
       "      <th>2007</th>\n",
       "      <th>2008</th>\n",
       "      <th>2009</th>\n",
       "      <th>Unnamed: 6</th>\n",
       "    </tr>\n",
       "  </thead>\n",
       "  <tbody>\n",
       "    <tr>\n",
       "      <th>Total revenue</th>\n",
       "      <td>29,484,455</td>\n",
       "      <td>31,296,336</td>\n",
       "      <td>33,442,589</td>\n",
       "      <td>36,219,454</td>\n",
       "      <td>37,441,581</td>\n",
       "      <td>NaN</td>\n",
       "    </tr>\n",
       "    <tr>\n",
       "      <th>Own source revenue</th>\n",
       "      <td>13,336,261</td>\n",
       "      <td>14,074,771</td>\n",
       "      <td>14,891,573</td>\n",
       "      <td>16,244,024</td>\n",
       "      <td>16,779,804</td>\n",
       "      <td>NaN</td>\n",
       "    </tr>\n",
       "    <tr>\n",
       "      <th>Sales of goods and services</th>\n",
       "      <td>10,520,144</td>\n",
       "      <td>10,958,828</td>\n",
       "      <td>11,473,607</td>\n",
       "      <td>12,429,235</td>\n",
       "      <td>12,897,731</td>\n",
       "      <td>NaN</td>\n",
       "    </tr>\n",
       "    <tr>\n",
       "      <th>Tuition fees</th>\n",
       "      <td>6,152,681</td>\n",
       "      <td>6,416,268</td>\n",
       "      <td>6,784,499</td>\n",
       "      <td>7,405,380</td>\n",
       "      <td>7,681,008</td>\n",
       "      <td>NaN</td>\n",
       "    </tr>\n",
       "    <tr>\n",
       "      <th>Other sales of goods and services</th>\n",
       "      <td>4,367,463</td>\n",
       "      <td>4,542,559</td>\n",
       "      <td>4,689,108</td>\n",
       "      <td>5,023,855</td>\n",
       "      <td>5,216,723</td>\n",
       "      <td>NaN</td>\n",
       "    </tr>\n",
       "  </tbody>\n",
       "</table>\n",
       "</div>"
      ],
      "text/plain": [
       "                                         2005        2006        2007  \\\n",
       "Total revenue                      29,484,455  31,296,336  33,442,589   \n",
       "Own source revenue                 13,336,261  14,074,771  14,891,573   \n",
       "Sales of goods and services        10,520,144  10,958,828  11,473,607   \n",
       "Tuition fees                        6,152,681   6,416,268   6,784,499   \n",
       "Other sales of goods and services   4,367,463   4,542,559   4,689,108   \n",
       "\n",
       "                                         2008        2009  Unnamed: 6  \n",
       "Total revenue                      36,219,454  37,441,581         NaN  \n",
       "Own source revenue                 16,244,024  16,779,804         NaN  \n",
       "Sales of goods and services        12,429,235  12,897,731         NaN  \n",
       "Tuition fees                        7,405,380   7,681,008         NaN  \n",
       "Other sales of goods and services   5,023,855   5,216,723         NaN  "
      ]
     },
     "execution_count": 16,
     "metadata": {},
     "output_type": "execute_result"
    }
   ],
   "source": [
    "data.head()"
   ]
  },
  {
   "cell_type": "code",
   "execution_count": 17,
   "metadata": {},
   "outputs": [
    {
     "data": {
      "text/html": [
       "<div>\n",
       "<table border=\"1\" class=\"dataframe\">\n",
       "  <thead>\n",
       "    <tr style=\"text-align: right;\">\n",
       "      <th></th>\n",
       "      <th>2005</th>\n",
       "      <th>2006</th>\n",
       "      <th>2007</th>\n",
       "      <th>2008</th>\n",
       "      <th>2009</th>\n",
       "      <th>Unnamed: 6</th>\n",
       "    </tr>\n",
       "  </thead>\n",
       "  <tbody>\n",
       "    <tr>\n",
       "      <th>Education</th>\n",
       "      <td>14,250,885</td>\n",
       "      <td>14,947,966</td>\n",
       "      <td>15,780,869</td>\n",
       "      <td>17,007,798</td>\n",
       "      <td>17,691,098</td>\n",
       "      <td>NaN</td>\n",
       "    </tr>\n",
       "    <tr>\n",
       "      <th>Support to students</th>\n",
       "      <td>1,031,730</td>\n",
       "      <td>1,100,234</td>\n",
       "      <td>1,191,590</td>\n",
       "      <td>1,335,982</td>\n",
       "      <td>1,359,762</td>\n",
       "      <td>NaN</td>\n",
       "    </tr>\n",
       "    <tr>\n",
       "      <th>Other postsecondary education expenses</th>\n",
       "      <td>8,038,995</td>\n",
       "      <td>8,371,513</td>\n",
       "      <td>8,476,235</td>\n",
       "      <td>8,938,284</td>\n",
       "      <td>9,363,476</td>\n",
       "      <td>NaN</td>\n",
       "    </tr>\n",
       "    <tr>\n",
       "      <th>Debt charges</th>\n",
       "      <td>606,483</td>\n",
       "      <td>643,871</td>\n",
       "      <td>650,094</td>\n",
       "      <td>709,514</td>\n",
       "      <td>740,786</td>\n",
       "      <td>NaN</td>\n",
       "    </tr>\n",
       "    <tr>\n",
       "      <th>Surplus or deficit</th>\n",
       "      <td>-125,158</td>\n",
       "      <td>240,808</td>\n",
       "      <td>425,927</td>\n",
       "      <td>532,978</td>\n",
       "      <td>474,872</td>\n",
       "      <td>NaN</td>\n",
       "    </tr>\n",
       "  </tbody>\n",
       "</table>\n",
       "</div>"
      ],
      "text/plain": [
       "                                              2005        2006        2007  \\\n",
       "Education                               14,250,885  14,947,966  15,780,869   \n",
       "Support to students                      1,031,730   1,100,234   1,191,590   \n",
       "Other postsecondary education expenses   8,038,995   8,371,513   8,476,235   \n",
       "Debt charges                               606,483     643,871     650,094   \n",
       "Surplus or deficit                        -125,158     240,808     425,927   \n",
       "\n",
       "                                              2008        2009  Unnamed: 6  \n",
       "Education                               17,007,798  17,691,098         NaN  \n",
       "Support to students                      1,335,982   1,359,762         NaN  \n",
       "Other postsecondary education expenses   8,938,284   9,363,476         NaN  \n",
       "Debt charges                               709,514     740,786         NaN  \n",
       "Surplus or deficit                         532,978     474,872         NaN  "
      ]
     },
     "execution_count": 17,
     "metadata": {},
     "output_type": "execute_result"
    }
   ],
   "source": [
    "data.tail()"
   ]
  },
  {
   "cell_type": "code",
   "execution_count": 18,
   "metadata": {},
   "outputs": [
    {
     "name": "stdout",
     "output_type": "stream",
     "text": [
      "<class 'pandas.core.frame.DataFrame'>\n",
      "Index: 20 entries, Total revenue to Surplus or deficit\n",
      "Data columns (total 6 columns):\n",
      "2005          20 non-null object\n",
      "2006          20 non-null object\n",
      "2007          20 non-null object\n",
      "2008          20 non-null object\n",
      "2009          20 non-null object\n",
      "Unnamed: 6    0 non-null float64\n",
      "dtypes: float64(1), object(5)\n",
      "memory usage: 1.1+ KB\n"
     ]
    }
   ],
   "source": [
    "data.info()"
   ]
  },
  {
   "cell_type": "code",
   "execution_count": null,
   "metadata": {},
   "outputs": [],
   "source": []
  }
 ],
 "metadata": {
  "kernelspec": {
   "display_name": "Python 3",
   "language": "python",
   "name": "python3"
  },
  "language_info": {
   "codemirror_mode": {
    "name": "ipython",
    "version": 3
   },
   "file_extension": ".py",
   "mimetype": "text/x-python",
   "name": "python",
   "nbconvert_exporter": "python",
   "pygments_lexer": "ipython3",
   "version": "3.6.4"
  }
 },
 "nbformat": 4,
 "nbformat_minor": 2
}
