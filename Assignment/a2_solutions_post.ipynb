{
 "cells": [
  {
   "cell_type": "markdown",
   "metadata": {},
   "source": [
    "# Assignment 2: Solutions"
   ]
  },
  {
   "cell_type": "markdown",
   "metadata": {},
   "source": [
    "**Question 1**"
   ]
  },
  {
   "cell_type": "code",
   "execution_count": 1,
   "metadata": {
    "collapsed": true
   },
   "outputs": [],
   "source": [
    "def poly_mult(p,q):\n",
    "    '''Multiply polynomials p and q.\n",
    "    \n",
    "    Represent a polynomial a0 + a1*x + a2*x**2 + ... + an*x**n\n",
    "    as a list of coefficients [a0,a1,a2,...,an].\n",
    "    Input:\n",
    "        p,q : lists of numbers representing polynomials\n",
    "    Output:\n",
    "        List representing polynomial multiplication p(x)q(x)\n",
    "    Example:\n",
    "        >>> poly_mult([1,-1],[1,1]) # p(x)=1-x times q(x)=1+x equals p(x)q(x)=1-x**2\n",
    "        [1, 0, -1]\n",
    "    '''\n",
    "    deg_p = len(p) - 1\n",
    "    deg_q = len(q) - 1\n",
    "    deg_pq = deg_p + deg_q\n",
    "    # Create an emtpy list of the correct length\n",
    "    pq = [0 for _ in range(0,deg_pq + 1)]\n",
    "    for n in range(0,deg_p + 1):\n",
    "        for m in range(0,deg_q + 1):\n",
    "            # Update the coefficient of degree n+m\n",
    "            pq[n + m] = pq[n + m] + p[n]*q[m]\n",
    "    return pq"
   ]
  },
  {
   "cell_type": "code",
   "execution_count": 2,
   "metadata": {},
   "outputs": [
    {
     "data": {
      "text/plain": [
       "[1, 0, -1]"
      ]
     },
     "execution_count": 2,
     "metadata": {},
     "output_type": "execute_result"
    }
   ],
   "source": [
    "poly_mult([1,-1],[1,1])"
   ]
  },
  {
   "cell_type": "markdown",
   "metadata": {},
   "source": [
    "**Question 2**"
   ]
  },
  {
   "cell_type": "code",
   "execution_count": 3,
   "metadata": {
    "collapsed": true
   },
   "outputs": [],
   "source": [
    "def poly_newton(p,x0,tolerance,max_iter):\n",
    "    '''Approximate a root of a polynomial p(x)=0 by Newton's method.\n",
    "    \n",
    "    Represent a polynomial a0 + a1*x + a2*x**2 + ... + an*x**n\n",
    "    as a list of coefficients [a0,a1,a2,...,an]. Newton's method\n",
    "    begins with x0 and computes recursively xn = xn - p(xn)/p'(xn).\n",
    "    Input:\n",
    "        p : list of numbers representing a polynomial\n",
    "        x0 : starting point for Newton's method\n",
    "        tolerance : terminate algorithm when |p(xn)| < tolerance\n",
    "        max_iter : terminate algorithm after max_iter iterations\n",
    "    Output:\n",
    "        Approximate a root of a polynomial p(x)=0 by Newton's method.\n",
    "        Or return None if no root is found.\n",
    "    Example:\n",
    "        >>> poly_mult([1,-1],[1,1]) # p(x)=1-x times q(x)=1+x equals p(x)q(x)=1-x**2\n",
    "        [1, 0, -1]\n",
    "    '''\n",
    "    xn = x0\n",
    "    for n in range(0,max_iter):\n",
    "        # Evaluate p(x) at xn\n",
    "        pxn = sum([p[k]*xn**k for k in range(0,len(p))])\n",
    "        if abs(pxn) < tolerance:\n",
    "            # Terminate algorithm if value |p(xn)| is sufficiently small\n",
    "            print(\"Found root in\",n,\"iterations.\")\n",
    "            return xn\n",
    "        # Evaluate the derivative p'(x) at xn\n",
    "        dpxn = sum([k*p[k]*xn**(k-1) for k in range(1,len(p))])\n",
    "        # Compute next value in Newton's method\n",
    "        xn = xn - pxn / dpxn\n",
    "    # If no root is found after max_iter interations, return None\n",
    "    print(\"Root not found.\")\n",
    "    return None"
   ]
  },
  {
   "cell_type": "code",
   "execution_count": 4,
   "metadata": {},
   "outputs": [
    {
     "name": "stdout",
     "output_type": "stream",
     "text": [
      "Found root in 3 iterations.\n"
     ]
    },
    {
     "data": {
      "text/plain": [
       "1.4142156862745099"
      ]
     },
     "execution_count": 4,
     "metadata": {},
     "output_type": "execute_result"
    }
   ],
   "source": [
    "poly_newton([2,0,-1],1,1e-5,1000)"
   ]
  },
  {
   "cell_type": "code",
   "execution_count": 5,
   "metadata": {},
   "outputs": [
    {
     "data": {
      "text/plain": [
       "1.4142135623730951"
      ]
     },
     "execution_count": 5,
     "metadata": {},
     "output_type": "execute_result"
    }
   ],
   "source": [
    "2**0.5"
   ]
  },
  {
   "cell_type": "markdown",
   "metadata": {},
   "source": [
    "**Question 3**"
   ]
  },
  {
   "cell_type": "code",
   "execution_count": 8,
   "metadata": {
    "collapsed": true
   },
   "outputs": [],
   "source": [
    "def ab_sequence(a,b,x0,x1,N):\n",
    "    '''Compute recursive sequence x_{n} = a*x_{n-1} + b*x_{n-2}.\n",
    "    \n",
    "    Input:\n",
    "        a,b : numbers defining recursive sequence\n",
    "        x0,x1 : first 2 elements of the sequence\n",
    "        N : integer defining the length N+1 of sequence to return\n",
    "    Output:\n",
    "        Return sequence as a list [x0,x1,...,xN].\n",
    "    Example:\n",
    "        >>> ab_sequence(1,1,1,1,10)\n",
    "        [1, 1, 2, 3, 5, 8, 13, 21, 34, 55, 89]\n",
    "    '''\n",
    "    sequence = [x0,x1]\n",
    "    for n in range(2,N+1):\n",
    "        sequence_n = a*sequence[n-1] + b*sequence[n-2]\n",
    "        sequence.append(sequence_n)\n",
    "    return sequence"
   ]
  },
  {
   "cell_type": "code",
   "execution_count": 9,
   "metadata": {},
   "outputs": [
    {
     "data": {
      "text/plain": [
       "[1, 1, 2, 3, 5, 8, 13, 21, 34, 55, 89]"
      ]
     },
     "execution_count": 9,
     "metadata": {},
     "output_type": "execute_result"
    }
   ],
   "source": [
    "ab_sequence(1,1,1,1,10)"
   ]
  },
  {
   "cell_type": "markdown",
   "metadata": {},
   "source": [
    "**Question 4**"
   ]
  },
  {
   "cell_type": "code",
   "execution_count": 29,
   "metadata": {
    "collapsed": true
   },
   "outputs": [],
   "source": [
    "def divisors(n):\n",
    "    \"Compute list of divisors of n.\"\n",
    "    divisors_n = [1,n]\n",
    "    for d in range(2,round(n**0.5) + 1):\n",
    "        if n % d == 0:\n",
    "            divisors_n.append(d)\n",
    "            if d != n//d:\n",
    "                divisors_n.append(n//d)\n",
    "    return sorted(divisors_n)\n",
    "\n",
    "def gcd(n,m):\n",
    "    \"Find the greatest common divisor of n and m by brute force.\"\n",
    "    divisors_n = divisors(n)\n",
    "    divisors_m = divisors(m)\n",
    "    divisors_nm = []\n",
    "    for d in divisors_n:\n",
    "        if d in divisors_m:\n",
    "            divisors_nm.append(d)\n",
    "    return max(divisors_nm)"
   ]
  },
  {
   "cell_type": "code",
   "execution_count": 30,
   "metadata": {},
   "outputs": [
    {
     "data": {
      "text/plain": [
       "6"
      ]
     },
     "execution_count": 30,
     "metadata": {},
     "output_type": "execute_result"
    }
   ],
   "source": [
    "gcd(12,42)"
   ]
  },
  {
   "cell_type": "code",
   "execution_count": 31,
   "metadata": {
    "collapsed": true
   },
   "outputs": [],
   "source": [
    "def gcd(n,m):\n",
    "    \"Find the greatest common divisor of n and m by Euclidean algorithm.\"\n",
    "    r = [max(n,m),min(n,m)]\n",
    "    while r[-1] != 0:\n",
    "        r.append(r[-2] % r[-1])\n",
    "    return r[-2]"
   ]
  },
  {
   "cell_type": "code",
   "execution_count": 32,
   "metadata": {},
   "outputs": [
    {
     "data": {
      "text/plain": [
       "6"
      ]
     },
     "execution_count": 32,
     "metadata": {},
     "output_type": "execute_result"
    }
   ],
   "source": [
    "gcd(12,42)"
   ]
  },
  {
   "cell_type": "markdown",
   "metadata": {},
   "source": [
    "**Question 5** This function is called the [Mobius function](https://en.wikipedia.org/wiki/M%C3%B6bius_function) and is important in number theory."
   ]
  },
  {
   "cell_type": "code",
   "execution_count": 54,
   "metadata": {
    "collapsed": true
   },
   "outputs": [],
   "source": [
    "def divisors(n):\n",
    "    \"Compute list of divisors of n.\"\n",
    "    divisors_n = [1,n]\n",
    "    for d in range(2,round(n**0.5) + 1):\n",
    "        if n % d == 0:\n",
    "            divisors_n.append(d)\n",
    "            if d != n//d:\n",
    "                divisors_n.append(n//d)\n",
    "    return sorted(divisors_n)\n",
    "\n",
    "def is_prime(n):\n",
    "    \"Determine if n is a prime number.\"\n",
    "    if n < 2:\n",
    "        return False\n",
    "    for d in range(2,round(n**0.5)+1):\n",
    "        if n % d == 0:\n",
    "            return False\n",
    "    return True\n",
    "\n",
    "def is_square(n):\n",
    "    \"Determine if n is a square.\"\n",
    "    if n <= 0:\n",
    "        return False\n",
    "    elif round(n**0.5)**2 == n:\n",
    "        return True\n",
    "    else:\n",
    "        return False\n",
    "    \n",
    "def no_squares(N):\n",
    "    '''Compute the Mobius function at N.\n",
    "    \n",
    "    Input:\n",
    "        N : integer greater than 1\n",
    "    Output:\n",
    "        1 if N is squarefree and has an even number of prime divisors\n",
    "        -1 if N is squarefree and has an odd number of prime divisors\n",
    "        0 if N is divisible by a square\n",
    "    Example:\n",
    "        >>> no_squares(5)\n",
    "        1\n",
    "        >>> no_squares(49)\n",
    "        0\n",
    "    '''\n",
    "    divisors_N = divisors(N)\n",
    "    for d in divisors_N:\n",
    "        if is_square(d) and d > 1:\n",
    "            return 0\n",
    "    prime_divisors_N = []\n",
    "    for d in divisors_N:\n",
    "        if is_prime(d):\n",
    "            prime_divisors_N.append(d)\n",
    "    if len(prime_divisors_N) % 2 == 0:\n",
    "        return 1\n",
    "    else:\n",
    "        return -1"
   ]
  },
  {
   "cell_type": "code",
   "execution_count": 58,
   "metadata": {},
   "outputs": [
    {
     "data": {
      "text/plain": [
       "0"
      ]
     },
     "execution_count": 58,
     "metadata": {},
     "output_type": "execute_result"
    }
   ],
   "source": [
    "no_squares(49)"
   ]
  },
  {
   "cell_type": "markdown",
   "metadata": {},
   "source": [
    "**Question 6**"
   ]
  },
  {
   "cell_type": "code",
   "execution_count": 38,
   "metadata": {
    "collapsed": true
   },
   "outputs": [],
   "source": [
    "def four_squares(N):\n",
    "    '''Compute integer solutions of a**2 + b**2 + c**2 + d**2 = N.\n",
    "    \n",
    "    Input:\n",
    "        N : positive integer\n",
    "    Output:\n",
    "        List of tuples (a,b,c,d) of positive integers such that\n",
    "        a**2 + b**2 + c**2 + d**2 = N and 0 <= a <= b <= c <= d.\n",
    "    Example:\n",
    "        >>> four_squares(79)\n",
    "        [(2, 5, 5, 5), (3, 3, 5, 6), (1, 2, 5, 7)]\n",
    "    '''\n",
    "    solutions = []\n",
    "    for d in range(0,round(N**0.5)+1):\n",
    "        for c in range(0,d+1):\n",
    "            for b in range(0,c+1):\n",
    "                for a in range(0,b+1):\n",
    "                    if a**2 + b**2 + c**2 + d**2 == N:\n",
    "                        solutions.append((a,b,c,d))\n",
    "    return solutions"
   ]
  },
  {
   "cell_type": "code",
   "execution_count": 42,
   "metadata": {},
   "outputs": [
    {
     "data": {
      "text/plain": [
       "[(2, 5, 5, 5), (3, 3, 5, 6), (1, 2, 5, 7)]"
      ]
     },
     "execution_count": 42,
     "metadata": {},
     "output_type": "execute_result"
    }
   ],
   "source": [
    "four_squares(79)"
   ]
  }
 ],
 "metadata": {
  "kernelspec": {
   "display_name": "Python 3",
   "language": "python",
   "name": "python3"
  },
  "language_info": {
   "codemirror_mode": {
    "name": "ipython",
    "version": 3
   },
   "file_extension": ".py",
   "mimetype": "text/x-python",
   "name": "python",
   "nbconvert_exporter": "python",
   "pygments_lexer": "ipython3",
   "version": "3.6.4"
  }
 },
 "nbformat": 4,
 "nbformat_minor": 2
}
