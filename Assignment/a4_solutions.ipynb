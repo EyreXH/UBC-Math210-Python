{
 "cells": [
  {
   "cell_type": "markdown",
   "metadata": {},
   "source": [
    "## MATH 210 Assignment 4 Solutions"
   ]
  },
  {
   "cell_type": "code",
   "execution_count": 1,
   "metadata": {
    "collapsed": true
   },
   "outputs": [],
   "source": [
    "import numpy as np\n",
    "import matplotlib.pyplot as plt\n",
    "import scipy.integrate as spi\n",
    "%matplotlib inline"
   ]
  },
  {
   "cell_type": "markdown",
   "metadata": {},
   "source": [
    "**Question 1**\n",
    "\n",
    "(a) The second derivative of $f(x) = \\ln(\\ln x)$ is given by\n",
    "\n",
    "\n",
    "\\begin{align*}\n",
    "f'(x) &= \\frac{1}{x \\ln x} \\\\\n",
    "f''(x) &= -\\frac{\\ln x + 1}{(x \\ln x)^2}\n",
    "\\end{align*}\n",
    "\n",
    "(b) Consider the third derivative $f'''(x)$\n",
    "\n",
    "\\begin{align*}\n",
    "f'''(x) &= -\\frac{(x \\ln x)^2(1/x) - 2(\\ln x + 1)(x\\ln x)(\\ln x + 1)}{(x \\ln x)^4} \\\\\n",
    "&= \\frac{2(\\ln x + 1)^2 - \\ln x}{(x \\ln x)^3} \\\\\n",
    "\\end{align*}\n",
    "\n",
    "Since $2(\\ln x + 1)^2 > \\ln x$ and $(x \\ln x)^3 > 0$ for all $x \\geq e$, the derivative of $f''(x)$ (namely $f'''(x)$) is positive for all $x \\geq e$.\n",
    "\n",
    "Therefore $f''(x)$ is increasing for $x \\geq e$. Also, $f''(x) < 0$ for all $x \\geq e$. Finally, since $f''(e) = -\\frac{2}{e^2}$, we conclude that\n",
    "\n",
    "$$\n",
    "-\\frac{2}{e^2} \\leq f''(x) < 0 \\ \\ \\text{for all} \\ x \\geq e\n",
    "$$\n",
    "\n",
    "Therefore $\\displaystyle | f''(x)| \\leq \\frac{2}{e^2}$ for all $x \\geq e$."
   ]
  },
  {
   "cell_type": "markdown",
   "metadata": {},
   "source": [
    "(c) The number of subintervals $N$ to use in the Trapezoid rule to guarantee the error is less than $\\epsilon$ is determined by the error formula\n",
    "\n",
    "\\begin{align*}\n",
    "\\left| \\, \\int_a^b f(x) dx - T_N(f) \\, \\right| \\leq \\frac{(b-a)^3}{12N^2}M\n",
    "\\end{align*}\n",
    "\n",
    "Therefore \n",
    "\n",
    "$$\n",
    "\\frac{(b-a)^3}{12N^2}M < \\epsilon \\ \\ \\ \\Longrightarrow \\ \\ \\ \\sqrt{\\frac{(b-a)^3}{12\\epsilon}M} < N\n",
    "$$"
   ]
  },
  {
   "cell_type": "code",
   "execution_count": 2,
   "metadata": {
    "collapsed": true
   },
   "outputs": [],
   "source": [
    "import numpy as np\n",
    "import scipy.integrate as spi\n",
    "\n",
    "def log_log(u,abs_tolerance=0.0001):\n",
    "    '''Use the Trapezoid rule to approximate the integral of f(x)=ln(ln(x)) for x from e to u.\n",
    "    \n",
    "    Parameters\n",
    "    ----------\n",
    "    u : number, the upper limit of integration\n",
    "    abs_tolerance : number, bound on the error of the approximation\n",
    "    \n",
    "    Returns\n",
    "    -------\n",
    "    Approximation of the integral of f(x)=ln(ln(x)) from e to u using sufficient subintervals N\n",
    "    to guarantee the error is less than abs_tolerance.\n",
    "    '''\n",
    "    N = np.sqrt((u - np.e)**3*(2/np.e**2)/(12*abs_tolerance))\n",
    "    N = int(np.ceil(N))\n",
    "    x = np.linspace(np.e,u,N+1)\n",
    "    y = np.log(np.log(x))\n",
    "    I = spi.trapz(y,x)\n",
    "    return I"
   ]
  },
  {
   "cell_type": "markdown",
   "metadata": {
    "collapsed": true
   },
   "source": [
    "**Question 2**\n",
    "\n",
    "(a) The fourth derivative of $f(x)=e^{-x^2}$ is given by\n",
    "\n",
    "\\begin{align*}\n",
    "f(x) &= e^{-x^2} \\\\\n",
    "f'(x) &= -2x e^{-x^2} \\\\\n",
    "f''(x) &= 2(2x^2 - 1) e^{-x^2} \\\\\n",
    "f'''(x) &= 8x e^{-x^2} - 4x(2x^2 - 1)e^{-x^2} \\\\\n",
    "&= 4(3x - 2x^3)e^{-x^2} \\\\\n",
    "f''''(x) &= 4(3 - 6x^2)e^{-x^2} - 8x(3x - 2x^3)e^{-x^2} \\\\\n",
    "&= 4(3 - 12x^2 + 4x^4) e^{-x^2}\n",
    "\\end{align*}"
   ]
  },
  {
   "cell_type": "markdown",
   "metadata": {},
   "source": [
    "(b)"
   ]
  },
  {
   "cell_type": "code",
   "execution_count": 3,
   "metadata": {},
   "outputs": [
    {
     "data": {
      "image/png": "[encoded data removed]",
      "text/plain": [
       "<matplotlib.figure.Figure at 0x10c1d5e48>"
      ]
     },
     "metadata": {},
     "output_type": "display_data"
    }
   ],
   "source": [
    "x = np.linspace(0,5,100)\n",
    "y = 4*(3 - 12*x**2 + 4*x**4)*np.exp(-x**2)\n",
    "plt.plot(x,y)\n",
    "plt.show()"
   ]
  },
  {
   "cell_type": "markdown",
   "metadata": {},
   "source": [
    "Since $\\lim_{x \\to \\infty} f''''(x) = 0$ because of the term $e^{-x^2}$ and the plot shows the maximum value at $x=0$, we deduce that $|f''''(x)| < |f''''(0)| = 12$."
   ]
  },
  {
   "cell_type": "markdown",
   "metadata": {},
   "source": [
    "(c) The error formula in Simpson's rule is given by\n",
    "\n",
    "$$\n",
    "E_N^S(F) \\leq \\frac{(b-a)^5}{180N^4}M^4\n",
    "$$\n",
    "\n",
    "where $|f''''(x)| \\leq M$. From (b), we choose $M=12$. Therefore\n",
    "\n",
    "\n",
    "$$\n",
    "\\frac{(b-a)^5}{180N^4}M^4 < \\epsilon \\ \\ \\ \\Longrightarrow \\ \\ \\ \\left( \\frac{(b-a)^5}{180\\epsilon}M^4 \\right)^{1/4} < N\n",
    "$$"
   ]
  },
  {
   "cell_type": "code",
   "execution_count": 4,
   "metadata": {
    "collapsed": true
   },
   "outputs": [],
   "source": [
    "def erf(u,abs_tolerance=0.0001):\n",
    "    '''Use Simpson's rule to approximate the integral of f(x)=exp(-x^2) for x from 0 to u.\n",
    "    \n",
    "    Parameters\n",
    "    ----------\n",
    "    u : number, the upper limit of integration\n",
    "    abs_tolerance : number, bound on the error of the approximation\n",
    "    \n",
    "    Returns\n",
    "    -------\n",
    "    Approximation of the integral of f(x)=exp(-x^2) from 0 to u using sufficient subintervals N\n",
    "    to guarantee the error is less than abs_tolerance.\n",
    "    '''\n",
    "    N = (u**5*12**4/(180*abs_tolerance))**0.25\n",
    "    N = int(np.ceil(N))\n",
    "    x = np.linspace(0,u,N+1)\n",
    "    y = np.exp(-x**2)\n",
    "    I = spi.simps(y,x)\n",
    "    return I"
   ]
  },
  {
   "cell_type": "markdown",
   "metadata": {},
   "source": [
    "**Question 3**"
   ]
  },
  {
   "cell_type": "code",
   "execution_count": 5,
   "metadata": {
    "collapsed": true
   },
   "outputs": [],
   "source": [
    "from scipy.misc import comb, factorial\n",
    "\n",
    "def derivatives(f,a,n,h=0.001):\n",
    "    '''Compute the derivatives of f at x=a using the central difference formulas.\n",
    "    \n",
    "    Parameters\n",
    "    ----------\n",
    "    f : a function of a single variable\n",
    "    a : number\n",
    "    n : integer, compute derivatives up to order n\n",
    "    h : number, step size used in the central difference formula\n",
    "    \n",
    "    Returns\n",
    "    -------\n",
    "    1D NumPy array of approximations of derivatives f'(a),f''(a),...,f^{(n)}(a)\n",
    "    computed by the central difference formula:\n",
    "    \n",
    "    f^{(n)}(a) = (1/(2^n h^n)) \\sum_{k=0}^n (−1)^k (n \\choose k) f(a+(n−2k)h)\n",
    "    '''\n",
    "    derivatives = []\n",
    "    for m in range(1,n+1):\n",
    "        D = 1/(2**m * h**m) * np.sum([(-1)**k * comb(m,k) * f(a + (m - 2*k)*h) for k in range(0,m+1)])\n",
    "        derivatives.append(D)\n",
    "    return np.array(derivatives)"
   ]
  },
  {
   "cell_type": "code",
   "execution_count": 6,
   "metadata": {},
   "outputs": [
    {
     "data": {
      "text/plain": [
       "array([  5.00001  ,  20.00004  ,  60.0000602])"
      ]
     },
     "execution_count": 6,
     "metadata": {},
     "output_type": "execute_result"
    }
   ],
   "source": [
    "derivatives(lambda x: x**5,1,3)"
   ]
  },
  {
   "cell_type": "markdown",
   "metadata": {},
   "source": [
    "**Question 4**"
   ]
  },
  {
   "cell_type": "code",
   "execution_count": 7,
   "metadata": {
    "collapsed": true
   },
   "outputs": [],
   "source": [
    "def taylor(f,a,n,L):\n",
    "    '''Plot f(x) and its Taylor polynomial of degree n at x=a.\n",
    "    \n",
    "    Parameters\n",
    "    ----------\n",
    "    f : function of a single variable\n",
    "    a : number\n",
    "    n : integer, the degree of the Taylor polynomial\n",
    "    L : number, plot the functions over the interval [a-L,a+L]\n",
    "    \n",
    "    Returns\n",
    "    -------\n",
    "    None\n",
    "    '''\n",
    "    Ds = derivatives(f,a,n)\n",
    "    x = np.linspace(a-L,a+L,50*int(L))\n",
    "    y = f(x)\n",
    "    T = f(a) + sum([Ds[k-1]/factorial(k) * (x - a)**k for k in range(1,n+1)])\n",
    "    plt.plot(x,y,x,T)\n",
    "    plt.legend(['$y = f(x)$','Taylor polynomial'])\n",
    "    plt.show()"
   ]
  },
  {
   "cell_type": "code",
   "execution_count": 8,
   "metadata": {},
   "outputs": [
    {
     "data": {
      "image/png": "[encoded data removed]",
      "text/plain": [
       "<matplotlib.figure.Figure at 0x10ffa3c88>"
      ]
     },
     "metadata": {},
     "output_type": "display_data"
    }
   ],
   "source": [
    "taylor(lambda x: np.exp(-x**2),0,4,1.5)"
   ]
  },
  {
   "cell_type": "markdown",
   "metadata": {},
   "source": [
    "**Question 5**"
   ]
  },
  {
   "cell_type": "code",
   "execution_count": 9,
   "metadata": {
    "collapsed": true
   },
   "outputs": [],
   "source": [
    "def newton(f,x0,h=0.001,tolerance=0.001,max_iter=100):\n",
    "    '''Implement Newton's method to approximate a solution of the equation f(x) = 0.\n",
    "    \n",
    "    Parameters\n",
    "    ----------\n",
    "    f : function of a single variable\n",
    "    x0 : number, an initial guess for a solution of f(x) = 0\n",
    "    h : number, step size used to approximate f'(x) in central difference method\n",
    "    tolerance : number, algorithm terminates when |f(xn)| < tolerance\n",
    "    max_iter : integer, algorithm terminates when the number of iterations of Newton's method exceeds max_iter\n",
    "    \n",
    "    Returns\n",
    "    -------\n",
    "    An approximation xn of a solution of f(x) = 0 such that |f(xn)| < tolerance. If Newton's method encounters\n",
    "    a zero derivative, the function termiantes and returns None. If the number of iterations exceeds max_iter,\n",
    "    the function returns None\n",
    "    '''\n",
    "    xn = x0\n",
    "    for n in range(0,max_iter):\n",
    "        # Return value if most recent approximation is within desired tolerance\n",
    "        if abs(f(xn)) < tolerance:\n",
    "            return xn\n",
    "        # Approximate the derivative\n",
    "        Df = (f(xn + h) - f(xn - h))/(2*h)\n",
    "        if abs(Df) < 1e-14:\n",
    "            print('Zero derivative. Algorithm stopped.')\n",
    "            return None\n",
    "        # Compute next iteration of Newton's method\n",
    "        xn = xn - f(xn)/Df\n",
    "    print(\"Exceeded maximum iterations. No root found.\")\n",
    "    return None"
   ]
  },
  {
   "cell_type": "code",
   "execution_count": 10,
   "metadata": {
    "collapsed": true
   },
   "outputs": [],
   "source": [
    "v = newton(lambda x: np.cos(x) - x,1,tolerance=0.0000001)"
   ]
  },
  {
   "cell_type": "code",
   "execution_count": 11,
   "metadata": {},
   "outputs": [
    {
     "data": {
      "text/plain": [
       "0.73908513338341153"
      ]
     },
     "execution_count": 11,
     "metadata": {},
     "output_type": "execute_result"
    }
   ],
   "source": [
    "v"
   ]
  },
  {
   "cell_type": "code",
   "execution_count": 12,
   "metadata": {},
   "outputs": [
    {
     "data": {
      "text/plain": [
       "True"
      ]
     },
     "execution_count": 12,
     "metadata": {},
     "output_type": "execute_result"
    }
   ],
   "source": [
    "abs(np.cos(v) - v) < 0.0000001"
   ]
  }
 ],
 "metadata": {
  "kernelspec": {
   "display_name": "Python 3",
   "language": "python",
   "name": "python3"
  },
  "language_info": {
   "codemirror_mode": {
    "name": "ipython",
    "version": 3
   },
   "file_extension": ".py",
   "mimetype": "text/x-python",
   "name": "python",
   "nbconvert_exporter": "python",
   "pygments_lexer": "ipython3",
   "version": "3.6.4"
  }
 },
 "nbformat": 4,
 "nbformat_minor": 2
}
