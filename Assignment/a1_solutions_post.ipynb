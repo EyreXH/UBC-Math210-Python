{
 "cells": [
  {
   "cell_type": "markdown",
   "metadata": {},
   "source": [
    "# Assignment 1: Solutions"
   ]
  },
  {
   "cell_type": "markdown",
   "metadata": {},
   "source": [
    "**Question 2.** Write a function called `k_sum` which takes an input parameter `N` and returns the sum\n",
    "\n",
    "$$\n",
    "\\sum_{k=1}^{N} \\frac{(-1)^{k+1}}{(2k - 1)^3}\n",
    "$$\n",
    "\n",
    "As $N \\to \\infty$, the infinite series satisfies the beautiful identity\n",
    "\n",
    "$$\n",
    "\\sum_{k=1}^{\\infty} \\frac{(-1)^{k+1}}{(2k - 1)^3} = \\frac{\\pi^3}{M}\n",
    "$$\n",
    "\n",
    "for some integer $M$. Find $M$ and explain your method."
   ]
  },
  {
   "cell_type": "code",
   "execution_count": 1,
   "metadata": {
    "collapsed": true
   },
   "outputs": [],
   "source": [
    "def k_sum(N):\n",
    "    \"Compute partial sum \\sum_{k=1}^{N} (-1)^{k+1}/(2k-1)^3.\"\n",
    "    terms = [(-1)**(k+1)/(2*k - 1)**3 for k in range(1,N+1)]\n",
    "    return sum(terms)"
   ]
  },
  {
   "cell_type": "markdown",
   "metadata": {},
   "source": [
    "Compute partial sum for $N=10^1,10^2,10^3,10^4$ and infer value for $M$:"
   ]
  },
  {
   "cell_type": "code",
   "execution_count": 2,
   "metadata": {
    "collapsed": true
   },
   "outputs": [],
   "source": [
    "results = [3.14159**3/k_sum(10**k) for k in range(1,5)]"
   ]
  },
  {
   "cell_type": "code",
   "execution_count": 3,
   "metadata": {},
   "outputs": [
    {
     "name": "stdout",
     "output_type": "stream",
     "text": [
      "[32.001953090128815, 31.999920976121018, 31.999918914401512, 31.99991891233942]\n"
     ]
    }
   ],
   "source": [
    "print(results)"
   ]
  },
  {
   "cell_type": "markdown",
   "metadata": {},
   "source": [
    "Conclusion: $M=32$"
   ]
  },
  {
   "cell_type": "markdown",
   "metadata": {},
   "source": [
    "**Question 3.**  The Taylor series of $\\ln x$ centered at $x=1$ is the infinite series\n",
    "\n",
    "$$\n",
    "\\ln x = \\sum_{k=1}^{\\infty} (-1)^{k+1} \\frac{(x-1)^k}{k}\n",
    "$$\n",
    "\n",
    "The infinite series converges for $x \\in (0,2]$. Write a function called `ln_taylor` which takes input parameters `x`, a real number in the interval $(0,2]$, and `N`, a positive integer greater than 1, and returns the sum\n",
    "\n",
    "$$\n",
    "\\sum_{k=1}^{N} (-1)^{k+1} \\frac{(x-1)^k}{k}\n",
    "$$"
   ]
  },
  {
   "cell_type": "code",
   "execution_count": 4,
   "metadata": {
    "collapsed": true
   },
   "outputs": [],
   "source": [
    "def ln_taylor(x,N):\n",
    "    \"Compute Nth partial sum of Taylor series for ln(x).\"\n",
    "    terms = [(-1)**(k+1)*(x - 1)**k/k for k in range(1,N+1)]\n",
    "    return sum(terms)"
   ]
  },
  {
   "cell_type": "markdown",
   "metadata": {},
   "source": [
    "**Question 4.** Represent a degree $n$ polynomial function $p(x) = a_0 + a_1 x + a_2 x^2 + \\cdots + a_n x^n$ as a list of (real) coefficients $[a_0,a_1,a_2,\\dots,a_n]$. Write a function called `poly_diff` which takes an input parameter `p`, a list representing a polynomial function $p(x)$, and returns a list representing the derivative $p'(x)$."
   ]
  },
  {
   "cell_type": "code",
   "execution_count": 5,
   "metadata": {
    "collapsed": true
   },
   "outputs": [],
   "source": [
    "def poly_diff(p):\n",
    "    '''Compute the derivative of a polynomial p(x) = a0 + a1*x + ... + an*x**n.\n",
    "    \n",
    "    Input:\n",
    "        p : list representing coefficients of a polynomial [a0,a1,...,an]\n",
    "    Output:\n",
    "        A list representing the derivative [a1,2*a2,...,n*an]\n",
    "    Example:\n",
    "        >>> poly_diff([1,1,1,1])\n",
    "        [1,2,3]\n",
    "    '''\n",
    "    if len(p) == 1:\n",
    "        return [0]\n",
    "    else:\n",
    "        dpdx = [k*p[k] for k in range(1,len(p))]\n",
    "        return dpdx"
   ]
  },
  {
   "cell_type": "markdown",
   "metadata": {},
   "source": [
    "**Question 5.** Write a function called `poly_eval` which takes input parameters `p` and `a` where `p` is a list representing a polynomial function $p(x)$ and `a` is a number. The function returns the value $p(a)$."
   ]
  },
  {
   "cell_type": "code",
   "execution_count": 52,
   "metadata": {
    "collapsed": true
   },
   "outputs": [],
   "source": [
    "def poly_eval(p,a):\n",
    "    '''Evaluate a polynomial p(x) at x=a.\n",
    "    \n",
    "    Input:\n",
    "        p : list representing coefficients of a polynomial [a0,a1,...,an]\n",
    "    Output:\n",
    "        Value p(a) the polynomial p(x) evaluated at x=a.\n",
    "    Example:\n",
    "        >>> poly_eval([1,1,1,1],2)\n",
    "        15\n",
    "    '''\n",
    "    terms = [p[k]*a**k for k in range(0,len(p))]\n",
    "    return sum(terms)"
   ]
  },
  {
   "cell_type": "markdown",
   "metadata": {},
   "source": [
    "**Question 6.** Write a function called `poly_max` which takes four input parameters `p`, `a`, `b` and `N` where `p` is a list representing a polynomial function $p(x)$, `a` and `b` are real numbers, and `N` is a positive integer. The function returns an approximation of the maximum value of $p(x)$ on the interval $[a,b]$ by creating a list of $N+1$ evenly spaced values $a_0 = a, a_1, \\dots, a_N = b$ from $a$ to $b$ and returning the maximum of the values $p(a_k)$, $k=0, \\dots, N$. (You may use the function `poly_eval` from the previous question.)"
   ]
  },
  {
   "cell_type": "code",
   "execution_count": 65,
   "metadata": {
    "collapsed": true
   },
   "outputs": [],
   "source": [
    "def poly_max(p,a,b,N):\n",
    "    '''Approximate the maximum value of a polynomial p(x) over an interval [a,b].\n",
    "    \n",
    "    Input:\n",
    "        p : list representing coefficients of a polynomial [a0,a1,...,an]\n",
    "        a,b : numbers defining a closed interval [a,b]\n",
    "        N : integer defining the size of the partition on [a,b]\n",
    "    Output:\n",
    "        Maximum y value among p(x_k) where the x values are N + 1 evenly spaced values\n",
    "        x_k wher x_0 = a and x_N = b.\n",
    "    Example:\n",
    "        >>> poly_max([1,0,-1],-2,2,4)\n",
    "        1\n",
    "    '''\n",
    "    h = (b - a)/N\n",
    "    x_values = [a + h*k for k in range(0,N+1)]\n",
    "    y_values = [poly_eval(p,x) for x in x_values]\n",
    "    return max(y_values)"
   ]
  }
 ],
 "metadata": {
  "kernelspec": {
   "display_name": "Python 3",
   "language": "python",
   "name": "python3"
  },
  "language_info": {
   "codemirror_mode": {
    "name": "ipython",
    "version": 3
   },
   "file_extension": ".py",
   "mimetype": "text/x-python",
   "name": "python",
   "nbconvert_exporter": "python",
   "pygments_lexer": "ipython3",
   "version": "3.6.4"
  }
 },
 "nbformat": 4,
 "nbformat_minor": 2
}
