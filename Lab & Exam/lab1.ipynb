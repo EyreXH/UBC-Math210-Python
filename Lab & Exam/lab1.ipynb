{
 "cells": [
  {
   "cell_type": "code",
   "execution_count": 54,
   "metadata": {},
   "outputs": [],
   "source": [
    "def TimeForHouse(s,R,p):\n",
    "    \"Compute the years we need to save money to buy a house.\"\n",
    "    # intialize the list of s_n\n",
    "    s_list = [s]\n",
    "    for i in range(0,100):\n",
    "        s_n = round(s_list[i-1]*(1+p),2)\n",
    "        if s_n <= R:\n",
    "            s_list.append(s_n)\n",
    "        else:\n",
    "            break    \n",
    "    return len(s_list)\n",
    "    "
   ]
  },
  {
   "cell_type": "code",
   "execution_count": 48,
   "metadata": {},
   "outputs": [
    {
     "data": {
      "text/plain": [
       "2"
      ]
     },
     "execution_count": 48,
     "metadata": {},
     "output_type": "execute_result"
    }
   ],
   "source": [
    "TimeForHouse(100000,1400000,0.08)"
   ]
  },
  {
   "cell_type": "code",
   "execution_count": 59,
   "metadata": {},
   "outputs": [],
   "source": [
    "def TimeForHouse(s,R,p):\n",
    "    \"Compute the years we need to save money to buy a house.\"\n",
    "    # intialize the list of s_n\n",
    "    count = 0\n",
    "    while (s<R):\n",
    "        s = round(s*(1+p),2)\n",
    "        count = count +1\n",
    "    return print(count,s)"
   ]
  },
  {
   "cell_type": "code",
   "execution_count": 60,
   "metadata": {},
   "outputs": [
    {
     "name": "stdout",
     "output_type": "stream",
     "text": [
      "35 1478534.36\n"
     ]
    }
   ],
   "source": [
    "TimeForHouse(100000,1400000,0.08)"
   ]
  },
  {
   "cell_type": "code",
   "execution_count": null,
   "metadata": {},
   "outputs": [],
   "source": []
  }
 ],
 "metadata": {
  "kernelspec": {
   "display_name": "Python 3",
   "language": "python",
   "name": "python3"
  },
  "language_info": {
   "codemirror_mode": {
    "name": "ipython",
    "version": 3
   },
   "file_extension": ".py",
   "mimetype": "text/x-python",
   "name": "python",
   "nbconvert_exporter": "python",
   "pygments_lexer": "ipython3",
   "version": "3.6.4"
  }
 },
 "nbformat": 4,
 "nbformat_minor": 2
}
