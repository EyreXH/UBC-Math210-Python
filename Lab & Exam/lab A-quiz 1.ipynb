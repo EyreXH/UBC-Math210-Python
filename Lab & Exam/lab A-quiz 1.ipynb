{
 "cells": [
  {
   "cell_type": "markdown",
   "metadata": {},
   "source": [
    "# Quiz"
   ]
  },
  {
   "cell_type": "markdown",
   "metadata": {},
   "source": [
    "## Question 1"
   ]
  },
  {
   "cell_type": "code",
   "execution_count": 29,
   "metadata": {},
   "outputs": [],
   "source": [
    "def next_square(a):\n",
    "    if a <= 0:\n",
    "        return 0\n",
    "    if a <= 1:\n",
    "        return 1\n",
    "    square_list = []\n",
    "    for n in range(0,round(a+1)+1):\n",
    "        n_s = n**2\n",
    "        square_list.append(n_s)\n",
    "    for i in range(0,len(square_list)):\n",
    "        if a <= square_list[i]:\n",
    "            return square_list[i]"
   ]
  },
  {
   "cell_type": "code",
   "execution_count": null,
   "metadata": {},
   "outputs": [],
   "source": [
    "def next_square(a):\n",
    "    if a <= 0:\n",
    "        return 0\n",
    "    elif int(a**(0.5))**2 == a:\n",
    "        return a\n",
    "    else:\n",
    "        return (int(a**0.5)+1)**2"
   ]
  },
  {
   "cell_type": "code",
   "execution_count": 36,
   "metadata": {},
   "outputs": [
    {
     "data": {
      "text/plain": [
       "4"
      ]
     },
     "execution_count": 36,
     "metadata": {},
     "output_type": "execute_result"
    }
   ],
   "source": [
    "next_square(2.5)"
   ]
  },
  {
   "cell_type": "markdown",
   "metadata": {},
   "source": [
    "## Question 2"
   ]
  },
  {
   "cell_type": "code",
   "execution_count": 47,
   "metadata": {},
   "outputs": [],
   "source": [
    "def a_sequence(N):\n",
    "    if N == 1:\n",
    "        return [1]\n",
    "    elif N == 2:\n",
    "        return [1,1]\n",
    "    else:\n",
    "        a_list = [0,1,1]\n",
    "        for n in range(3,N+1):\n",
    "            a_n = a_list[a_list[n-2]] + a_list[n-a_list[n-2]]\n",
    "            a_list.append(a_n)\n",
    "    return a_list[1:]"
   ]
  },
  {
   "cell_type": "code",
   "execution_count": 48,
   "metadata": {},
   "outputs": [
    {
     "data": {
      "text/plain": [
       "[1, 1, 2, 3, 3, 4, 5, 6, 6, 7]"
      ]
     },
     "execution_count": 48,
     "metadata": {},
     "output_type": "execute_result"
    }
   ],
   "source": [
    "a_sequence(10)"
   ]
  },
  {
   "cell_type": "markdown",
   "metadata": {},
   "source": [
    "## Question 3"
   ]
  },
  {
   "cell_type": "code",
   "execution_count": 25,
   "metadata": {},
   "outputs": [],
   "source": [
    "def poly_int(p,a,b):\n",
    "    terms = [p[n]/(n+1) for n in range(0,len(p))]\n",
    "    end = [terms[k]*(b**(k+1)) for k in range(0,len(p))]\n",
    "    begin = [terms[k]*(a**(k+1)) for k in range(0,len(p))]\n",
    "    value = sum(end) - sum(begin)\n",
    "    return value"
   ]
  },
  {
   "cell_type": "code",
   "execution_count": 26,
   "metadata": {},
   "outputs": [
    {
     "data": {
      "text/plain": [
       "1107.0"
      ]
     },
     "execution_count": 26,
     "metadata": {},
     "output_type": "execute_result"
    }
   ],
   "source": [
    "poly_int([1,2,3],1,10)"
   ]
  },
  {
   "cell_type": "code",
   "execution_count": 27,
   "metadata": {},
   "outputs": [],
   "source": [
    "import numpy as np\n",
    "import matplotlib.pyplot as plt\n",
    "%matplotlib inline"
   ]
  },
  {
   "cell_type": "markdown",
   "metadata": {},
   "source": [
    "## Question 4\n",
    "\n",
    "(a)\n",
    "$$\n",
    "\\int_0^\\infty \\frac{\\arctan qx}{(p+x)^2} dx = - \\frac{q}{1+p^2q^2} (\\ln pq - \\frac{\\pi}{2} pq), \\ p>0, q>0\n",
    "$$\n",
    "\n",
    "(b)"
   ]
  },
  {
   "cell_type": "code",
   "execution_count": 35,
   "metadata": {},
   "outputs": [],
   "source": [
    "def pq_integral(p,q,b,N):\n",
    "    n = np.linspace(0,b,N+1)\n",
    "    dx = b/N\n",
    "    x_mid = [(n[k] + n[k-1])/2 for k in range(1,N+1)]\n",
    "    result = np.sum((np.arctan(q*x)*dx)/((p + x)**2) for x in x_mid)\n",
    "    return result"
   ]
  },
  {
   "cell_type": "code",
   "execution_count": 36,
   "metadata": {},
   "outputs": [
    {
     "data": {
      "text/plain": [
       "0.25807329991014061"
      ]
     },
     "execution_count": 36,
     "metadata": {},
     "output_type": "execute_result"
    }
   ],
   "source": [
    "pq_integral(5,6,50,10)"
   ]
  },
  {
   "cell_type": "markdown",
   "metadata": {},
   "source": [
    "## Question 5"
   ]
  },
  {
   "cell_type": "code",
   "execution_count": 37,
   "metadata": {},
   "outputs": [],
   "source": [
    "def flower_plot(a,N):\n",
    "    t = np.linspace(0,2*np.pi,N)\n",
    "    x_t = np.cos(a*t)*np.cos(t)\n",
    "    y_t = np.cos(a*t)*np.sin(t)\n",
    "    plt.plot(x_t,y_t)\n",
    "    plt.show()\n",
    "    P = np.array([x_t,y_t]).T\n",
    "    return P"
   ]
  },
  {
   "cell_type": "code",
   "execution_count": 39,
   "metadata": {},
   "outputs": [
    {
     "data": {
      "image/png": "[encoded data removed]",
      "text/plain": [
       "<matplotlib.figure.Figure at 0x7f9877b0e518>"
      ]
     },
     "metadata": {},
     "output_type": "display_data"
    },
    {
     "data": {
      "text/plain": [
       "array([[  1.00000000e+00,   0.00000000e+00],\n",
       "       [  9.26498828e-01,   5.88807332e-02],\n",
       "       [  7.17911462e-01,   9.16192676e-02],\n",
       "       [  4.07907923e-01,   7.86178081e-02],\n",
       "       [  4.60568536e-02,   1.19501024e-02],\n",
       "       [ -3.10737825e-01,  -1.02056144e-01],\n",
       "       [ -6.07951706e-01,  -2.43387148e-01],\n",
       "       [ -8.02553115e-01,  -3.82016954e-01],\n",
       "       [ -8.69892519e-01,  -4.83995200e-01],\n",
       "       [ -8.07176854e-01,  -5.18741066e-01],\n",
       "       [ -6.32985178e-01,  -4.66057113e-01],\n",
       "       [ -3.83022222e-01,  -3.21393805e-01],\n",
       "       [ -1.02998093e-01,  -9.82084829e-02],\n",
       "       [  1.59964657e-01,   1.73186559e-01],\n",
       "       [  3.65756431e-01,   4.50209119e-01],\n",
       "       [  4.87974924e-01,   6.85264897e-01],\n",
       "       [  5.17697817e-01,   8.34369784e-01],\n",
       "       [  4.63736521e-01,   8.65524353e-01],\n",
       "       [  3.49469347e-01,   7.65231130e-01],\n",
       "       [  2.07014319e-01,   5.41858921e-01],\n",
       "       [  7.00016316e-02,   2.25126736e-01],\n",
       "       [ -3.35519948e-02,  -1.38303206e-01],\n",
       "       [ -8.68240888e-02,  -4.92403877e-01],\n",
       "       [ -8.71247100e-02,  -7.81209801e-01],\n",
       "       [ -4.56545139e-02,  -9.58406194e-01],\n",
       "       [  1.57941215e-02,  -9.95346620e-01],\n",
       "       [  7.04401710e-02,  -8.86039862e-01],\n",
       "       [  9.31963994e-02,  -6.48195196e-01],\n",
       "       [  6.69856998e-02,  -3.20134923e-01],\n",
       "       [ -1.26793346e-02,   4.58614565e-02],\n",
       "       [ -1.35868942e-01,   3.92567527e-01],\n",
       "       [ -2.79611118e-01,   6.67539198e-01],\n",
       "       [ -4.12257203e-01,   8.31811888e-01],\n",
       "       [ -5.00000000e-01,   8.66025404e-01],\n",
       "       [ -5.14241625e-01,   7.72931155e-01],\n",
       "       [ -4.38300344e-01,   5.75919930e-01],\n",
       "       [ -2.72038980e-01,   3.13949719e-01],\n",
       "       [ -3.33775191e-02,   3.39113541e-02],\n",
       "       [  2.43752126e-01,  -2.18078779e-01],\n",
       "       [  5.14755307e-01,  -4.04808047e-01],\n",
       "       [  7.32112944e-01,  -5.04022909e-01],\n",
       "       [  8.54098398e-01,  -5.11351421e-01],\n",
       "       [  8.52831368e-01,  -4.39665128e-01],\n",
       "       [  7.20109888e-01,  -3.15152688e-01],\n",
       "       [  4.69846310e-01,  -1.71010072e-01],\n",
       "       [  1.36550087e-01,  -4.00947233e-02],\n",
       "       [ -2.29966288e-01,   5.19401767e-02],\n",
       "       [ -5.72770750e-01,   9.16498015e-02],\n",
       "       [ -8.37444272e-01,   7.99662322e-02],\n",
       "       [ -9.81434338e-01,   3.11545684e-02],\n",
       "       [ -9.81434338e-01,  -3.11545684e-02],\n",
       "       [ -8.37444272e-01,  -7.99662322e-02],\n",
       "       [ -5.72770750e-01,  -9.16498015e-02],\n",
       "       [ -2.29966288e-01,  -5.19401767e-02],\n",
       "       [  1.36550087e-01,   4.00947233e-02],\n",
       "       [  4.69846310e-01,   1.71010072e-01],\n",
       "       [  7.20109888e-01,   3.15152688e-01],\n",
       "       [  8.52831368e-01,   4.39665128e-01],\n",
       "       [  8.54098398e-01,   5.11351421e-01],\n",
       "       [  7.32112944e-01,   5.04022909e-01],\n",
       "       [  5.14755307e-01,   4.04808047e-01],\n",
       "       [  2.43752126e-01,   2.18078779e-01],\n",
       "       [ -3.33775191e-02,  -3.39113541e-02],\n",
       "       [ -2.72038980e-01,  -3.13949719e-01],\n",
       "       [ -4.38300344e-01,  -5.75919930e-01],\n",
       "       [ -5.14241625e-01,  -7.72931155e-01],\n",
       "       [ -5.00000000e-01,  -8.66025404e-01],\n",
       "       [ -4.12257203e-01,  -8.31811888e-01],\n",
       "       [ -2.79611118e-01,  -6.67539198e-01],\n",
       "       [ -1.35868942e-01,  -3.92567527e-01],\n",
       "       [ -1.26793346e-02,  -4.58614565e-02],\n",
       "       [  6.69856998e-02,   3.20134923e-01],\n",
       "       [  9.31963994e-02,   6.48195196e-01],\n",
       "       [  7.04401710e-02,   8.86039862e-01],\n",
       "       [  1.57941215e-02,   9.95346620e-01],\n",
       "       [ -4.56545139e-02,   9.58406194e-01],\n",
       "       [ -8.71247100e-02,   7.81209801e-01],\n",
       "       [ -8.68240888e-02,   4.92403877e-01],\n",
       "       [ -3.35519948e-02,   1.38303206e-01],\n",
       "       [  7.00016316e-02,  -2.25126736e-01],\n",
       "       [  2.07014319e-01,  -5.41858921e-01],\n",
       "       [  3.49469347e-01,  -7.65231130e-01],\n",
       "       [  4.63736521e-01,  -8.65524353e-01],\n",
       "       [  5.17697817e-01,  -8.34369784e-01],\n",
       "       [  4.87974924e-01,  -6.85264897e-01],\n",
       "       [  3.65756431e-01,  -4.50209119e-01],\n",
       "       [  1.59964657e-01,  -1.73186559e-01],\n",
       "       [ -1.02998093e-01,   9.82084829e-02],\n",
       "       [ -3.83022222e-01,   3.21393805e-01],\n",
       "       [ -6.32985178e-01,   4.66057113e-01],\n",
       "       [ -8.07176854e-01,   5.18741066e-01],\n",
       "       [ -8.69892519e-01,   4.83995200e-01],\n",
       "       [ -8.02553115e-01,   3.82016954e-01],\n",
       "       [ -6.07951706e-01,   2.43387148e-01],\n",
       "       [ -3.10737825e-01,   1.02056144e-01],\n",
       "       [  4.60568536e-02,  -1.19501024e-02],\n",
       "       [  4.07907923e-01,  -7.86178081e-02],\n",
       "       [  7.17911462e-01,  -9.16192676e-02],\n",
       "       [  9.26498828e-01,  -5.88807332e-02],\n",
       "       [  1.00000000e+00,  -2.44929360e-16]])"
      ]
     },
     "execution_count": 39,
     "metadata": {},
     "output_type": "execute_result"
    }
   ],
   "source": [
    "flower_plot(6,100)"
   ]
  },
  {
   "cell_type": "code",
   "execution_count": null,
   "metadata": {},
   "outputs": [],
   "source": []
  }
 ],
 "metadata": {
  "kernelspec": {
   "display_name": "Python 3",
   "language": "python",
   "name": "python3"
  },
  "language_info": {
   "codemirror_mode": {
    "name": "ipython",
    "version": 3
   },
   "file_extension": ".py",
   "mimetype": "text/x-python",
   "name": "python",
   "nbconvert_exporter": "python",
   "pygments_lexer": "ipython3",
   "version": "3.6.4"
  }
 },
 "nbformat": 4,
 "nbformat_minor": 2
}
