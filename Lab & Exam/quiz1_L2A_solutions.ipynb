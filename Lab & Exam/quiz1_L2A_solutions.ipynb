{
 "cells": [
  {
   "cell_type": "markdown",
   "metadata": {},
   "source": [
    "### Lab Quiz 1 (L2A) Solutions"
   ]
  },
  {
   "cell_type": "markdown",
   "metadata": {},
   "source": [
    "**Question 1**"
   ]
  },
  {
   "cell_type": "code",
   "execution_count": 1,
   "metadata": {
    "collapsed": true
   },
   "outputs": [],
   "source": [
    "def next_square(a):\n",
    "    \"Return the smallest square integer greater than or equal to a.\"\n",
    "    if a <= 0:\n",
    "        return 0\n",
    "    elif round(a**0.5)**2 == a:\n",
    "        # If a is already a square, return a\n",
    "        return a\n",
    "    else:\n",
    "        # Compute next square: compute the\n",
    "        # square root, round down, add 1 and square\n",
    "        return (int(a**0.5) + 1)**2"
   ]
  },
  {
   "cell_type": "code",
   "execution_count": 2,
   "metadata": {},
   "outputs": [
    {
     "name": "stdout",
     "output_type": "stream",
     "text": [
      "True True True True True True True\n"
     ]
    }
   ],
   "source": [
    "test1 = (next_square(-1) == 0)\n",
    "test2 = (next_square(0) == 0)\n",
    "test3 = (next_square(0.5) == 1)\n",
    "test4 = (next_square(1) == 1)\n",
    "test5 = (next_square(25) == 25)\n",
    "test6 = (next_square(26) == 36)\n",
    "test7 = (next_square(99) == 100)\n",
    "print(test1,test2,test3,test4,test5,test6,test7)"
   ]
  },
  {
   "cell_type": "markdown",
   "metadata": {},
   "source": [
    "**Question 2**"
   ]
  },
  {
   "cell_type": "code",
   "execution_count": 3,
   "metadata": {
    "collapsed": true
   },
   "outputs": [],
   "source": [
    "def a_sequence(N):\n",
    "    '''Compute recursive sequence a(1),...,a(N) where a(n) = a(a(n - 2)) + a(n - a(n - 2)) and a(1) = a(2) = 1.\n",
    "    \n",
    "    Input:\n",
    "        N : integer, length of sequence to return\n",
    "    \n",
    "    Output:\n",
    "        Python list of integers of length N giving the sequence defined by the recurrence relation:\n",
    "        a(n) = a(a(n - 2)) + a(n - a(n - 2)) and a(1) = a(2) = 1\n",
    "    '''\n",
    "    if N == 1:\n",
    "        return [1]\n",
    "    if N == 2:\n",
    "        return [1,1]\n",
    "    # Definition of sequence begins at index 1 therefore\n",
    "    # insert 0 at index 0 so that sequence index matches\n",
    "    # Python list index [a(0),a(1),a(2),...,a(N)]\n",
    "    a = [0,1,1]\n",
    "    for n in range(3,N+1):\n",
    "        an = a[a[n - 2]] + a[n - a[n - 2]]\n",
    "        a.append(an)\n",
    "    return a[1:] # Return list from index 1 to N"
   ]
  },
  {
   "cell_type": "code",
   "execution_count": 7,
   "metadata": {},
   "outputs": [
    {
     "name": "stdout",
     "output_type": "stream",
     "text": [
      "True True True True\n"
     ]
    }
   ],
   "source": [
    "test1 = (a_sequence(3) == [1,1,2])\n",
    "test2 = (a_sequence(4) == [1,1,2,3])\n",
    "test3 = (a_sequence(5) == [1,1,2,3,3])\n",
    "test4 = (a_sequence(10) == [1, 1, 2, 3, 3, 4, 5, 6, 6, 7])\n",
    "print(test1,test2,test3,test4)"
   ]
  },
  {
   "cell_type": "markdown",
   "metadata": {},
   "source": [
    "**Question 3**"
   ]
  },
  {
   "cell_type": "code",
   "execution_count": 8,
   "metadata": {
    "collapsed": true
   },
   "outputs": [],
   "source": [
    "def poly_int(p,a,b):\n",
    "    '''Compute the integral of p(x) over the interval [a,b].\n",
    "    \n",
    "    Use the Fundamental Theorem of Calculus to compute the integral of p(x) over the interval [a,b]:\n",
    "    \n",
    "    \\int_a^b p(x) = P(b) - P(a)\n",
    "    \n",
    "    where P(x) is an antiderivative of p(x).\n",
    "    \n",
    "    Input:\n",
    "        p : list representing a polnomial function p(x) = a0 + a1*x + a2*x**2 + ... + an*x**n\n",
    "        a,b : integers defining interval [a,b]\n",
    "    Output:\n",
    "        Value of the integral of p(x) over the interval [a,b].\n",
    "    '''\n",
    "    deg = len(p) - 1\n",
    "    \n",
    "    # Compute an antiderivative P(x) of p(x) (with constant term 0)\n",
    "    P = [0] + [p[k]/(1+k) for k in range(0,deg+1)]\n",
    "    \n",
    "    # Evaluate P(x) at x=b\n",
    "    Pb = sum([P[k]*b**k for k in range(0,deg+2)])\n",
    "    \n",
    "    # Evaluate P(x) at x=a\n",
    "    Pa = sum([P[k]*a**k for k in range(0,deg+2)])\n",
    "    \n",
    "    return Pb - Pa"
   ]
  },
  {
   "cell_type": "code",
   "execution_count": 13,
   "metadata": {},
   "outputs": [
    {
     "name": "stdout",
     "output_type": "stream",
     "text": [
      "True True True\n"
     ]
    }
   ],
   "source": [
    "epsilon = 10e-12\n",
    "test1 = abs(poly_int([1],1,2) - 1) < epsilon\n",
    "test2 = abs(poly_int([1,1,1],1,3) - ((3+3**2/2+3**3/3) - (1+1/2+1/3))) < epsilon\n",
    "test3 = abs(poly_int([1,0,0,0,-1],-1,3) - ((3 - 1/5*3**5) - (-1 - 1/5*(-1)**5))) < epsilon\n",
    "print(test1,test2,test3)"
   ]
  },
  {
   "cell_type": "markdown",
   "metadata": {
    "collapsed": true
   },
   "source": [
    "**Question 4(a)**"
   ]
  },
  {
   "cell_type": "markdown",
   "metadata": {},
   "source": [
    "$$\n",
    "\\int_0^{\\infty} \\frac{\\arctan qx}{(p+x)^2} \\, dx = - \\frac{q}{1 + p^2 q^2} \\left( \\ln pq - \\frac{\\pi}{2}pq \\right) \\ , \\ p > 0 , \\ q > 0\n",
    "$$"
   ]
  },
  {
   "cell_type": "markdown",
   "metadata": {},
   "source": [
    "**Question 4(b)**"
   ]
  },
  {
   "cell_type": "code",
   "execution_count": 45,
   "metadata": {
    "collapsed": true
   },
   "outputs": [],
   "source": [
    "import numpy as np\n",
    "\n",
    "def pq_integral(p,q,b,N):\n",
    "    '''Compute Riemann sum of arctan(q*x) / (p + x)**2 from 0 to b using midpoints.\n",
    "\n",
    "    Input:\n",
    "        p,q : numbers greater than 0\n",
    "        b : number greater than 0 defining upper limit if integration\n",
    "        N : integer, the number of subintervals of the interval [0,b]\n",
    "        \n",
    "    Output:\n",
    "        Riemann sum approximating the integral of arctan(q*x) / (p + x)**2\n",
    "        from 0 to b using the midpoints.    \n",
    "    '''\n",
    "    Delta_x = b/N\n",
    "    x = np.linspace(0,b,N+1)\n",
    "    midpoints = (x[:-1] + x[1:])/2\n",
    "    y = np.arctan(q*midpoints) / (p + midpoints)**2\n",
    "    return np.sum(y)*Delta_x"
   ]
  },
  {
   "cell_type": "code",
   "execution_count": 46,
   "metadata": {},
   "outputs": [
    {
     "name": "stdout",
     "output_type": "stream",
     "text": [
      "True True\n"
     ]
    }
   ],
   "source": [
    "epsilon = 10e-14\n",
    "test1 = abs(pq_integral(1,1,1,1) - np.arctan(0.5)/1.5**2) < epsilon\n",
    "test2 = abs(pq_integral(2,5,1,5) - 0.2*(np.arctan(5*0.1)/(2+0.1)**2 + np.arctan(5*0.3)/(2+0.3)**2 + np.arctan(5*0.5)/(2+0.5)**2 + np.arctan(5*0.7)/(2+0.7)**2 + np.arctan(5*0.9)/(2+0.9)**2)) < epsilon\n",
    "print(test1,test2)"
   ]
  },
  {
   "cell_type": "markdown",
   "metadata": {},
   "source": [
    "**Question 5**"
   ]
  },
  {
   "cell_type": "code",
   "execution_count": 47,
   "metadata": {
    "collapsed": true
   },
   "outputs": [],
   "source": [
    "import matplotlib.pyplot as plt\n",
    "%matplotlib inline"
   ]
  },
  {
   "cell_type": "code",
   "execution_count": 54,
   "metadata": {
    "collapsed": true
   },
   "outputs": [],
   "source": [
    "def flower_plot(a,N):\n",
    "    '''Plot the parametric curve given by x(t) = cos(at)*cos(t) and y(t) = cos(at)*sin(t) for t in [0,2pi].\n",
    "    \n",
    "    Input:\n",
    "        a : integer\n",
    "        N : integer, the number of points to use in the plot\n",
    "\n",
    "    Output:\n",
    "        NumPy array of size N by 2 with x values in first column and y values in second column.\n",
    "    '''\n",
    "    t = np.linspace(0,2*np.pi,N)\n",
    "    x = np.cos(a*t)*np.cos(t)\n",
    "    y = np.cos(a*t)*np.sin(t)\n",
    "    plt.plot(x,y)\n",
    "    plt.axis('equal'), plt.axis('off')\n",
    "    M = np.vstack([x,y]).T\n",
    "    return M"
   ]
  },
  {
   "cell_type": "code",
   "execution_count": 56,
   "metadata": {},
   "outputs": [
    {
     "data": {
      "image/png": "[encoded data removed]",
      "text/plain": [
       "<matplotlib.figure.Figure at 0x1130de4a8>"
      ]
     },
     "metadata": {},
     "output_type": "display_data"
    }
   ],
   "source": [
    "flower_plot(10,1000);"
   ]
  },
  {
   "cell_type": "code",
   "execution_count": 66,
   "metadata": {},
   "outputs": [
    {
     "name": "stdout",
     "output_type": "stream",
     "text": [
      "True True\n"
     ]
    },
    {
     "data": {
      "image/png": "[encoded data removed]",
      "text/plain": [
       "<matplotlib.figure.Figure at 0x113999b38>"
      ]
     },
     "metadata": {},
     "output_type": "display_data"
    }
   ],
   "source": [
    "epsilion = 10e-12\n",
    "test1 = np.linalg.norm(flower_plot(0,2) - np.array([[1,0],[1,0]])) < epsilon\n",
    "test2 = np.linalg.norm(flower_plot(3,1000) - np.array([[np.cos(3*t)*np.cos(t) for t in np.linspace(0,2*np.pi,1000)],[np.cos(3*t)*np.sin(t) for t in np.linspace(0,2*np.pi,1000)]]).T) < epsilon\n",
    "print(test1,test2)"
   ]
  }
 ],
 "metadata": {
  "kernelspec": {
   "display_name": "Python 3",
   "language": "python",
   "name": "python3"
  },
  "language_info": {
   "codemirror_mode": {
    "name": "ipython",
    "version": 3
   },
   "file_extension": ".py",
   "mimetype": "text/x-python",
   "name": "python",
   "nbconvert_exporter": "python",
   "pygments_lexer": "ipython3",
   "version": "3.5.3"
  }
 },
 "nbformat": 4,
 "nbformat_minor": 2
}
