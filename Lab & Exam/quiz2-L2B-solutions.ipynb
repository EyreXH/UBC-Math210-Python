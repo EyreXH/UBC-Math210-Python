{
 "cells": [
  {
   "cell_type": "markdown",
   "metadata": {},
   "source": [
    "# MATH 210 Lab Quiz 2 L2B\n",
    "\n",
    "## Solutions"
   ]
  },
  {
   "cell_type": "code",
   "execution_count": 1,
   "metadata": {
    "collapsed": true
   },
   "outputs": [],
   "source": [
    "import numpy as np\n",
    "import matplotlib.pyplot as plt\n",
    "import scipy.integrate as spi\n",
    "import scipy.linalg as la\n",
    "%matplotlib inline"
   ]
  },
  {
   "cell_type": "markdown",
   "metadata": {},
   "source": [
    "**Question 1(a)**"
   ]
  },
  {
   "cell_type": "code",
   "execution_count": 2,
   "metadata": {},
   "outputs": [
    {
     "data": {
      "image/png": "[encoded data removed]",
      "text/plain": [
       "<matplotlib.figure.Figure at 0x109d0beb8>"
      ]
     },
     "metadata": {},
     "output_type": "display_data"
    }
   ],
   "source": [
    "x = np.linspace(-3,3,100)\n",
    "y = ((16*x**4 - 72*x**2 + 25)*np.sin(x) + (-32*x**3 + 56*x)*np.cos(x))*np.exp(-x**2)\n",
    "plt.plot(x,y)\n",
    "plt.plot([-3,3],[21,21])\n",
    "plt.plot([-3,3],[-21,-21])\n",
    "plt.show()"
   ]
  },
  {
   "cell_type": "markdown",
   "metadata": {},
   "source": [
    "**Question 1(b)**"
   ]
  },
  {
   "cell_type": "markdown",
   "metadata": {},
   "source": [
    "Note the integral was meant to be form 0 to 3 and not from -3 to 3. Note that $\\sin(x) e^{-x^2}$ is an odd function and so $\\int_{-3}^3 \\sin(x) e^{-x^2} dx = 0$. Anyway, to compute $N$, we need:\n",
    "\n",
    "$$\n",
    "\\frac{(b-a)^5 M}{180N^4} < e\n",
    "$$\n",
    "$$\n",
    "\\left( \\frac{(b-a)^5 M}{180e} \\right)^{1/4} < N\n",
    "$$"
   ]
  },
  {
   "cell_type": "code",
   "execution_count": 3,
   "metadata": {
    "collapsed": true
   },
   "outputs": [],
   "source": [
    "def f_int(abs_tolerance):\n",
    "    '''Approximate the integral of sin(x)*exp(-x^2) for -3 to 3 by the trapzezoid rule such that\n",
    "    the absolute error of the approximation is less than abs_tolerance.'''\n",
    "    N = int((6**5*21/180/abs_tolerance)**0.25)\n",
    "    x = np.linspace(-3,3,N+1)\n",
    "    y = np.sin(x)*np.exp(-x**2)\n",
    "    I = spi.simps(y,x)\n",
    "    return I"
   ]
  },
  {
   "cell_type": "code",
   "execution_count": 4,
   "metadata": {},
   "outputs": [
    {
     "data": {
      "text/plain": [
       "5.5511151231257827e-17"
      ]
     },
     "execution_count": 4,
     "metadata": {},
     "output_type": "execute_result"
    }
   ],
   "source": [
    "f_int(0.00000001)"
   ]
  },
  {
   "cell_type": "markdown",
   "metadata": {},
   "source": [
    "**Question 2**"
   ]
  },
  {
   "cell_type": "code",
   "execution_count": 5,
   "metadata": {
    "collapsed": true
   },
   "outputs": [],
   "source": [
    "def ab_integral(a,b,u,N):\n",
    "    '''Approximate the integral of 1/((x^2 + a^2)(x^2 + b^2))^{1/2} from 0 to u by\n",
    "    the trapezoid rule with N subintervals.'''\n",
    "    x = np.linspace(0,u,N+1)\n",
    "    y = 1/np.sqrt(x**2 + a**2)/np.sqrt(x**2 + b**2)\n",
    "    I = spi.trapz(y,x)\n",
    "    return I"
   ]
  },
  {
   "cell_type": "code",
   "execution_count": 6,
   "metadata": {},
   "outputs": [
    {
     "data": {
      "text/plain": [
       "0.15765548436349489"
      ]
     },
     "execution_count": 6,
     "metadata": {},
     "output_type": "execute_result"
    }
   ],
   "source": [
    "ab_integral(2,3,1,100)"
   ]
  },
  {
   "cell_type": "markdown",
   "metadata": {},
   "source": [
    "**Question 3**"
   ]
  },
  {
   "cell_type": "code",
   "execution_count": 7,
   "metadata": {
    "collapsed": true
   },
   "outputs": [],
   "source": [
    "def max_diff(x,y):\n",
    "    '''Compute the maximum of the forward difference formulas (y[k+1] - y[k])/(x[k+1] - x[k]) for 1D arrays x and y.'''\n",
    "    D = (y[1:] - y[:-1])/(x[1:] - x[:-1])\n",
    "    return np.max(D)"
   ]
  },
  {
   "cell_type": "code",
   "execution_count": 8,
   "metadata": {},
   "outputs": [
    {
     "data": {
      "text/plain": [
       "4.8904961398066007"
      ]
     },
     "execution_count": 8,
     "metadata": {},
     "output_type": "execute_result"
    }
   ],
   "source": [
    "X = np.linspace(0,1,50); Y = np.exp(-X)*np.sin(5*X);\n",
    "max_diff(X,Y)"
   ]
  },
  {
   "cell_type": "markdown",
   "metadata": {},
   "source": [
    "**Question 4**"
   ]
  },
  {
   "cell_type": "code",
   "execution_count": 9,
   "metadata": {
    "collapsed": true
   },
   "outputs": [],
   "source": [
    "def a_solution(a,b):\n",
    "    '''Compute the solution of Ax=b where A[i,j] = a[i]**j.'''\n",
    "    A = np.column_stack([a**k for k in range(0,len(a))])\n",
    "    if la.det(A) == 0:\n",
    "        print('Matrix A is singular')\n",
    "        return None\n",
    "    return la.solve(A,b)"
   ]
  },
  {
   "cell_type": "code",
   "execution_count": 10,
   "metadata": {},
   "outputs": [
    {
     "data": {
      "text/plain": [
       "array([   2.        ,   51.66666667, -347.91666667,  645.83333333,\n",
       "       -364.58333333])"
      ]
     },
     "execution_count": 10,
     "metadata": {},
     "output_type": "execute_result"
    }
   ],
   "source": [
    "a = np.arange(0,1,0.2); b = np.array([2,3,-1,0,2]);\n",
    "a_solution(a,b)"
   ]
  },
  {
   "cell_type": "markdown",
   "metadata": {},
   "source": [
    "**Question 5**"
   ]
  },
  {
   "cell_type": "code",
   "execution_count": 11,
   "metadata": {
    "collapsed": true
   },
   "outputs": [],
   "source": [
    "def eigen_X(x,y):\n",
    "    mu = np.mean(x)\n",
    "    nu = np.mean(y)\n",
    "    xbar = x - mu\n",
    "    ybar = y - nu\n",
    "    X = np.column_stack([xbar,ybar])\n",
    "    A = X.T @ X\n",
    "    evals,evecs = la.eig(A)\n",
    "    max_eig = np.max(evals.real)\n",
    "    return max_eig"
   ]
  },
  {
   "cell_type": "code",
   "execution_count": 12,
   "metadata": {},
   "outputs": [
    {
     "data": {
      "text/plain": [
       "35.0"
      ]
     },
     "execution_count": 12,
     "metadata": {},
     "output_type": "execute_result"
    }
   ],
   "source": [
    "x = np.arange(0,6); y = np.arange(-3,3)\n",
    "eigen_X(x,y)"
   ]
  }
 ],
 "metadata": {
  "kernelspec": {
   "display_name": "Python 3",
   "language": "python",
   "name": "python3"
  },
  "language_info": {
   "codemirror_mode": {
    "name": "ipython",
    "version": 3
   },
   "file_extension": ".py",
   "mimetype": "text/x-python",
   "name": "python",
   "nbconvert_exporter": "python",
   "pygments_lexer": "ipython3",
   "version": "3.6.4"
  }
 },
 "nbformat": 4,
 "nbformat_minor": 2
}
