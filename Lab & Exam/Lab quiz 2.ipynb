{
 "cells": [
  {
   "cell_type": "markdown",
   "metadata": {},
   "source": [
    "# Lab Quiz 2\n",
    "## Xuan Hong, 60135167"
   ]
  },
  {
   "cell_type": "code",
   "execution_count": 1,
   "metadata": {},
   "outputs": [],
   "source": [
    "import numpy as np\n",
    "import matplotlib.pyplot as plt\n",
    "import scipy.integrate as spi\n",
    "import scipy.linalg as la\n",
    "from numpy.linalg import matrix_power as mpow\n",
    "%matplotlib inline"
   ]
  },
  {
   "cell_type": "markdown",
   "metadata": {},
   "source": [
    "## Question 1\n",
    "\n",
    "(a)"
   ]
  },
  {
   "cell_type": "code",
   "execution_count": null,
   "metadata": {},
   "outputs": [],
   "source": [
    "N = 1000\n",
    "x = np.linspace(-3,3,N+1)\n",
    "df = ((16*x**4 - 72*x**2 + 25)* np.sin(x) +(-32*x**3 + 56 *x)*np.cos(x))*np.exp(-x**2)\n",
    "plt.plot(x,df)\n",
    "plt.show()"
   ]
  },
  {
   "cell_type": "markdown",
   "metadata": {},
   "source": [
    "(b) bound M = 20"
   ]
  },
  {
   "cell_type": "code",
   "execution_count": null,
   "metadata": {},
   "outputs": [],
   "source": [
    "def f_int(abs_tolerance):\n",
    "    '''\n",
    "    Use Simpson's rule to approximate the integral of f(x)=sin(x)*e*(-x**2) for x from -3 to 3.\n",
    "    \n",
    "    Parameters\n",
    "    ----------\n",
    "    abs_tolerance : number, bound on the error of the approximation\n",
    "    \n",
    "    Returns\n",
    "    -------\n",
    "    Approximation of the integral of f(x)=sin(x)*e*(-x**2) for x from -3 to 3 using sufficient subintervals N\n",
    "    to guarantee the error is less than abs_tolerance.\n",
    "    \n",
    "    '''\n",
    "    M =20\n",
    "    N = (6**5*M/(180*abs_tolerance))**0.25\n",
    "    N = int(np.ceil(N))\n",
    "    x = np.linspace(-3,3,N+1)\n",
    "    y = np.sin(x)*np.exp(-x**2)\n",
    "    A = spi.simps(y,x)\n",
    "    return A"
   ]
  },
  {
   "cell_type": "markdown",
   "metadata": {},
   "source": [
    "## Question 2"
   ]
  },
  {
   "cell_type": "code",
   "execution_count": null,
   "metadata": {},
   "outputs": [],
   "source": [
    "def ab_integral(a,b,u,N):\n",
    "    \"Compute the integral of y from a to b\"\n",
    "    x = np.linspace(0,u,N+1)\n",
    "    y = 1/(np.sqrt(x**2+a**2)*np.sqrt(x**2+b**2))\n",
    "    result = np.trapz(x,y)\n",
    "    return result"
   ]
  },
  {
   "cell_type": "code",
   "execution_count": null,
   "metadata": {},
   "outputs": [],
   "source": []
  },
  {
   "cell_type": "markdown",
   "metadata": {},
   "source": [
    "## Question 3"
   ]
  },
  {
   "cell_type": "code",
   "execution_count": null,
   "metadata": {},
   "outputs": [],
   "source": [
    "def max_diff(x,y):\n",
    "    \"Compute the max value of the difference numerical derivatives.\"\n",
    "    df = (y[1:]-y[:-1])/(x[1:]-x[:-1])\n",
    "    result = np.amax(df)\n",
    "    return result"
   ]
  },
  {
   "cell_type": "code",
   "execution_count": null,
   "metadata": {},
   "outputs": [],
   "source": []
  },
  {
   "cell_type": "markdown",
   "metadata": {},
   "source": [
    "## Question 4"
   ]
  },
  {
   "cell_type": "code",
   "execution_count": 9,
   "metadata": {},
   "outputs": [],
   "source": [
    "def a_solution(a,b):\n",
    "    \"Compute the solution of constructing X by a and b\"\n",
    "    n = len(a)\n",
    "    A = np.ones(n+1)\n",
    "    for d in range(1,n+1):\n",
    "        a_n = a.T**d\n",
    "        A[:d] = a_n\n",
    "    if la.det(A) == 0:\n",
    "        print(\"Matrix A is singular\")\n",
    "        return None\n",
    "    else: \n",
    "        x = la.solve(A,b)\n",
    "        return x     "
   ]
  },
  {
   "cell_type": "code",
   "execution_count": null,
   "metadata": {},
   "outputs": [],
   "source": []
  },
  {
   "cell_type": "markdown",
   "metadata": {},
   "source": [
    "## Question 5"
   ]
  },
  {
   "cell_type": "code",
   "execution_count": 7,
   "metadata": {},
   "outputs": [],
   "source": [
    "def eigen_X(x,y):\n",
    "    \"Compute the eigenvalue of the constracting X\"\n",
    "    u = np.mean(x)\n",
    "    v = np.mean(y)\n",
    "    x_bar = np.array([x - u])\n",
    "    y_bar = np.array([y - v])\n",
    "    X = np.vstack(x_bar,y_bar)\n",
    "    S = X@X.T\n",
    "    evals,evecs = la.eig(S)\n",
    "    evals = evals.real\n",
    "    return evals"
   ]
  },
  {
   "cell_type": "code",
   "execution_count": 6,
   "metadata": {},
   "outputs": [
    {
     "name": "stdout",
     "output_type": "stream",
     "text": [
      "[[1 2 3 4 5]\n",
      " [1 2 3 4 5]]\n"
     ]
    }
   ],
   "source": []
  },
  {
   "cell_type": "code",
   "execution_count": null,
   "metadata": {},
   "outputs": [],
   "source": []
  }
 ],
 "metadata": {
  "kernelspec": {
   "display_name": "Python 3",
   "language": "python",
   "name": "python3"
  },
  "language_info": {
   "codemirror_mode": {
    "name": "ipython",
    "version": 3
   },
   "file_extension": ".py",
   "mimetype": "text/x-python",
   "name": "python",
   "nbconvert_exporter": "python",
   "pygments_lexer": "ipython3",
   "version": "3.6.4"
  }
 },
 "nbformat": 4,
 "nbformat_minor": 2
}
