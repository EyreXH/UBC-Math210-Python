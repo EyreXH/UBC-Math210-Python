{
 "cells": [
  {
   "cell_type": "markdown",
   "metadata": {},
   "source": [
    "# Lab Quiz 1 (L2B): Solutions"
   ]
  },
  {
   "cell_type": "markdown",
   "metadata": {},
   "source": [
    "**Question 1**"
   ]
  },
  {
   "cell_type": "code",
   "execution_count": 1,
   "metadata": {
    "collapsed": true
   },
   "outputs": [],
   "source": [
    "def d_solutions(d,a,b):\n",
    "    '''Compute all integer solutions of x**2 - d * y**2 = 1 for x in [0,a] and y in [0,b].\n",
    "    \n",
    "    Input:\n",
    "        d : positive integer\n",
    "        a : positive integer defining x interval [0,a]\n",
    "        b : positive integer defining y interval [0,b]\n",
    "        \n",
    "    Output:\n",
    "        List of tuples of all integer solutions (x,y) of the equation\n",
    "        x**2 - d * y**2 = 1 for x in [0,a] and y in [0,b].\n",
    "    \n",
    "    Example:\n",
    "        >>> d_solutions(2,3,3)\n",
    "        [(1, 0), (3, 2)]\n",
    "    '''\n",
    "    solutions = []\n",
    "    for x in range(0,a+1):\n",
    "        for y in range(0,b+1):\n",
    "            if x**2 - d*y**2 == 1:\n",
    "                solutions.append((x,y))\n",
    "    return solutions"
   ]
  },
  {
   "cell_type": "code",
   "execution_count": 2,
   "metadata": {},
   "outputs": [
    {
     "name": "stdout",
     "output_type": "stream",
     "text": [
      "True True True\n"
     ]
    }
   ],
   "source": [
    "test1 = (sorted(d_solutions(2,3,3)) == [(1, 0), (3, 2)])\n",
    "test2 = (sorted(d_solutions(6,100,100)) == [(1, 0), (5, 2), (49, 20)])\n",
    "test3 = (sorted(d_solutions(1,1,1)) == [(1,0)])\n",
    "print(test1,test2,test3)"
   ]
  },
  {
   "cell_type": "markdown",
   "metadata": {},
   "source": [
    "**Question 2**"
   ]
  },
  {
   "cell_type": "code",
   "execution_count": 3,
   "metadata": {
    "collapsed": true
   },
   "outputs": [],
   "source": [
    "def poly_add(p,q):\n",
    "    '''Add polynomials p(x) and q(x).\n",
    "    \n",
    "    Represent a polynomial p(x) = a0 + a1*x + a2*x**2 + ... + an*x**n\n",
    "    as a list of numbers [a0,a1,a2,...,an]. Compute the list representing\n",
    "    the polynomial p(x) + q(x) by adding the coefficients.\n",
    "    \n",
    "    Input:\n",
    "        p,q : lists representing polynimials\n",
    "        \n",
    "    Output:\n",
    "        List representing p(x) + q(x).\n",
    "        \n",
    "    Example:\n",
    "        >>> poly_add([1,2,3,5,6,7],[0,2,3,2])\n",
    "        [1, 4, 6, 7, 6, 7]\n",
    "    '''\n",
    "    # Let F be the polynomial of higher degree and f the polynomial of smaller degree\n",
    "    if len(p) > len(q):\n",
    "        f = q\n",
    "        F = p\n",
    "    else:\n",
    "        f = p\n",
    "        F = q\n",
    "    p_plus_q = []\n",
    "    # Add coefficients of f to F\n",
    "    for n in range(0,len(f)):\n",
    "        p_plus_q.append(f[n] + F[n])\n",
    "    # Higher degree terms are only those of F\n",
    "    for n in range(len(f),len(F)):\n",
    "        p_plus_q.append(F[n])\n",
    "    return p_plus_q"
   ]
  },
  {
   "cell_type": "code",
   "execution_count": 4,
   "metadata": {},
   "outputs": [
    {
     "name": "stdout",
     "output_type": "stream",
     "text": [
      "True True True\n"
     ]
    }
   ],
   "source": [
    "test1 = (poly_add([1],[2]) == [3])\n",
    "test2 = (poly_add([1,2,3,4],[1,1,1]) == [2,3,4,4])\n",
    "test3 = (poly_add([2,2,2],[5,0,0,0,0,1]) == [7,2,2,0,0,1])\n",
    "print(test1,test2,test3)"
   ]
  },
  {
   "cell_type": "markdown",
   "metadata": {},
   "source": [
    "**Question 3**"
   ]
  },
  {
   "cell_type": "code",
   "execution_count": 5,
   "metadata": {
    "collapsed": true
   },
   "outputs": [],
   "source": [
    "def n_sequence(x0,a,N):\n",
    "    \"Compute Nth term of recursive sequence x_{n+1} = x_n - (x_n**2 - a)/(2*x_n) with initial value x_0 = x0.\"\n",
    "    xn = x0\n",
    "    for n in range(0,N):\n",
    "        xn = xn - (xn**2 - a)/(2*xn)\n",
    "    return xn"
   ]
  },
  {
   "cell_type": "code",
   "execution_count": 6,
   "metadata": {},
   "outputs": [
    {
     "name": "stdout",
     "output_type": "stream",
     "text": [
      "True True True\n"
     ]
    }
   ],
   "source": [
    "test1 = (n_sequence(11,121,100) == 11.0)\n",
    "test2 = (n_sequence(10,99,1) == 9.95)\n",
    "test3 = abs(n_sequence(4,15,2) - 3.872983870967742) < 10e-15\n",
    "print(test1,test2,test3)"
   ]
  },
  {
   "cell_type": "markdown",
   "metadata": {},
   "source": [
    "**Question 4(a)**"
   ]
  },
  {
   "cell_type": "markdown",
   "metadata": {},
   "source": [
    "$$\n",
    "\\sin^2 x = \\sum_{k=1}^{\\infty} (-1)^{k+1} \\frac{2^{2k-1} x^{2k}}{(2k)!}\n",
    "$$"
   ]
  },
  {
   "cell_type": "markdown",
   "metadata": {},
   "source": [
    "**Question 4(b)**"
   ]
  },
  {
   "cell_type": "code",
   "execution_count": 7,
   "metadata": {
    "collapsed": true
   },
   "outputs": [],
   "source": [
    "import numpy as np"
   ]
  },
  {
   "cell_type": "code",
   "execution_count": 8,
   "metadata": {
    "collapsed": true
   },
   "outputs": [],
   "source": [
    "def k_sum(x,N):\n",
    "    '''Compute the Nth partial sum:\n",
    "    \\sum_{k=1}^{N} (-1)^{k+1} \\frac{2^{2k-1} x^{2k}}{(2k)!}.\n",
    "    '''\n",
    "    return sum([(-1)**(k+1)*(2**(2*k-1)*x**(2*k))/np.math.factorial(2*k) for k in range(1,N+1)])"
   ]
  },
  {
   "cell_type": "code",
   "execution_count": 9,
   "metadata": {},
   "outputs": [
    {
     "name": "stdout",
     "output_type": "stream",
     "text": [
      "True True True\n"
     ]
    }
   ],
   "source": [
    "test1 = (k_sum(0,10) == 0.0)\n",
    "test2 = (k_sum(2,2) == (2**2 + (-1)*8*2**4/(4*3*2)))\n",
    "test3 = (k_sum(4,3) == (4**2 + (-1)*8*4**4/(4*3*2) + 2**5*4**6/(6*5*4*3*2)))\n",
    "print(test1,test2,test3)"
   ]
  },
  {
   "cell_type": "markdown",
   "metadata": {},
   "source": [
    "**Question 5**"
   ]
  },
  {
   "cell_type": "code",
   "execution_count": 10,
   "metadata": {
    "collapsed": true
   },
   "outputs": [],
   "source": [
    "import matplotlib.pyplot as plt\n",
    "%matplotlib inline"
   ]
  },
  {
   "cell_type": "code",
   "execution_count": 11,
   "metadata": {
    "collapsed": true
   },
   "outputs": [],
   "source": [
    "def sum_sine_plot(a,m):\n",
    "    '''Plot a sum of sine functions.\n",
    "    \n",
    "    Input:\n",
    "        a : list of numbers a = [a0,a1,...,aN]\n",
    "        m : positive integer\n",
    "        \n",
    "    Output:\n",
    "        Plot the function y(t) = \\sum_{k_0}^{N} sin(a[k]*t) using m evenly\n",
    "        spaced point in the interval [0,2pi] and return a NumPy array of\n",
    "        size m by 2 where the t values are the first column and the\n",
    "        y values are the second column.\n",
    "    '''\n",
    "    t = np.linspace(0,2*np.pi,m)\n",
    "    y = np.sum([np.sin(a[k]*t) for k in range(0,len(a))],axis=0)\n",
    "    plt.plot(t,y), plt.xlim([0,2*np.pi])\n",
    "    plt.show()\n",
    "    return np.column_stack([t,y])"
   ]
  },
  {
   "cell_type": "code",
   "execution_count": 12,
   "metadata": {},
   "outputs": [
    {
     "data": {
      "image/png": "[encoded data removed]",
      "text/plain": [
       "<matplotlib.figure.Figure at 0x10966eef0>"
      ]
     },
     "metadata": {},
     "output_type": "display_data"
    },
    {
     "data": {
      "image/png": "[encoded data removed]",
      "text/plain": [
       "<matplotlib.figure.Figure at 0x10c9d47b8>"
      ]
     },
     "metadata": {},
     "output_type": "display_data"
    },
    {
     "name": "stdout",
     "output_type": "stream",
     "text": [
      "True True\n"
     ]
    }
   ],
   "source": [
    "epsilon = 10e-15\n",
    "test1 = np.linalg.norm(sum_sine_plot([1],2) - np.array([[0,0],[2*np.pi,0]])) < epsilon\n",
    "\n",
    "t = np.linspace(0,2*np.pi,4)\n",
    "a = [1,1,1,1]\n",
    "y = np.sum([np.sin(a[k]*t) for k in range(0,len(a))],axis=0)   \n",
    "test2 = np.linalg.norm(sum_sine_plot([1,1,1,1],4) - np.column_stack([t,y])) < epsilon\n",
    "print(test1,test2)"
   ]
  },
  {
   "cell_type": "code",
   "execution_count": 13,
   "metadata": {},
   "outputs": [
    {
     "data": {
      "image/png": "[encoded data removed]",
      "text/plain": [
       "<matplotlib.figure.Figure at 0x1096674e0>"
      ]
     },
     "metadata": {},
     "output_type": "display_data"
    }
   ],
   "source": [
    "sum_sine_plot([2,10,20],1000);"
   ]
  }
 ],
 "metadata": {
  "kernelspec": {
   "display_name": "Python 3",
   "language": "python",
   "name": "python3"
  },
  "language_info": {
   "codemirror_mode": {
    "name": "ipython",
    "version": 3
   },
   "file_extension": ".py",
   "mimetype": "text/x-python",
   "name": "python",
   "nbconvert_exporter": "python",
   "pygments_lexer": "ipython3",
   "version": "3.6.4"
  }
 },
 "nbformat": 4,
 "nbformat_minor": 2
}
