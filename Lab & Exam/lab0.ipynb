{
 "cells": [
  {
   "cell_type": "code",
   "execution_count": 3,
   "metadata": {},
   "outputs": [],
   "source": [
    "def area_triangle(vertices):\n",
    "    \"Compute the area of the triangle area\"\n",
    "    # Compute distance from vertex 0 to 1\n",
    "    a_x = abs(vertices[0][0] - vertices[1][0])\n",
    "    a_y = abs(vertices[0][1] - vertices[1][1])\n",
    "    a = (a_x**2 + a_y **2)**0.5\n",
    "    \n",
    "    # Compute distance from vertex 1 to 2\n",
    "    b_x = abs(vertices[1][0] - vertices[2][0])\n",
    "    b_y = abs(vertices[1][1] - vertices[2][1])\n",
    "    b = (b_x**2 + b_y **2)**0.5\n",
    "    \n",
    "    # Compute distance from vertex 0 to 2\n",
    "    c_x = abs(vertices[0][0] - vertices[2][0])\n",
    "    c_y = abs(vertices[0][1] - vertices[2][1])\n",
    "    c = (c_x**2 + c_y **2)**0.5\n",
    "    \n",
    "    # Compute area\n",
    "    s = (a+b+c)/2\n",
    "    A = (s*(s-a)*(s-b)*(s-c))**0.5\n",
    "    \n",
    "    return A"
   ]
  },
  {
   "cell_type": "code",
   "execution_count": 5,
   "metadata": {},
   "outputs": [
    {
     "data": {
      "text/plain": [
       "5.5"
      ]
     },
     "execution_count": 5,
     "metadata": {},
     "output_type": "execute_result"
    }
   ],
   "source": [
    "area_triangle([(0,0),(1,5),(3,4)])"
   ]
  },
  {
   "cell_type": "code",
   "execution_count": null,
   "metadata": {},
   "outputs": [],
   "source": []
  }
 ],
 "metadata": {
  "kernelspec": {
   "display_name": "Python 3",
   "language": "python",
   "name": "python3"
  },
  "language_info": {
   "codemirror_mode": {
    "name": "ipython",
    "version": 3
   },
   "file_extension": ".py",
   "mimetype": "text/x-python",
   "name": "python",
   "nbconvert_exporter": "python",
   "pygments_lexer": "ipython3",
   "version": "3.6.4"
  }
 },
 "nbformat": 4,
 "nbformat_minor": 2
}
