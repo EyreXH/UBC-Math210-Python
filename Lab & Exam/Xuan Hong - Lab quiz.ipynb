{
 "cells": [
  {
   "cell_type": "markdown",
   "metadata": {},
   "source": [
    "# Lab Quiz\n",
    "## Xuan Hong 60135167"
   ]
  },
  {
   "cell_type": "markdown",
   "metadata": {},
   "source": [
    "## Qusetion 1"
   ]
  },
  {
   "cell_type": "code",
   "execution_count": 5,
   "metadata": {},
   "outputs": [],
   "source": [
    "def d_solution(d,a,b):\n",
    "    \"Compute the integer solution of the function.\"\n",
    "    # initialize the list\n",
    "    solutions = []\n",
    "    # test the case\n",
    "    for x in range(0,a+1):\n",
    "        for y in range(0,b+1):\n",
    "            if x**2 - d * y**2 == 1:\n",
    "                solutions.append((x,y))\n",
    "    return solutions"
   ]
  },
  {
   "cell_type": "code",
   "execution_count": 6,
   "metadata": {},
   "outputs": [
    {
     "data": {
      "text/plain": [
       "[(1, 0), (3, 2)]"
      ]
     },
     "execution_count": 6,
     "metadata": {},
     "output_type": "execute_result"
    }
   ],
   "source": [
    "d_solution(2,3,3)"
   ]
  },
  {
   "cell_type": "markdown",
   "metadata": {},
   "source": [
    "## Question 2"
   ]
  },
  {
   "cell_type": "code",
   "execution_count": 46,
   "metadata": {},
   "outputs": [],
   "source": [
    "def poly_add(p,q):\n",
    "    \"Compute the sum of the coefficients of two polynomial functions\"\n",
    "    # initialize the list\n",
    "    add_list =[]\n",
    "    # divide case into p<=q or p>q\n",
    "    if p <= q:\n",
    "        for i in range(0,len(p)):\n",
    "            # count the same power part\n",
    "            add_n = p[i]+q[i]\n",
    "            add_list.append(add_n) \n",
    "        # add longer part\n",
    "        add_list.extend(q[len(p):])\n",
    "        return add_list\n",
    "    # when p>q, do a loop\n",
    "    else: \n",
    "        return poly_add(q,p)"
   ]
  },
  {
   "cell_type": "code",
   "execution_count": 47,
   "metadata": {},
   "outputs": [
    {
     "data": {
      "text/plain": [
       "[5, 7, 9, 7, 8]"
      ]
     },
     "execution_count": 47,
     "metadata": {},
     "output_type": "execute_result"
    }
   ],
   "source": [
    "poly_add([1,2,3],[4,5,6,7,8])"
   ]
  },
  {
   "cell_type": "markdown",
   "metadata": {},
   "source": [
    "## Question 3"
   ]
  },
  {
   "cell_type": "code",
   "execution_count": 50,
   "metadata": {},
   "outputs": [],
   "source": [
    "def n_sequence(x0,a,N):\n",
    "    \"Compute the result of the Nth x in the sequence\"\n",
    "    # divide the case\n",
    "    if N == 0:\n",
    "        return x0\n",
    "    # initialize the list\n",
    "    x_list = [x0]\n",
    "    # compute the next x\n",
    "    for i in range(0,N+1):\n",
    "        x_n1 = x_list[i]-(((x_list[i]**2)-a)/(2*x_list[i]))\n",
    "        x_list.append(x_n1)\n",
    "    return x_list[N]"
   ]
  },
  {
   "cell_type": "code",
   "execution_count": 51,
   "metadata": {},
   "outputs": [
    {
     "data": {
      "text/plain": [
       "4.47213595499958"
      ]
     },
     "execution_count": 51,
     "metadata": {},
     "output_type": "execute_result"
    }
   ],
   "source": [
    "n_sequence(2,20,50)"
   ]
  },
  {
   "cell_type": "code",
   "execution_count": 52,
   "metadata": {},
   "outputs": [],
   "source": [
    "import numpy as np\n",
    "import sympy as sp\n",
    "import matplotlib.pyplot as plt\n",
    "%matplotlib inline"
   ]
  },
  {
   "cell_type": "markdown",
   "metadata": {},
   "source": [
    "## Question 4\n",
    "\n",
    "(a)\n",
    "\n",
    "$$\n",
    "\\sin ^2 (x) = \\sum_{k=1}^\\infty (-1)^{k+1} \\frac{x^{2k-1}x^{2k}}{(2k)!}\n",
    "$$\n",
    "\n",
    "(b)"
   ]
  },
  {
   "cell_type": "code",
   "execution_count": 54,
   "metadata": {},
   "outputs": [],
   "source": [
    "def k_sum(x,N):\n",
    "    \"Compute the sum of the k function up to N\"\n",
    "    for k in range(1,N+1):\n",
    "        result = np.sum((-1)**(k+1) * (((2**(2*k-1))*(x**(2*k))/(sp.factorial(2*k)))))\n",
    "    return result"
   ]
  },
  {
   "cell_type": "code",
   "execution_count": 55,
   "metadata": {},
   "outputs": [
    {
     "data": {
      "text/plain": [
       "-305175781250/14849255421"
      ]
     },
     "execution_count": 55,
     "metadata": {},
     "output_type": "execute_result"
    }
   ],
   "source": [
    "k_sum(5,10)"
   ]
  },
  {
   "cell_type": "markdown",
   "metadata": {},
   "source": [
    "## Question 5"
   ]
  },
  {
   "cell_type": "code",
   "execution_count": 44,
   "metadata": {},
   "outputs": [],
   "source": [
    "def sum_sine_plot(a,m):\n",
    "    \"Compute th sum of the sin function and show the plot\"\n",
    "    # set t\n",
    "    t = np.linspace(0,2*np.pi,m+1)\n",
    "    #compute y_t\n",
    "    y_t = np.sum(np.sin(ak*t) for ak in a)\n",
    "    # plot the graph\n",
    "    plt.plot(t,y_t)\n",
    "    plt.show\n",
    "    P = np.array([t,y_t]).T\n",
    "    return P"
   ]
  },
  {
   "cell_type": "code",
   "execution_count": 45,
   "metadata": {},
   "outputs": [
    {
     "data": {
      "text/plain": [
       "array([[  0.00000000e+00,   0.00000000e+00],\n",
       "       [  6.28318531e-02,   1.63529609e+00],\n",
       "       [  1.25663706e-01,   2.92616945e+00],\n",
       "       [  1.88495559e-01,   3.63260802e+00],\n",
       "       [  2.51327412e-01,   3.68742980e+00],\n",
       "       [  3.14159265e-01,   3.20581924e+00],\n",
       "       [  3.76991118e-01,   2.43439910e+00],\n",
       "       [  4.39822972e-01,   1.65984740e+00],\n",
       "       [  5.02654825e-01,   1.11095884e+00],\n",
       "       [  5.65486678e-01,   8.89204868e-01],\n",
       "       [  6.28318531e-01,   9.51056516e-01],\n",
       "       [  6.91150384e-01,   1.14524749e+00],\n",
       "       [  7.53982237e-01,   1.28748331e+00],\n",
       "       [  8.16814090e-01,   1.24166345e+00],\n",
       "       [  8.79645943e-01,   9.75436427e-01],\n",
       "       [  9.42477796e-01,   5.69090505e-01],\n",
       "       [  1.00530965e+00,   1.75865623e-01],\n",
       "       [  1.06814150e+00,  -4.87596188e-02],\n",
       "       [  1.13097336e+00,  -1.89916845e-02],\n",
       "       [  1.19380521e+00,   2.38272248e-01],\n",
       "       [  1.25663706e+00,   5.87785252e-01],\n",
       "       [  1.31946891e+00,   8.36968608e-01],\n",
       "       [  1.38230077e+00,   8.13948509e-01],\n",
       "       [  1.44513262e+00,   4.41562922e-01],\n",
       "       [  1.50796447e+00,  -2.22939301e-01],\n",
       "       [  1.57079633e+00,  -1.00000000e+00],\n",
       "       [  1.63362818e+00,  -1.64917627e+00],\n",
       "       [  1.69646003e+00,  -1.95792988e+00],\n",
       "       [  1.75929189e+00,  -1.82441363e+00],\n",
       "       [  1.82212374e+00,  -1.30210924e+00],\n",
       "       [  1.88495559e+00,  -5.87785252e-01],\n",
       "       [  1.94778745e+00,   4.47485405e-02],\n",
       "       [  2.01061930e+00,   3.42094862e-01],\n",
       "       [  2.07345115e+00,   1.64697563e-01],\n",
       "       [  2.13628300e+00,  -4.58217977e-01],\n",
       "       [  2.19911486e+00,  -1.33302253e+00],\n",
       "       [  2.26194671e+00,  -2.16470858e+00],\n",
       "       [  2.32477856e+00,  -2.65650304e+00],\n",
       "       [  2.38761042e+00,  -2.61068318e+00],\n",
       "       [  2.45044227e+00,  -1.99489752e+00],\n",
       "       [  2.51327412e+00,  -9.51056516e-01],\n",
       "       [  2.57610598e+00,   2.55121268e-01],\n",
       "       [  2.63893783e+00,   1.32441602e+00],\n",
       "       [  2.70176968e+00,   2.02093395e+00],\n",
       "       [  2.76460154e+00,   2.24087539e+00],\n",
       "       [  2.82743339e+00,   2.03024874e+00],\n",
       "       [  2.89026524e+00,   1.54835195e+00],\n",
       "       [  2.95309709e+00,   9.94245882e-01],\n",
       "       [  3.01592895e+00,   5.26676644e-01],\n",
       "       [  3.07876080e+00,   2.09059115e-01],\n",
       "       [  3.14159265e+00,  -2.29714122e-15],\n",
       "       [  3.20442451e+00,  -2.09059115e-01],\n",
       "       [  3.26725636e+00,  -5.26676644e-01],\n",
       "       [  3.33008821e+00,  -9.94245882e-01],\n",
       "       [  3.39292007e+00,  -1.54835195e+00],\n",
       "       [  3.45575192e+00,  -2.03024874e+00],\n",
       "       [  3.51858377e+00,  -2.24087539e+00],\n",
       "       [  3.58141563e+00,  -2.02093395e+00],\n",
       "       [  3.64424748e+00,  -1.32441602e+00],\n",
       "       [  3.70707933e+00,  -2.55121268e-01],\n",
       "       [  3.76991118e+00,   9.51056516e-01],\n",
       "       [  3.83274304e+00,   1.99489752e+00],\n",
       "       [  3.89557489e+00,   2.61068318e+00],\n",
       "       [  3.95840674e+00,   2.65650304e+00],\n",
       "       [  4.02123860e+00,   2.16470858e+00],\n",
       "       [  4.08407045e+00,   1.33302253e+00],\n",
       "       [  4.14690230e+00,   4.58217977e-01],\n",
       "       [  4.20973416e+00,  -1.64697563e-01],\n",
       "       [  4.27256601e+00,  -3.42094862e-01],\n",
       "       [  4.33539786e+00,  -4.47485405e-02],\n",
       "       [  4.39822972e+00,   5.87785252e-01],\n",
       "       [  4.46106157e+00,   1.30210924e+00],\n",
       "       [  4.52389342e+00,   1.82441363e+00],\n",
       "       [  4.58672527e+00,   1.95792988e+00],\n",
       "       [  4.64955713e+00,   1.64917627e+00],\n",
       "       [  4.71238898e+00,   1.00000000e+00],\n",
       "       [  4.77522083e+00,   2.22939301e-01],\n",
       "       [  4.83805269e+00,  -4.41562922e-01],\n",
       "       [  4.90088454e+00,  -8.13948509e-01],\n",
       "       [  4.96371639e+00,  -8.36968608e-01],\n",
       "       [  5.02654825e+00,  -5.87785252e-01],\n",
       "       [  5.08938010e+00,  -2.38272248e-01],\n",
       "       [  5.15221195e+00,   1.89916845e-02],\n",
       "       [  5.21504380e+00,   4.87596188e-02],\n",
       "       [  5.27787566e+00,  -1.75865623e-01],\n",
       "       [  5.34070751e+00,  -5.69090505e-01],\n",
       "       [  5.40353936e+00,  -9.75436427e-01],\n",
       "       [  5.46637122e+00,  -1.24166345e+00],\n",
       "       [  5.52920307e+00,  -1.28748331e+00],\n",
       "       [  5.59203492e+00,  -1.14524749e+00],\n",
       "       [  5.65486678e+00,  -9.51056516e-01],\n",
       "       [  5.71769863e+00,  -8.89204868e-01],\n",
       "       [  5.78053048e+00,  -1.11095884e+00],\n",
       "       [  5.84336234e+00,  -1.65984740e+00],\n",
       "       [  5.90619419e+00,  -2.43439910e+00],\n",
       "       [  5.96902604e+00,  -3.20581924e+00],\n",
       "       [  6.03185789e+00,  -3.68742980e+00],\n",
       "       [  6.09468975e+00,  -3.63260802e+00],\n",
       "       [  6.15752160e+00,  -2.92616945e+00],\n",
       "       [  6.22035345e+00,  -1.63529609e+00],\n",
       "       [  6.28318531e+00,  -6.61309272e-15]])"
      ]
     },
     "execution_count": 45,
     "metadata": {},
     "output_type": "execute_result"
    },
    {
     "data": {
      "image/png": "[encoded data removed]",
      "text/plain": [
       "<matplotlib.figure.Figure at 0x7fda19f09588>"
      ]
     },
     "metadata": {},
     "output_type": "display_data"
    }
   ],
   "source": [
    "sum_sine_plot([10,2,3,5,7],100)"
   ]
  },
  {
   "cell_type": "code",
   "execution_count": null,
   "metadata": {},
   "outputs": [],
   "source": []
  }
 ],
 "metadata": {
  "kernelspec": {
   "display_name": "Python 3",
   "language": "python",
   "name": "python3"
  },
  "language_info": {
   "codemirror_mode": {
    "name": "ipython",
    "version": 3
   },
   "file_extension": ".py",
   "mimetype": "text/x-python",
   "name": "python",
   "nbconvert_exporter": "python",
   "pygments_lexer": "ipython3",
   "version": "3.6.4"
  }
 },
 "nbformat": 4,
 "nbformat_minor": 2
}
