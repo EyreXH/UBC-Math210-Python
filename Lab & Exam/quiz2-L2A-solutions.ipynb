{
 "cells": [
  {
   "cell_type": "markdown",
   "metadata": {},
   "source": [
    "# MATH 210 Lab Quiz 2 L2A\n",
    "\n",
    "## Solutions"
   ]
  },
  {
   "cell_type": "code",
   "execution_count": 1,
   "metadata": {
    "collapsed": true
   },
   "outputs": [],
   "source": [
    "import numpy as np\n",
    "import matplotlib.pyplot as plt\n",
    "import scipy.integrate as spi\n",
    "import scipy.linalg as la\n",
    "%matplotlib inline"
   ]
  },
  {
   "cell_type": "markdown",
   "metadata": {},
   "source": [
    "**Question 1(a)**"
   ]
  },
  {
   "cell_type": "code",
   "execution_count": 2,
   "metadata": {},
   "outputs": [
    {
     "data": {
      "image/png": "[encoded data removed]",
      "text/plain": [
       "<matplotlib.figure.Figure at 0x10f799898>"
      ]
     },
     "metadata": {},
     "output_type": "display_data"
    }
   ],
   "source": [
    "x = np.linspace(0,1,100)\n",
    "y = -4*x**4 * np.sin(x**2) + 10*x**2 * np.cos(x**2) + 2 * np.sin(x**2)\n",
    "plt.plot(x,y,'b',[0,1],[5.4,5.4],'r');"
   ]
  },
  {
   "cell_type": "markdown",
   "metadata": {},
   "source": [
    "**Question 1(b)**"
   ]
  },
  {
   "cell_type": "code",
   "execution_count": 3,
   "metadata": {
    "collapsed": true
   },
   "outputs": [],
   "source": [
    "def f_int(abs_tolerance):\n",
    "    '''Compute an approximation of \\int_0^1 x^2 \\sin(x^2) dx using the trapezoid rule.\n",
    "    \n",
    "    Parameters\n",
    "    ----------\n",
    "    abs_tolerance : number, the approximation is within abs_tolerance of the true value of the integral\n",
    "    \n",
    "    Returns\n",
    "    -------\n",
    "    An approximation of the integral \\int_0^1 x^2 \\sin(x^2) dx using the trapezoid rule. The second\n",
    "    derivative of x^2 \\sin(x^2) is bounded by 5.4 on the interval [0,1]. Therefore we choose\n",
    "    N = int(np.sqrt(M/(12*abs_tolerance)))+1 subintervals of [0,1] to guarantee the error is less\n",
    "    than abs_tolerance.\n",
    "    '''\n",
    "    M = 5.5\n",
    "    N = int(np.sqrt(M/(12*abs_tolerance)))+1\n",
    "    x = np.linspace(0,1,N+1)\n",
    "    y = x**2 * np.sin(x**2)\n",
    "    I = spi.trapz(y,x)\n",
    "    return I"
   ]
  },
  {
   "cell_type": "markdown",
   "metadata": {},
   "source": [
    "**Question 2**"
   ]
  },
  {
   "cell_type": "code",
   "execution_count": 4,
   "metadata": {
    "collapsed": true
   },
   "outputs": [],
   "source": [
    "def numeric_diff(y):\n",
    "    '''Compute the numeric derivative of an array.\n",
    "    \n",
    "    Parameters\n",
    "    ----------\n",
    "    y : 1D NumPy array\n",
    "    \n",
    "    Returns\n",
    "    -------\n",
    "    1D NumPy array d of the same length as y (len(y) = N+1). Entries (away from endpoints) are\n",
    "    given by the difference formula: d[k] = (y[k+1] - y[k-1])/2. Endpoints are backwards/forwards\n",
    "    difference formulas: d[0] = y[1] - y[0], d[N] = y[N] - y[N-1]\n",
    "    '''\n",
    "    N = len(y) - 1\n",
    "    D = (y[2:] - y[:-2])/2\n",
    "    D0 = y[1] - y[0]\n",
    "    DN = y[N] - y[N-1]\n",
    "    D = np.hstack([[D0],D,[DN]])\n",
    "    return D"
   ]
  },
  {
   "cell_type": "markdown",
   "metadata": {},
   "source": [
    "**Question 3**"
   ]
  },
  {
   "cell_type": "code",
   "execution_count": 5,
   "metadata": {
    "collapsed": true
   },
   "outputs": [],
   "source": [
    "def pq_integral(p,q,b,N):\n",
    "    '''Approximate the integral of exp(-p*x**2)/(1 + q**2*x**2) from 0 to b using Simpsons rule.\n",
    "    \n",
    "    Parameters\n",
    "    ----------\n",
    "    p,q : numbers, parameters in the integrand\n",
    "    b : number, upper limit of integration\n",
    "    N : integer, 2N subintervals are used in Simpsons rule\n",
    "    Returns\n",
    "    -------\n",
    "    Approximation of the integral exp(-p*x**2)/(1 + q**2*x**2) from 0 to b using Simpsons rule\n",
    "    with 2N subintervals.\n",
    "    '''\n",
    "    x = np.linspace(0,b,2*N+1)\n",
    "    y = np.exp(-p*x**2)/(1 + q**2*x**2)\n",
    "    I = spi.simps(y,x)\n",
    "    return I"
   ]
  },
  {
   "cell_type": "markdown",
   "metadata": {},
   "source": [
    "**Question 4**"
   ]
  },
  {
   "cell_type": "code",
   "execution_count": 6,
   "metadata": {
    "collapsed": true
   },
   "outputs": [],
   "source": [
    "def max_eigval(A):\n",
    "    '''Compute the maximum eigenvalue of (A + A^T)^2.'''\n",
    "    if A.ndim != 2:\n",
    "        print('Matrix A must be square')\n",
    "        return None\n",
    "    nrows, ncols = A.shape\n",
    "    if nrows != ncols:\n",
    "        print('Matrix A must be square')\n",
    "        return None\n",
    "    S = (A + A.T) @ (A + A.T)\n",
    "    evals, evecs = la.eig(S)\n",
    "    evals = evals.real\n",
    "    return np.max(evals)"
   ]
  },
  {
   "cell_type": "markdown",
   "metadata": {},
   "source": [
    "**Question 5**"
   ]
  },
  {
   "cell_type": "code",
   "execution_count": 7,
   "metadata": {
    "collapsed": true
   },
   "outputs": [],
   "source": [
    "def solve_D(n,b):\n",
    "    '''Solve the system (Dn^2 - In)x = b where Dn is the matrix n + 1 square matrix\n",
    "    \n",
    "    Dn[0,0] = −2\n",
    "    Dn[0,1] = 2\n",
    "    Dn[i,i+1] = 1, for i=1,...,n−1\n",
    "    Dn[i+1,i] = −1, for i=0,...,n−2\n",
    "    Dn[n,n−1] = −2\n",
    "    Dn[n,n] = 2\n",
    "    \n",
    "    Parameters\n",
    "    ----------\n",
    "    n : integer, the matrix Dn is square of size n+1\n",
    "    b : 2D NumPy array of size 1 by n+1, the right side of the system (Dn^2 - In)x = b\n",
    "    \n",
    "    Returns\n",
    "    -------\n",
    "    Solution of the system (Dn^2 - In)x = b as a 2D NumPy array.\n",
    "    '''\n",
    "    D = np.zeros((n+1,n+1))\n",
    "    D[0,0] = -2\n",
    "    D[0,1] = 2\n",
    "    D[n,n-1] = -2\n",
    "    D[n,n] = 2\n",
    "    for i in range(1,n):\n",
    "        D[i,i+1] = 1\n",
    "    for j in range(0,n-1):\n",
    "        D[j+1,j] = -1\n",
    "    I = np.eye(n+1)\n",
    "    x = la.solve(D @ D - I,b)\n",
    "    return x"
   ]
  }
 ],
 "metadata": {
  "kernelspec": {
   "display_name": "Python 3",
   "language": "python",
   "name": "python3"
  },
  "language_info": {
   "codemirror_mode": {
    "name": "ipython",
    "version": 3
   },
   "file_extension": ".py",
   "mimetype": "text/x-python",
   "name": "python",
   "nbconvert_exporter": "python",
   "pygments_lexer": "ipython3",
   "version": "3.5.3"
  }
 },
 "nbformat": 4,
 "nbformat_minor": 2
}
