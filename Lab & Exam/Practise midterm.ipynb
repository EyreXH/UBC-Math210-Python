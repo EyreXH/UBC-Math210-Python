{
 "cells": [
  {
   "cell_type": "code",
   "execution_count": 12,
   "metadata": {},
   "outputs": [
    {
     "name": "stdout",
     "output_type": "stream",
     "text": [
      "9198\n"
     ]
    }
   ],
   "source": [
    "def fun1(N,k):\n",
    "    divs = [1,N]\n",
    "    for d in range(2,N):\n",
    "        if  N % d == 0:\n",
    "            divs.append(d)\n",
    "    result = sum([d**k for d in divs])\n",
    "    return result\n",
    "\n",
    "y = fun1(20,3)\n",
    "print(y)"
   ]
  },
  {
   "cell_type": "code",
   "execution_count": 13,
   "metadata": {},
   "outputs": [
    {
     "name": "stdout",
     "output_type": "stream",
     "text": [
      "-840\n"
     ]
    }
   ],
   "source": [
    "def fun2(numbers):\n",
    "    result = 1\n",
    "    for n in numbers:\n",
    "        result = result * n\n",
    "    return result\n",
    "\n",
    "y = fun2([-1,3,4,7,-2,-5])\n",
    "print(y)"
   ]
  },
  {
   "cell_type": "code",
   "execution_count": 33,
   "metadata": {},
   "outputs": [
    {
     "name": "stdout",
     "output_type": "stream",
     "text": [
      "-1.2411956787109375\n"
     ]
    }
   ],
   "source": [
    "def fun3(a,N):\n",
    "    z = a\n",
    "    for n in range(0,N):\n",
    "        z = z**2 -2\n",
    "    return z\n",
    "    \n",
    "y = fun3(0.5,4)\n",
    "print(y)"
   ]
  },
  {
   "cell_type": "code",
   "execution_count": 15,
   "metadata": {},
   "outputs": [
    {
     "name": "stdout",
     "output_type": "stream",
     "text": [
      "0.9091\n"
     ]
    }
   ],
   "source": [
    "def fun4(a,x):\n",
    "    terms = [a[k]*x**k for k in range(0,len(a))]\n",
    "    return sum(terms)\n",
    "\n",
    "y = fun4([1,-1,1,-1,1],0.1)\n",
    "print(y)"
   ]
  },
  {
   "cell_type": "code",
   "execution_count": 16,
   "metadata": {},
   "outputs": [
    {
     "name": "stdout",
     "output_type": "stream",
     "text": [
      "6\n"
     ]
    }
   ],
   "source": [
    "def fun5(a,N):\n",
    "    xn = a\n",
    "    for n in range(1,N):\n",
    "        if xn % 5 == 0:\n",
    "            xn = xn//5\n",
    "        else:\n",
    "            xn = a + 3\n",
    "    return xn\n",
    "\n",
    "y = fun5(27,5)\n",
    "print(y)"
   ]
  },
  {
   "cell_type": "code",
   "execution_count": 18,
   "metadata": {},
   "outputs": [
    {
     "name": "stdout",
     "output_type": "stream",
     "text": [
      "[(2, 3)]\n"
     ]
    }
   ],
   "source": [
    "def fun6(N):\n",
    "    solutions = []\n",
    "    for x in range(1,round((N/2)**0.5)+1):\n",
    "        for y in range(x,N):\n",
    "            if x**2 + y**2 == N:\n",
    "                solutions.append((x,y))\n",
    "    return solutions\n",
    "\n",
    "y = fun6(13)\n",
    "print(y)"
   ]
  },
  {
   "cell_type": "code",
   "execution_count": 19,
   "metadata": {},
   "outputs": [
    {
     "name": "stdout",
     "output_type": "stream",
     "text": [
      "[ 0.98961584  0.92808632  0.80885289  0.6393289 ]\n"
     ]
    }
   ],
   "source": [
    "import numpy as np\n",
    "\n",
    "def fun7(a,b,N):\n",
    "    x = np.linspace(a,b,N+1)\n",
    "    y = np.sin(x)\n",
    "    h = (b - a)/N\n",
    "    df = (y[1:] - y[:-1])/h\n",
    "    return df\n",
    "\n",
    "y = fun7(0,1,4)\n",
    "print(y)"
   ]
  },
  {
   "cell_type": "code",
   "execution_count": 1,
   "metadata": {},
   "outputs": [
    {
     "name": "stdout",
     "output_type": "stream",
     "text": [
      "1.2616018009550374\n"
     ]
    }
   ],
   "source": [
    "def fun8(a,x0,tol,max_iter):\n",
    "    xn = x0\n",
    "    if abs(xn**3 - a) < tol:\n",
    "        return xn\n",
    "    for n in range(1,max_iter):\n",
    "        xn = xn - (xn**3 - a)/(3*xn**2)\n",
    "        if abs(xn**3 - a) < tol:\n",
    "            return xn\n",
    "    return None\n",
    "\n",
    "y = fun8(2,3,0.01,10)\n",
    "print(y)"
   ]
  },
  {
   "cell_type": "code",
   "execution_count": 31,
   "metadata": {},
   "outputs": [
    {
     "data": {
      "image/png": "[encoded data removed]",
      "text/plain": [
       "<matplotlib.figure.Figure at 0x7f97d717e9e8>"
      ]
     },
     "metadata": {},
     "output_type": "display_data"
    }
   ],
   "source": [
    "import numpy as np\n",
    "import matplotlib.pyplot as plt\n",
    "%matplotlib inline\n",
    "\n",
    "x = np.linspace(-2,2,1000)\n",
    "y = (x + 1)*(x - 1)\n",
    "plt.plot(x,y)\n",
    "plt.show()"
   ]
  },
  {
   "cell_type": "code",
   "execution_count": 32,
   "metadata": {},
   "outputs": [
    {
     "data": {
      "image/png": "[encoded data removed]",
      "text/plain": [
       "<matplotlib.figure.Figure at 0x7f97d47a80b8>"
      ]
     },
     "metadata": {},
     "output_type": "display_data"
    }
   ],
   "source": [
    "import numpy as np\n",
    "import matplotlib.pyplot as plt\n",
    "%matplotlib inline\n",
    "\n",
    "t = np.linspace(0,np.pi,100)\n",
    "x = np.cos(t)\n",
    "y = np.sin(t)\n",
    "plt.plot(x,y)\n",
    "plt.show()"
   ]
  },
  {
   "cell_type": "code",
   "execution_count": 9,
   "metadata": {},
   "outputs": [],
   "source": [
    "import numpy as np\n",
    "def exp_sin_integral(a,b,n,w,N):\n",
    "    x = np.linspace(0,w,N + 1)\n",
    "    h = w/N\n",
    "    mx = (x[1:] + x[:-1])/2 \n",
    "    terms = (np.e**(a*mx)) * (np.sin(b*mx)**n)\n",
    "    result = h*np.sum(terms)\n",
    "    return result"
   ]
  },
  {
   "cell_type": "code",
   "execution_count": 15,
   "metadata": {},
   "outputs": [],
   "source": [
    "import numpy as np\n",
    "def exp_sin_integral(a,b,n,w,N):\n",
    "    x = np.linspace(0,w,N + 1)\n",
    "    h = w/N\n",
    "    mx = [(x[i] + x[i-1])/2 for i in range(1,len(x))]\n",
    "    terms = [(np.e**(a*k)) * (np.sin(b*k)**n) for k in mx]\n",
    "    result = h*np.sum(terms)\n",
    "    return result"
   ]
  },
  {
   "cell_type": "code",
   "execution_count": 16,
   "metadata": {},
   "outputs": [
    {
     "data": {
      "text/plain": [
       "2.0000008224672703"
      ]
     },
     "execution_count": 16,
     "metadata": {},
     "output_type": "execute_result"
    }
   ],
   "source": [
    "exp_sin_integral(0,1,1,np.pi,1000)"
   ]
  },
  {
   "cell_type": "code",
   "execution_count": 20,
   "metadata": {},
   "outputs": [
    {
     "data": {
      "text/plain": [
       "2.0"
      ]
     },
     "execution_count": 20,
     "metadata": {},
     "output_type": "execute_result"
    }
   ],
   "source": [
    "-(np.cos(np.pi)-np.cos(0))"
   ]
  },
  {
   "cell_type": "code",
   "execution_count": null,
   "metadata": {},
   "outputs": [],
   "source": []
  }
 ],
 "metadata": {
  "kernelspec": {
   "display_name": "Python 3",
   "language": "python",
   "name": "python3"
  },
  "language_info": {
   "codemirror_mode": {
    "name": "ipython",
    "version": 3
   },
   "file_extension": ".py",
   "mimetype": "text/x-python",
   "name": "python",
   "nbconvert_exporter": "python",
   "pygments_lexer": "ipython3",
   "version": "3.6.4"
  }
 },
 "nbformat": 4,
 "nbformat_minor": 2
}
